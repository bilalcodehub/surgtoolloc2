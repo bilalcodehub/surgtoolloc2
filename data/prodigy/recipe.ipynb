{
 "cells": [
  {
   "cell_type": "code",
   "execution_count": 60,
   "id": "649cc209-2017-4345-8659-a3ffc88ec737",
   "metadata": {},
   "outputs": [],
   "source": [
    "#|default_exp recipe"
   ]
  },
  {
   "cell_type": "code",
   "execution_count": 61,
   "id": "f5a6ee6f-2c09-4230-b8af-3f8f4b004c40",
   "metadata": {},
   "outputs": [],
   "source": [
    "#|export\n",
    "import prodigy\n",
    "from prodigy.components.loaders import Images"
   ]
  },
  {
   "cell_type": "code",
   "execution_count": 62,
   "id": "e02ce95f-bafb-4720-9c05-46ab87f73c5c",
   "metadata": {},
   "outputs": [],
   "source": [
    "from nbdev.export import nb_export"
   ]
  },
  {
   "cell_type": "code",
   "execution_count": 66,
   "id": "53f27bd4-7dba-486c-87e6-cdc61c481260",
   "metadata": {},
   "outputs": [],
   "source": [
    "#|export\n",
    "@prodigy.recipe((\"data-review-recipe\"))\n",
    "def data_review_recipe(dataset, images_path):    \n",
    "    \n",
    "    stream = Images(images_path)\n",
    "   \n",
    "    tools = [\n",
    "        \"needle_driver\",\n",
    "        \"monopolar_curved_scissor\",\n",
    "        \"force_bipolar\",\n",
    "        \"clip_applier\",\n",
    "        \"tip_up_fenestrated_grasper\",\n",
    "        \"cadiere_forceps\",\n",
    "        \"bipolar_forceps\",\n",
    "        \"vessel_sealer\",\n",
    "        \"suction_irrigator\",\n",
    "        \"bipolar_dissector\",\n",
    "        \"prograsp_forceps\",\n",
    "        \"stapler\",\n",
    "        \"permanent_cautery_hook_spatula\",\n",
    "        \"grasping_retractor\",\n",
    "        \"nan\",\n",
    "        \"blank\",\n",
    "        \"out_of_view\"\n",
    "    ]\n",
    "\n",
    "    blocks = [\n",
    "        {\"view_id\":\"image\"},\n",
    "        {\"view_id\": \"text_input\", \"field_id\": \"arm_a\", \"field_placeholder\": \"Arm A\", \"field_suggestions\": tools},\n",
    "        {\"view_id\": \"text_input\", \"field_id\": \"arm_b\", \"field_placeholder\": \"Arm B\", \"field_suggestions\": tools},\n",
    "        {\"view_id\": \"text_input\", \"field_id\": \"arm_c\", \"field_placeholder\": \"Arm C\", \"field_suggestions\": tools},\n",
    "        {\"view_id\": \"text_input\", \"field_id\": \"arm_d\", \"field_placeholder\": \"Arm D\", \"field_suggestions\": tools},\n",
    "    ]\n",
    "\n",
    "    return {\n",
    "        \"view_id\": \"blocks\",\n",
    "        \"config\": {\"blocks\": blocks},\n",
    "        \"dataset\": dataset,\n",
    "\t\t\"stream\": stream,\n",
    "    }"
   ]
  },
  {
   "cell_type": "code",
   "execution_count": 67,
   "id": "866c2a5f-2ea9-484a-99bc-7067b072c1eb",
   "metadata": {},
   "outputs": [],
   "source": [
    "nb_export('recipe.ipynb', '.')"
   ]
  },
  {
   "cell_type": "code",
   "execution_count": null,
   "id": "7be5bdd6-a3f7-4e58-821d-431bea0f6ad6",
   "metadata": {},
   "outputs": [
    {
     "name": "stdout",
     "output_type": "stream",
     "text": [
      "\n",
      "✨  Starting the web server at http://localhost:8080 ...\n",
      "Open the app in your browser and start annotating!\n",
      "\n"
     ]
    }
   ],
   "source": [
    "!prodigy data-review-recipe datareview ../train_images/clip_000000 -F recipe.py"
   ]
  },
  {
   "cell_type": "code",
   "execution_count": null,
   "id": "ac3d5f94-8b73-461b-a79a-41552bd227c6",
   "metadata": {},
   "outputs": [],
   "source": [
    "Path('../train_images/clip_000000')"
   ]
  },
  {
   "cell_type": "code",
   "execution_count": 20,
   "id": "f48c79fb-f410-4d9e-ad96-d04675e434bf",
   "metadata": {},
   "outputs": [
    {
     "data": {
      "text/plain": [
       "[{'id': 'needle_driver', 'text': 'needle_driver'},\n",
       " {'id': 'monopolar_curved_scissor', 'text': 'monopolar_curved_scissor'},\n",
       " {'id': 'force_bipolar', 'text': 'force_bipolar'},\n",
       " {'id': 'clip_applier', 'text': 'clip_applier'},\n",
       " {'id': 'tip_up_fenestrated_grasper', 'text': 'tip_up_fenestrated_grasper'},\n",
       " {'id': 'cadiere_forceps', 'text': 'cadiere_forceps'},\n",
       " {'id': 'bipolar_forceps', 'text': 'bipolar_forceps'},\n",
       " {'id': 'vessel_sealer', 'text': 'vessel_sealer'},\n",
       " {'id': 'suction_irrigator', 'text': 'suction_irrigator'},\n",
       " {'id': 'bipolar_dissector', 'text': 'bipolar_dissector'},\n",
       " {'id': 'prograsp_forceps', 'text': 'prograsp_forceps'},\n",
       " {'id': 'stapler', 'text': 'stapler'},\n",
       " {'id': 'permanent_cautery_hook_spatula',\n",
       "  'text': 'permanent_cautery_hook_spatula'},\n",
       " {'id': 'grasping_retractor', 'text': 'grasping_retractor'},\n",
       " {'id': 'nan', 'text': 'nan'},\n",
       " {'id': 'blank', 'text': 'blank'}]"
      ]
     },
     "execution_count": 20,
     "metadata": {},
     "output_type": "execute_result"
    }
   ],
   "source": []
  },
  {
   "cell_type": "code",
   "execution_count": null,
   "id": "e6ec4f83-9c99-433c-ad34-e2f29e126940",
   "metadata": {},
   "outputs": [],
   "source": []
  }
 ],
 "metadata": {
  "kernelspec": {
   "display_name": "Python 3 (ipykernel)",
   "language": "python",
   "name": "python3"
  },
  "language_info": {
   "codemirror_mode": {
    "name": "ipython",
    "version": 3
   },
   "file_extension": ".py",
   "mimetype": "text/x-python",
   "name": "python",
   "nbconvert_exporter": "python",
   "pygments_lexer": "ipython3",
   "version": "3.9.13"
  }
 },
 "nbformat": 4,
 "nbformat_minor": 5
}
