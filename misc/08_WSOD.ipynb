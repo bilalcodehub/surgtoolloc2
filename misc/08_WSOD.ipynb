{
 "cells": [
  {
   "cell_type": "code",
   "execution_count": 1,
   "id": "b9052d3e-b97d-448d-8d20-69b2772ad5e4",
   "metadata": {},
   "outputs": [],
   "source": [
    "import os\n",
    "os.environ['CUDA_VISIBLE_DEVICES'] = \"0\""
   ]
  },
  {
   "cell_type": "markdown",
   "id": "7531e2ff-02f8-4bb9-8d0d-629de241cb8c",
   "metadata": {},
   "source": [
    "# Install and load all libraries"
   ]
  },
  {
   "cell_type": "code",
   "execution_count": 2,
   "id": "1ccc956c-34dd-439a-99d9-eaf25106260e",
   "metadata": {
    "tags": []
   },
   "outputs": [],
   "source": [
    "from utils import *"
   ]
  },
  {
   "cell_type": "markdown",
   "id": "de496b1b-c47d-4cc5-9d99-af4c615009a4",
   "metadata": {},
   "source": [
    "# Creating differe dataloaders"
   ]
  },
  {
   "cell_type": "code",
   "execution_count": 3,
   "id": "10e16d4b-b6c4-4e16-b762-c802790011bc",
   "metadata": {},
   "outputs": [],
   "source": [
    "learn = load_learner('models/06_archs-small-squish-convnext_large_in22k.pkl',cpu=False)\n",
    "learn.model.eval();"
   ]
  },
  {
   "cell_type": "code",
   "execution_count": null,
   "id": "fda75c51-3744-4002-a45a-84a0960cf933",
   "metadata": {},
   "outputs": [],
   "source": [
    "x, = first(dls.test_dl(['data/train_images_tiny/clip_000003/00000.jpg'])); \n",
    "x.shape"
   ]
  },
  {
   "cell_type": "code",
   "execution_count": null,
   "id": "c755074e-c015-4fe4-89ac-72626d7e32fb",
   "metadata": {},
   "outputs": [],
   "source": [
    "cls,idx,prob=learn.predict('data/train_images_tiny/clip_000003/00000.jpg')"
   ]
  },
  {
   "cell_type": "code",
   "execution_count": 5,
   "id": "00669d7b-2c3b-4bad-9fc8-f727c69b1255",
   "metadata": {},
   "outputs": [
    {
     "data": {
      "text/plain": [
       "\u001b[0;31mSignature:\u001b[0m \u001b[0mlearn\u001b[0m\u001b[0;34m.\u001b[0m\u001b[0mpredict\u001b[0m\u001b[0;34m(\u001b[0m\u001b[0mitem\u001b[0m\u001b[0;34m,\u001b[0m \u001b[0mrm_type_tfms\u001b[0m\u001b[0;34m=\u001b[0m\u001b[0;32mNone\u001b[0m\u001b[0;34m,\u001b[0m \u001b[0mwith_input\u001b[0m\u001b[0;34m=\u001b[0m\u001b[0;32mFalse\u001b[0m\u001b[0;34m)\u001b[0m\u001b[0;34m\u001b[0m\u001b[0;34m\u001b[0m\u001b[0m\n",
       "\u001b[0;31mDocstring:\u001b[0m Prediction on `item`, fully decoded, loss function decoded and probabilities\n",
       "\u001b[0;31mSource:\u001b[0m   \n",
       "    \u001b[0;32mdef\u001b[0m \u001b[0mpredict\u001b[0m\u001b[0;34m(\u001b[0m\u001b[0mself\u001b[0m\u001b[0;34m,\u001b[0m \u001b[0mitem\u001b[0m\u001b[0;34m,\u001b[0m \u001b[0mrm_type_tfms\u001b[0m\u001b[0;34m=\u001b[0m\u001b[0;32mNone\u001b[0m\u001b[0;34m,\u001b[0m \u001b[0mwith_input\u001b[0m\u001b[0;34m=\u001b[0m\u001b[0;32mFalse\u001b[0m\u001b[0;34m)\u001b[0m\u001b[0;34m:\u001b[0m\u001b[0;34m\u001b[0m\n",
       "\u001b[0;34m\u001b[0m        \u001b[0mdl\u001b[0m \u001b[0;34m=\u001b[0m \u001b[0mself\u001b[0m\u001b[0;34m.\u001b[0m\u001b[0mdls\u001b[0m\u001b[0;34m.\u001b[0m\u001b[0mtest_dl\u001b[0m\u001b[0;34m(\u001b[0m\u001b[0;34m[\u001b[0m\u001b[0mitem\u001b[0m\u001b[0;34m]\u001b[0m\u001b[0;34m,\u001b[0m \u001b[0mrm_type_tfms\u001b[0m\u001b[0;34m=\u001b[0m\u001b[0mrm_type_tfms\u001b[0m\u001b[0;34m,\u001b[0m \u001b[0mnum_workers\u001b[0m\u001b[0;34m=\u001b[0m\u001b[0;36m0\u001b[0m\u001b[0;34m)\u001b[0m\u001b[0;34m\u001b[0m\n",
       "\u001b[0;34m\u001b[0m        \u001b[0minp\u001b[0m\u001b[0;34m,\u001b[0m\u001b[0mpreds\u001b[0m\u001b[0;34m,\u001b[0m\u001b[0m_\u001b[0m\u001b[0;34m,\u001b[0m\u001b[0mdec_preds\u001b[0m \u001b[0;34m=\u001b[0m \u001b[0mself\u001b[0m\u001b[0;34m.\u001b[0m\u001b[0mget_preds\u001b[0m\u001b[0;34m(\u001b[0m\u001b[0mdl\u001b[0m\u001b[0;34m=\u001b[0m\u001b[0mdl\u001b[0m\u001b[0;34m,\u001b[0m \u001b[0mwith_input\u001b[0m\u001b[0;34m=\u001b[0m\u001b[0;32mTrue\u001b[0m\u001b[0;34m,\u001b[0m \u001b[0mwith_decoded\u001b[0m\u001b[0;34m=\u001b[0m\u001b[0;32mTrue\u001b[0m\u001b[0;34m)\u001b[0m\u001b[0;34m\u001b[0m\n",
       "\u001b[0;34m\u001b[0m        \u001b[0mi\u001b[0m \u001b[0;34m=\u001b[0m \u001b[0mgetattr\u001b[0m\u001b[0;34m(\u001b[0m\u001b[0mself\u001b[0m\u001b[0;34m.\u001b[0m\u001b[0mdls\u001b[0m\u001b[0;34m,\u001b[0m \u001b[0;34m'n_inp'\u001b[0m\u001b[0;34m,\u001b[0m \u001b[0;34m-\u001b[0m\u001b[0;36m1\u001b[0m\u001b[0;34m)\u001b[0m\u001b[0;34m\u001b[0m\n",
       "\u001b[0;34m\u001b[0m        \u001b[0minp\u001b[0m \u001b[0;34m=\u001b[0m \u001b[0;34m(\u001b[0m\u001b[0minp\u001b[0m\u001b[0;34m,\u001b[0m\u001b[0;34m)\u001b[0m \u001b[0;32mif\u001b[0m \u001b[0mi\u001b[0m\u001b[0;34m==\u001b[0m\u001b[0;36m1\u001b[0m \u001b[0;32melse\u001b[0m \u001b[0mtuplify\u001b[0m\u001b[0;34m(\u001b[0m\u001b[0minp\u001b[0m\u001b[0;34m)\u001b[0m\u001b[0;34m\u001b[0m\n",
       "\u001b[0;34m\u001b[0m        \u001b[0mdec\u001b[0m \u001b[0;34m=\u001b[0m \u001b[0mself\u001b[0m\u001b[0;34m.\u001b[0m\u001b[0mdls\u001b[0m\u001b[0;34m.\u001b[0m\u001b[0mdecode_batch\u001b[0m\u001b[0;34m(\u001b[0m\u001b[0minp\u001b[0m \u001b[0;34m+\u001b[0m \u001b[0mtuplify\u001b[0m\u001b[0;34m(\u001b[0m\u001b[0mdec_preds\u001b[0m\u001b[0;34m)\u001b[0m\u001b[0;34m)\u001b[0m\u001b[0;34m[\u001b[0m\u001b[0;36m0\u001b[0m\u001b[0;34m]\u001b[0m\u001b[0;34m\u001b[0m\n",
       "\u001b[0;34m\u001b[0m        \u001b[0mdec_inp\u001b[0m\u001b[0;34m,\u001b[0m\u001b[0mdec_targ\u001b[0m \u001b[0;34m=\u001b[0m \u001b[0mmap\u001b[0m\u001b[0;34m(\u001b[0m\u001b[0mdetuplify\u001b[0m\u001b[0;34m,\u001b[0m \u001b[0;34m[\u001b[0m\u001b[0mdec\u001b[0m\u001b[0;34m[\u001b[0m\u001b[0;34m:\u001b[0m\u001b[0mi\u001b[0m\u001b[0;34m]\u001b[0m\u001b[0;34m,\u001b[0m\u001b[0mdec\u001b[0m\u001b[0;34m[\u001b[0m\u001b[0mi\u001b[0m\u001b[0;34m:\u001b[0m\u001b[0;34m]\u001b[0m\u001b[0;34m]\u001b[0m\u001b[0;34m)\u001b[0m\u001b[0;34m\u001b[0m\n",
       "\u001b[0;34m\u001b[0m        \u001b[0mres\u001b[0m \u001b[0;34m=\u001b[0m \u001b[0mdec_targ\u001b[0m\u001b[0;34m,\u001b[0m\u001b[0mdec_preds\u001b[0m\u001b[0;34m[\u001b[0m\u001b[0;36m0\u001b[0m\u001b[0;34m]\u001b[0m\u001b[0;34m,\u001b[0m\u001b[0mpreds\u001b[0m\u001b[0;34m[\u001b[0m\u001b[0;36m0\u001b[0m\u001b[0;34m]\u001b[0m\u001b[0;34m\u001b[0m\n",
       "\u001b[0;34m\u001b[0m        \u001b[0;32mif\u001b[0m \u001b[0mwith_input\u001b[0m\u001b[0;34m:\u001b[0m \u001b[0mres\u001b[0m \u001b[0;34m=\u001b[0m \u001b[0;34m(\u001b[0m\u001b[0mdec_inp\u001b[0m\u001b[0;34m,\u001b[0m\u001b[0;34m)\u001b[0m \u001b[0;34m+\u001b[0m \u001b[0mres\u001b[0m\u001b[0;34m\u001b[0m\n",
       "\u001b[0;34m\u001b[0m        \u001b[0;32mreturn\u001b[0m \u001b[0mres\u001b[0m\u001b[0;34m\u001b[0m\u001b[0;34m\u001b[0m\u001b[0m\n",
       "\u001b[0;31mFile:\u001b[0m      ~/mambaforge/lib/python3.9/site-packages/fastai/learner.py\n",
       "\u001b[0;31mType:\u001b[0m      method\n"
      ]
     },
     "metadata": {},
     "output_type": "display_data"
    }
   ],
   "source": [
    "learn.predict??"
   ]
  },
  {
   "cell_type": "code",
   "execution_count": 6,
   "id": "dfdd5824-a1f4-4c30-b3f7-2950b20e2a14",
   "metadata": {},
   "outputs": [
    {
     "data": {
      "text/html": [
       "\n",
       "<style>\n",
       "    /* Turns off some styling */\n",
       "    progress {\n",
       "        /* gets rid of default border in Firefox and Opera. */\n",
       "        border: none;\n",
       "        /* Needs to be in here for Safari polyfill so background images work as expected. */\n",
       "        background-size: auto;\n",
       "    }\n",
       "    .progress-bar-interrupted, .progress-bar-interrupted::-webkit-progress-bar {\n",
       "        background: #F44336;\n",
       "    }\n",
       "</style>\n"
      ],
      "text/plain": [
       "<IPython.core.display.HTML object>"
      ]
     },
     "metadata": {},
     "output_type": "display_data"
    },
    {
     "data": {
      "text/html": [],
      "text/plain": [
       "<IPython.core.display.HTML object>"
      ]
     },
     "metadata": {},
     "output_type": "display_data"
    }
   ],
   "source": [
    " inp,preds,_,dec_preds=learn.get_preds(dl=dls.test_dl(['data/train_images_tiny/clip_000003/00000.jpg']), with_input=True, with_decoded=True)"
   ]
  },
  {
   "cell_type": "code",
   "execution_count": 9,
   "id": "c90cc5a3-08b6-43fa-87c3-27565c4b2c0f",
   "metadata": {},
   "outputs": [
    {
     "data": {
      "text/plain": [
       "(torch.Size([1, 3, 180, 320]),\n",
       " torch.Size([1, 60]),\n",
       " TensorBase([[-8.6797, -1.5264, -0.3330, -6.8320, -6.2188,  0.8818, -7.1992, -8.7422,\n",
       "           5.5938, -8.6953, -7.1992, -8.8047, -8.6875, -6.4766, -7.1953, -8.6797,\n",
       "           1.3633, -3.9277, -4.8242, -7.1055, -8.6328, -4.1562,  6.6523, -3.9180,\n",
       "          -4.7383, -8.1484, -8.5625, -8.5625, -8.7031, -4.8984, -8.7656, -6.8086,\n",
       "          -7.2188, -6.1562, -8.7734, -8.8125, -1.7637,  0.4358,  5.9766, -7.1133,\n",
       "          -8.7812, -4.9102, -6.3828, -8.8984, -6.4727, -7.1992, -4.5195,  4.0430,\n",
       "          -2.0957, -5.5508,  1.4893, -2.4102, -8.2109, -3.4258, -6.2852, -2.9375,\n",
       "          -5.6445, -6.0156, -4.8203, -1.5850]]))"
      ]
     },
     "execution_count": 9,
     "metadata": {},
     "output_type": "execute_result"
    }
   ],
   "source": [
    "inp.shape, preds.shape, dec_preds"
   ]
  },
  {
   "cell_type": "code",
   "execution_count": 27,
   "id": "1efc3ae6-2d14-4d3b-beca-ee2ae966e8b5",
   "metadata": {},
   "outputs": [
    {
     "data": {
      "text/plain": [
       "(8,)"
      ]
     },
     "execution_count": 27,
     "metadata": {},
     "output_type": "execute_result"
    }
   ],
   "source": [
    "tuplify(dec_preds[:,:15].softmax(1).argmax().item())"
   ]
  },
  {
   "cell_type": "code",
   "execution_count": 28,
   "id": "fa822010-41e1-4859-9661-c6d52261791b",
   "metadata": {},
   "outputs": [
    {
     "ename": "TypeError",
     "evalue": "unsupported operand type(s) for +: 'TensorImage' and 'tuple'",
     "output_type": "error",
     "traceback": [
      "\u001b[0;31m---------------------------------------------------------------------------\u001b[0m",
      "\u001b[0;31mTypeError\u001b[0m                                 Traceback (most recent call last)",
      "Input \u001b[0;32mIn [28]\u001b[0m, in \u001b[0;36m<cell line: 1>\u001b[0;34m()\u001b[0m\n\u001b[0;32m----> 1\u001b[0m learn\u001b[38;5;241m.\u001b[39mdls\u001b[38;5;241m.\u001b[39mdecode_batch(\u001b[43minp\u001b[49m\u001b[43m \u001b[49m\u001b[38;5;241;43m+\u001b[39;49m\u001b[43m \u001b[49m\u001b[43mtuplify\u001b[49m\u001b[43m(\u001b[49m\u001b[43mdec_preds\u001b[49m\u001b[43m[\u001b[49m\u001b[43m:\u001b[49m\u001b[43m,\u001b[49m\u001b[43m:\u001b[49m\u001b[38;5;241;43m15\u001b[39;49m\u001b[43m]\u001b[49m\u001b[38;5;241;43m.\u001b[39;49m\u001b[43msoftmax\u001b[49m\u001b[43m(\u001b[49m\u001b[38;5;241;43m1\u001b[39;49m\u001b[43m)\u001b[49m\u001b[38;5;241;43m.\u001b[39;49m\u001b[43margmax\u001b[49m\u001b[43m(\u001b[49m\u001b[43m)\u001b[49m\u001b[43m)\u001b[49m)[\u001b[38;5;241m0\u001b[39m]\n",
      "\u001b[0;31mTypeError\u001b[0m: unsupported operand type(s) for +: 'TensorImage' and 'tuple'"
     ]
    }
   ],
   "source": [
    "learn.dls.decode_batch(inp + tuplify(dec_preds[:,:15].softmax(1).argmax()))[0]"
   ]
  },
  {
   "cell_type": "code",
   "execution_count": null,
   "id": "f062cc3d-c18f-454a-9e1c-066fca5334e3",
   "metadata": {},
   "outputs": [],
   "source": [
    "%debug"
   ]
  },
  {
   "cell_type": "code",
   "execution_count": null,
   "id": "4efed617-0e35-4bda-800c-79d0ea7c6bda",
   "metadata": {},
   "outputs": [],
   "source": [
    "learn.dls.decode_batch??"
   ]
  },
  {
   "cell_type": "code",
   "execution_count": null,
   "id": "319327a6-84ca-41c7-b09e-18c22e69af0f",
   "metadata": {},
   "outputs": [],
   "source": [
    "learn.dls._decode_batch??"
   ]
  },
  {
   "cell_type": "code",
   "execution_count": null,
   "id": "1d5cfae6-4da3-4d12-b2d9-1718fc843070",
   "metadata": {},
   "outputs": [],
   "source": [
    "output = learn.model.eval()(x)"
   ]
  },
  {
   "cell_type": "code",
   "execution_count": null,
   "id": "8bbaac4e-fc72-4c2b-9e12-7b4fb95dd80b",
   "metadata": {},
   "outputs": [],
   "source": [
    "learn.dls.vocab[0][output[:,:cfg(1)].softmax(1).argmax(1).item()]"
   ]
  },
  {
   "cell_type": "code",
   "execution_count": null,
   "id": "a5a80285-7bfe-4761-9fe5-7f0d40bf830f",
   "metadata": {},
   "outputs": [],
   "source": [
    "doc(Datasets.decode)"
   ]
  },
  {
   "cell_type": "code",
   "execution_count": null,
   "id": "9237f5bf-91c2-46be-a119-eeaee5a2cc39",
   "metadata": {},
   "outputs": [],
   "source": [
    "ifnone??"
   ]
  },
  {
   "cell_type": "code",
   "execution_count": null,
   "id": "d81ad06c-0225-483b-8601-dba89c3802ff",
   "metadata": {},
   "outputs": [],
   "source": [
    "tuplify(listify([0,1,2,3],[2,3,4,5],[2,2,3]))[0]"
   ]
  },
  {
   "cell_type": "code",
   "execution_count": null,
   "id": "8fad44c4-3512-4da7-a1ac-80a0634bd08c",
   "metadata": {},
   "outputs": [],
   "source": []
  },
  {
   "cell_type": "code",
   "execution_count": null,
   "id": "76fdf0f7-a356-47a5-8a23-d5b18bd448dd",
   "metadata": {},
   "outputs": [],
   "source": []
  },
  {
   "cell_type": "code",
   "execution_count": null,
   "id": "12f9042c-88c4-4154-9725-5255402e5c23",
   "metadata": {},
   "outputs": [],
   "source": []
  },
  {
   "cell_type": "code",
   "execution_count": null,
   "id": "b37d93f5-021c-44de-85f9-ee60c757ddae",
   "metadata": {},
   "outputs": [],
   "source": []
  },
  {
   "cell_type": "code",
   "execution_count": null,
   "id": "f7a7f3e4-fb8b-4847-9dad-50cd08f49299",
   "metadata": {},
   "outputs": [],
   "source": [
    "class Hook():\n",
    "    def hook_func(self, m, i, o): self.stored = o.detach().clone()"
   ]
  },
  {
   "cell_type": "code",
   "execution_count": null,
   "id": "9034963b-efb3-4fd6-b093-02d1d1e3850c",
   "metadata": {},
   "outputs": [],
   "source": [
    "hook_output = Hook()\n",
    "hook = learn.model[0].register_forward_hook(hook_output.hook_func)"
   ]
  },
  {
   "cell_type": "code",
   "execution_count": null,
   "id": "5b2bcc1b-7b42-4b44-8b29-3333ff98bc63",
   "metadata": {},
   "outputs": [],
   "source": [
    "with torch.no_grad(): output = learn.model.eval()(x)"
   ]
  },
  {
   "cell_type": "code",
   "execution_count": null,
   "id": "ff9ba588-f0f4-4ee5-9c0e-95f8deff9852",
   "metadata": {},
   "outputs": [],
   "source": [
    "act = hook_output.stored[0]"
   ]
  },
  {
   "cell_type": "code",
   "execution_count": null,
   "id": "14dead65-7d93-436d-9bcc-969a2e55ef8b",
   "metadata": {},
   "outputs": [],
   "source": [
    "F.softmax(output[:,:cfg(1)], dim=-1)"
   ]
  },
  {
   "cell_type": "code",
   "execution_count": null,
   "id": "0c6dfb25-157e-48ca-a06c-d3a603b213d6",
   "metadata": {},
   "outputs": [],
   "source": [
    "learn.model[1][-1].weight.shape, act.shape"
   ]
  },
  {
   "cell_type": "code",
   "execution_count": null,
   "id": "39e93529-ac33-4bf7-b5c0-4e385dcc4c90",
   "metadata": {},
   "outputs": [],
   "source": [
    "cam_map = torch.einsum('ck,kij->cij', learn.model[1][-1].weight, act)\n",
    "cam_map.shape"
   ]
  },
  {
   "cell_type": "code",
   "execution_count": null,
   "id": "3845b671-9889-4a39-8053-f5fcdb289986",
   "metadata": {},
   "outputs": [],
   "source": []
  },
  {
   "cell_type": "code",
   "execution_count": null,
   "id": "e1947b6c-f92b-4bb6-89cb-00f07c298a56",
   "metadata": {},
   "outputs": [],
   "source": []
  },
  {
   "cell_type": "code",
   "execution_count": null,
   "id": "612e668b-0bc0-4e7e-8b73-2198664d3b24",
   "metadata": {},
   "outputs": [],
   "source": []
  },
  {
   "cell_type": "code",
   "execution_count": null,
   "id": "174999b1-25b0-4d0e-b2f9-1076dde26a14",
   "metadata": {
    "tags": []
   },
   "outputs": [],
   "source": [
    "class Hook():\n",
    "    def __init__(self, m):\n",
    "        self.hook = m.register_forward_hook(self.hook_func)   \n",
    "    def hook_func(self, m, i, o): self.stored = o.detach().clone()\n",
    "    def __enter__(self, *args): return self\n",
    "    def __exit__(self, *args): self.hook.remove()"
   ]
  },
  {
   "cell_type": "code",
   "execution_count": null,
   "id": "8be64498-8317-416b-8540-f8ca3d34cd8f",
   "metadata": {},
   "outputs": [],
   "source": [
    "with Hook(learn.model[0]) as hook:\n",
    "    with torch.no_grad(): output = learn.model.eval()(x.cuda())\n",
    "    act = hook.stored"
   ]
  },
  {
   "cell_type": "code",
   "execution_count": null,
   "id": "5baebc91-c321-4c70-b81d-0e8410072433",
   "metadata": {},
   "outputs": [],
   "source": [
    "class HookBwd():\n",
    "    def __init__(self, m):\n",
    "        self.hook = m.register_backward_hook(self.hook_func)   \n",
    "    def hook_func(self, m, gi, go): self.stored = go[0].detach().clone()\n",
    "    def __enter__(self, *args): return self\n",
    "    def __exit__(self, *args): self.hook.remove()"
   ]
  },
  {
   "cell_type": "code",
   "execution_count": null,
   "id": "4e048098-b3a1-451a-813d-1681616367aa",
   "metadata": {},
   "outputs": [],
   "source": [
    "cls = 1\n",
    "with HookBwd(learn.model[0]) as hookg:\n",
    "    with Hook(learn.model[0]) as hook:\n",
    "        output = learn.model.eval()(x.cuda())\n",
    "        act = hook.stored\n",
    "    output[0,cls].backward()\n",
    "    grad = hookg.stored"
   ]
  },
  {
   "cell_type": "code",
   "execution_count": null,
   "id": "3ade4171-9057-409e-a6a4-f7ad41973d41",
   "metadata": {},
   "outputs": [],
   "source": [
    "w = grad[0].mean(dim=[1,2], keepdim=True)\n",
    "cam_map = (w * act[0]).sum(0)"
   ]
  },
  {
   "cell_type": "code",
   "execution_count": null,
   "id": "ec5fa1a5-1907-4604-892d-eb6396e89ed4",
   "metadata": {},
   "outputs": [],
   "source": [
    "_,ax = plt.subplots()\n",
    "x.show(ctx=ax)\n",
    "ax.imshow(cam_map.detach().cpu(), alpha=0.6, extent=(1, 3, 180, 320),\n",
    "              interpolation='bilinear', cmap='magma');"
   ]
  },
  {
   "cell_type": "code",
   "execution_count": null,
   "id": "f6a9846c-62fb-4e23-a198-fbbb7b3dd1f7",
   "metadata": {},
   "outputs": [],
   "source": []
  },
  {
   "cell_type": "code",
   "execution_count": null,
   "id": "1f3e0930-1e9d-49d0-982c-7dc6146dda6a",
   "metadata": {},
   "outputs": [],
   "source": [
    "def train(exp_name, arch, size, item_tfms, accum=1, finetune=True, epochs=12):\n",
    "    dblock = get_dblock(item_tfms=item_tfms, batch_tfms=aug_transforms(size=size, min_scale=1))\n",
    "    dls = dblock.dataloaders(images_df, seed=42, batch_size=32, n_workers=8)\n",
    "    cbs = GradientAccumulation(64) if accum else []\n",
    "    learn = vision_learner(dls, arch, loss_func=combo_loss, metrics=metrics_cfg, n_out=cfg(4), cbs=cbs).to_fp16()\n",
    "    if finetune:\n",
    "        learn.fine_tune(epochs, 0.01)\n",
    "        learn.path=Path('models')\n",
    "        learn.export(f'06_archs-small-{exp_name}-{arch}.pkl')\n",
    "        return learn.tta(dl=dls.valid)\n",
    "    else:\n",
    "        learn.unfreeze()\n",
    "        learn.fit_one_cycle(epochs, 0.01)\n"
   ]
  },
  {
   "cell_type": "code",
   "execution_count": null,
   "id": "4bc46a73-8c5c-41df-bd67-cfff48142e15",
   "metadata": {},
   "outputs": [],
   "source": [
    "res = (180,320)"
   ]
  },
  {
   "cell_type": "code",
   "execution_count": null,
   "id": "c81e92f3-5f35-4480-be91-546e0a3ef73f",
   "metadata": {},
   "outputs": [],
   "source": [
    "archs = {\n",
    "    'convnext_large_in22k': {\n",
    "        (Resize(res, ResizeMethod.Squish), (180,320)),\n",
    "    },\n",
    "    'vit_large_patch16_224': {\n",
    "        (Resize(res, ResizeMethod.Squish), 224),\n",
    "    },\n",
    "    'swinv2_large_window12_192_22k':{\n",
    "        (Resize(res, ResizeMethod.Squish), 192),\n",
    "    },\n",
    "    'swin_large_patch4_window7_224': {\n",
    "        (Resize(res, ResizeMethod.Squish), 224)\n",
    "    }\n",
    "}"
   ]
  },
  {
   "cell_type": "code",
   "execution_count": null,
   "id": "c0ac4638-5079-4fad-9579-b12077870aab",
   "metadata": {},
   "outputs": [],
   "source": [
    "tta_res = []\n",
    "\n",
    "for arch, details in archs.items():\n",
    "    for i, s in details:\n",
    "        print('----',arch, ' --- ')\n",
    "        print(s)\n",
    "        print(i.name)\n",
    "        tta_res.append(train('squish', arch, size=s, item_tfms=i))\n",
    "        gc.collect()\n",
    "        torch.cuda.empty_cache()\n"
   ]
  },
  {
   "cell_type": "code",
   "execution_count": null,
   "id": "125cb2e6-1110-47da-80a6-4989ff5ffdb0",
   "metadata": {},
   "outputs": [],
   "source": [
    "save_pickle('07_archs-large-ensemble-tta_res.pkl', tta_res)"
   ]
  },
  {
   "cell_type": "code",
   "execution_count": null,
   "id": "8ea0f8d4-d484-478a-8167-cdecceb01b31",
   "metadata": {},
   "outputs": [],
   "source": [
    "def decode_ensemble_result(output):\n",
    "    output = first(zip(*output)) # unzipping preds and targes\n",
    "    output+= output[1:3]        # increase weights of certain models with higher accuracy\n",
    "    output = torch.stack(output)# stacking predctions from all models\n",
    "    labels=[]\n",
    "    df = pd.DataFrame(dls.valid.items)\n",
    "    df.drop(['y1_label','y2_label','y3_label','y4_label','valid'], axis=1, inplace=True)\n",
    "    for i in range(len(dls.c)):\n",
    "        arm_preds = output[:,:,cfg(i):cfg(i+1)].mean(0);\n",
    "        arm_idxs = arm_preds.argmax(dim=1)\n",
    "        arm_vocab = np.array(dls.vocab[i])\n",
    "        df[f'y{i+1}_label'] = arm_vocab[arm_idxs]\n",
    "        \n",
    "    df['labels_pred'] = '['+ df['y1_label']+', '+df['y2_label']+', '+df['y3_label']+', '+df['y4_label']+']'\n",
    "    df['accurate_tf'] = (df['labels']==df['labels_pred'])\n",
    "    df.drop(['y1_label','y2_label','y3_label','y4_label'], axis=1, inplace=True)\n",
    "    return df"
   ]
  },
  {
   "cell_type": "code",
   "execution_count": null,
   "id": "77d2c205-f885-4799-8a17-8d315dc68b74",
   "metadata": {},
   "outputs": [],
   "source": [
    "output_df = decode_ensemble_result(tta_res)\n",
    "output_df.to_csv('07_archs-larger-ensemble-results.csv', index=False)\n",
    "output_df['accurate_tf'].value_counts()/len(output_df)*100"
   ]
  },
  {
   "cell_type": "code",
   "execution_count": null,
   "id": "fa8b3323-e53e-4b8d-907e-789f72727397",
   "metadata": {},
   "outputs": [],
   "source": [
    "tta_prs = first(zip(*tta_res))"
   ]
  },
  {
   "cell_type": "code",
   "execution_count": null,
   "id": "ba90f7f1-ff5c-459e-8667-822790bea12c",
   "metadata": {},
   "outputs": [],
   "source": [
    "tta_prs+= tta_prs[1:3]"
   ]
  },
  {
   "cell_type": "code",
   "execution_count": null,
   "id": "03d2eaae-1a65-419e-9398-5cbd9ef7727c",
   "metadata": {},
   "outputs": [],
   "source": [
    "avg_pr = torch.stack(tta_prs).mean(0)"
   ]
  },
  {
   "cell_type": "code",
   "execution_count": null,
   "id": "d9603f8e-ed52-42ff-9c04-79133c5173c0",
   "metadata": {},
   "outputs": [],
   "source": [
    "tta_prs1 = tta_prs[:][:,:cfg(1)]"
   ]
  },
  {
   "cell_type": "code",
   "execution_count": null,
   "id": "84ee8e0b-77f9-4350-81e7-4ba58531d874",
   "metadata": {},
   "outputs": [],
   "source": [
    "tta_prs[0][:,cfg(1):cfg(2)].shape"
   ]
  },
  {
   "cell_type": "code",
   "execution_count": null,
   "id": "1c57ea28-c169-443e-94d0-ce418c00dfeb",
   "metadata": {},
   "outputs": [],
   "source": [
    "dblock.dataloaders??"
   ]
  },
  {
   "cell_type": "code",
   "execution_count": null,
   "id": "c7a6d42c-4f99-44d6-87e3-d63d54b4f7e1",
   "metadata": {},
   "outputs": [],
   "source": []
  },
  {
   "cell_type": "code",
   "execution_count": null,
   "id": "163bb64b-6f6f-42fb-92de-18d5065265dc",
   "metadata": {
    "tags": []
   },
   "outputs": [],
   "source": [
    "def decode_preds (preds):\n",
    "    for i,p in enumerate(preds):\n",
    "        lbl = []\n",
    "        for i in range(len(dls.c)):\n",
    "            v = {k:v for k,v in enumerate(dls.vocab[i])}\n",
    "            idx = p[cfg(i):cfg(i+1)].softmax(0).argmax().item()\n",
    "            lbl.append(v[idx])\n",
    "        print(lbl)"
   ]
  },
  {
   "cell_type": "code",
   "execution_count": null,
   "id": "90433ac7-e301-46e3-8f99-901c7472f1a8",
   "metadata": {
    "tags": []
   },
   "outputs": [],
   "source": [
    "decode_preds(preds)"
   ]
  },
  {
   "cell_type": "code",
   "execution_count": null,
   "id": "8a8b432a-557b-4648-87c5-a534384c79ff",
   "metadata": {},
   "outputs": [],
   "source": [
    "df = pd.read_csv('images_df.csv')\n",
    "df = df.query(\"valid==True\").reset_index(drop=False)\n",
    "df.drop(columns=['index'], axis=1)\n",
    "df.head()"
   ]
  },
  {
   "cell_type": "code",
   "execution_count": null,
   "id": "991666a7-7766-440f-a079-c1b489ecad64",
   "metadata": {
    "tags": []
   },
   "outputs": [],
   "source": [
    "img = PILImage.create('data/train_images_tiny/clip_000003/00000.jpg')\n",
    "img.shape"
   ]
  },
  {
   "cell_type": "code",
   "execution_count": null,
   "id": "e721ae71-0baf-4126-bb46-0c7edc744ef5",
   "metadata": {},
   "outputs": [],
   "source": [
    "x, = first(dls.test_dl(['data/train_images_tiny/clip_000003/00000.jpg'])); \n",
    "x.shape"
   ]
  },
  {
   "cell_type": "code",
   "execution_count": null,
   "id": "b9ba2bed-e864-4629-8320-54dfcd9562c4",
   "metadata": {},
   "outputs": [],
   "source": [
    "inp,preds,_,dec_preds = learn.get_preds(dl=dls.test_dl('data/train_images_tiny/clip_000003/00000.jpg'), with_input=True, with_decoded=True)"
   ]
  },
  {
   "cell_type": "code",
   "execution_count": null,
   "id": "4c0e8785-532e-40e8-9734-95ea7dfb3fb4",
   "metadata": {},
   "outputs": [],
   "source": [
    "type(inp)"
   ]
  },
  {
   "cell_type": "code",
   "execution_count": null,
   "id": "afe70c61-498d-42f1-ab18-b46ff1535cc1",
   "metadata": {},
   "outputs": [],
   "source": [
    "outs = tuplify([preds[:,:cfg(1)], preds[:,cfg(1):cfg(2)], preds[:,cfg(2):cfg(3)],preds[:,cfg(3):cfg(4)]])"
   ]
  },
  {
   "cell_type": "code",
   "execution_count": null,
   "id": "349ba71a-2b6c-45db-ba95-82bf2b6f4296",
   "metadata": {},
   "outputs": [],
   "source": [
    "for i in range(len(outs)):\n",
    "    print(outs[i])"
   ]
  },
  {
   "cell_type": "code",
   "execution_count": null,
   "id": "2dd268f0-d788-4898-af4e-982b2f5325ea",
   "metadata": {},
   "outputs": [],
   "source": [
    "list(range(len(outs)))"
   ]
  }
 ],
 "metadata": {
  "kernelspec": {
   "display_name": "Python 3 (ipykernel)",
   "language": "python",
   "name": "python3"
  },
  "language_info": {
   "codemirror_mode": {
    "name": "ipython",
    "version": 3
   },
   "file_extension": ".py",
   "mimetype": "text/x-python",
   "name": "python",
   "nbconvert_exporter": "python",
   "pygments_lexer": "ipython3",
   "version": "3.9.13"
  }
 },
 "nbformat": 4,
 "nbformat_minor": 5
}
