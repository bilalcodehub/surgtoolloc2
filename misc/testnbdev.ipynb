{
 "cells": [
  {
   "cell_type": "code",
   "execution_count": 1,
   "id": "d4560ca0-ae64-4ddc-b566-f805c60d12cb",
   "metadata": {},
   "outputs": [],
   "source": [
    "import os\n",
    "os.environ['CUDA_VISIBLE_DEVICES'] = \"1\""
   ]
  },
  {
   "cell_type": "code",
   "execution_count": 2,
   "id": "e9b4d9e3-88eb-48a7-a8b0-de11ffd72a5e",
   "metadata": {},
   "outputs": [],
   "source": [
    "from fastai.vision.all import *\n"
   ]
  },
  {
   "cell_type": "code",
   "execution_count": 3,
   "id": "42871223-8cb7-4ced-8b4c-a2896687dc00",
   "metadata": {},
   "outputs": [
    {
     "name": "stderr",
     "output_type": "stream",
     "text": [
      "/tmp/ipykernel_81169/3757324176.py:1: DtypeWarning: Columns (5) have mixed types. Specify dtype option on import or set low_memory=False.\n",
      "  images_df=pd.read_csv('data/images_df_final.csv', dtype={'image_id':str,'clip_name':str,'labels':str})\n"
     ]
    }
   ],
   "source": [
    "images_df=pd.read_csv('data/images_df_final.csv', dtype={'image_id':str,'clip_name':str,'labels':str})"
   ]
  },
  {
   "cell_type": "code",
   "execution_count": 8,
   "id": "0aa37d33-befe-4015-a61a-742915fd906e",
   "metadata": {},
   "outputs": [
    {
     "data": {
      "text/html": [
       "<div>\n",
       "<style scoped>\n",
       "    .dataframe tbody tr th:only-of-type {\n",
       "        vertical-align: middle;\n",
       "    }\n",
       "\n",
       "    .dataframe tbody tr th {\n",
       "        vertical-align: top;\n",
       "    }\n",
       "\n",
       "    .dataframe thead th {\n",
       "        text-align: right;\n",
       "    }\n",
       "</style>\n",
       "<table border=\"1\" class=\"dataframe\">\n",
       "  <thead>\n",
       "    <tr style=\"text-align: right;\">\n",
       "      <th></th>\n",
       "      <th>image_id</th>\n",
       "      <th>clip_name</th>\n",
       "      <th>labels</th>\n",
       "      <th>valid</th>\n",
       "      <th>y1_label</th>\n",
       "      <th>y2_label</th>\n",
       "      <th>y3_label</th>\n",
       "      <th>y4_label</th>\n",
       "    </tr>\n",
       "  </thead>\n",
       "  <tbody>\n",
       "    <tr>\n",
       "      <th>0</th>\n",
       "      <td>data/train_images_c/clip_000000/00105.jpg</td>\n",
       "      <td>clip_000000</td>\n",
       "      <td>needle_driver,nan,needle_driver,cadiere_forceps</td>\n",
       "      <td>False</td>\n",
       "      <td>needle_driver</td>\n",
       "      <td>NaN</td>\n",
       "      <td>needle_driver</td>\n",
       "      <td>cadiere_forceps</td>\n",
       "    </tr>\n",
       "    <tr>\n",
       "      <th>1</th>\n",
       "      <td>data/train_images_c/clip_000000/01215.jpg</td>\n",
       "      <td>clip_000000</td>\n",
       "      <td>needle_driver,nan,needle_driver,cadiere_forceps</td>\n",
       "      <td>False</td>\n",
       "      <td>needle_driver</td>\n",
       "      <td>NaN</td>\n",
       "      <td>needle_driver</td>\n",
       "      <td>cadiere_forceps</td>\n",
       "    </tr>\n",
       "    <tr>\n",
       "      <th>2</th>\n",
       "      <td>data/train_images_c/clip_000000/01170.jpg</td>\n",
       "      <td>clip_000000</td>\n",
       "      <td>needle_driver,nan,needle_driver,cadiere_forceps</td>\n",
       "      <td>False</td>\n",
       "      <td>needle_driver</td>\n",
       "      <td>NaN</td>\n",
       "      <td>needle_driver</td>\n",
       "      <td>cadiere_forceps</td>\n",
       "    </tr>\n",
       "    <tr>\n",
       "      <th>3</th>\n",
       "      <td>data/train_images_c/clip_000000/00030.jpg</td>\n",
       "      <td>clip_000000</td>\n",
       "      <td>needle_driver,nan,needle_driver,cadiere_forceps</td>\n",
       "      <td>False</td>\n",
       "      <td>needle_driver</td>\n",
       "      <td>NaN</td>\n",
       "      <td>needle_driver</td>\n",
       "      <td>cadiere_forceps</td>\n",
       "    </tr>\n",
       "    <tr>\n",
       "      <th>4</th>\n",
       "      <td>data/train_images_c/clip_000000/01680.jpg</td>\n",
       "      <td>clip_000000</td>\n",
       "      <td>needle_driver,nan,needle_driver,cadiere_forceps</td>\n",
       "      <td>False</td>\n",
       "      <td>needle_driver</td>\n",
       "      <td>NaN</td>\n",
       "      <td>needle_driver</td>\n",
       "      <td>cadiere_forceps</td>\n",
       "    </tr>\n",
       "    <tr>\n",
       "      <th>...</th>\n",
       "      <td>...</td>\n",
       "      <td>...</td>\n",
       "      <td>...</td>\n",
       "      <td>...</td>\n",
       "      <td>...</td>\n",
       "      <td>...</td>\n",
       "      <td>...</td>\n",
       "      <td>...</td>\n",
       "    </tr>\n",
       "    <tr>\n",
       "      <th>123465</th>\n",
       "      <td>data/train_images_c/clip_024720/00720.jpg</td>\n",
       "      <td>clip_024720</td>\n",
       "      <td>bipolar_forceps,nan,monopolar_curved_scissors,grasping_retractor</td>\n",
       "      <td>False</td>\n",
       "      <td>bipolar_forceps</td>\n",
       "      <td>NaN</td>\n",
       "      <td>monopolar_curved_scissors</td>\n",
       "      <td>grasping_retractor</td>\n",
       "    </tr>\n",
       "    <tr>\n",
       "      <th>123466</th>\n",
       "      <td>data/train_images_c/clip_024720/00165.jpg</td>\n",
       "      <td>clip_024720</td>\n",
       "      <td>bipolar_forceps,nan,monopolar_curved_scissors,grasping_retractor</td>\n",
       "      <td>False</td>\n",
       "      <td>bipolar_forceps</td>\n",
       "      <td>NaN</td>\n",
       "      <td>monopolar_curved_scissors</td>\n",
       "      <td>grasping_retractor</td>\n",
       "    </tr>\n",
       "    <tr>\n",
       "      <th>123467</th>\n",
       "      <td>data/train_images_c/clip_024720/00990.jpg</td>\n",
       "      <td>clip_024720</td>\n",
       "      <td>bipolar_forceps,nan,monopolar_curved_scissors,grasping_retractor</td>\n",
       "      <td>False</td>\n",
       "      <td>bipolar_forceps</td>\n",
       "      <td>NaN</td>\n",
       "      <td>monopolar_curved_scissors</td>\n",
       "      <td>grasping_retractor</td>\n",
       "    </tr>\n",
       "    <tr>\n",
       "      <th>123468</th>\n",
       "      <td>data/train_images_c/clip_024720/00675.jpg</td>\n",
       "      <td>clip_024720</td>\n",
       "      <td>bipolar_forceps,nan,monopolar_curved_scissors,grasping_retractor</td>\n",
       "      <td>False</td>\n",
       "      <td>bipolar_forceps</td>\n",
       "      <td>NaN</td>\n",
       "      <td>monopolar_curved_scissors</td>\n",
       "      <td>grasping_retractor</td>\n",
       "    </tr>\n",
       "    <tr>\n",
       "      <th>123469</th>\n",
       "      <td>data/train_images_c/clip_024720/00240.jpg</td>\n",
       "      <td>clip_024720</td>\n",
       "      <td>bipolar_forceps,nan,monopolar_curved_scissors,grasping_retractor</td>\n",
       "      <td>False</td>\n",
       "      <td>bipolar_forceps</td>\n",
       "      <td>NaN</td>\n",
       "      <td>monopolar_curved_scissors</td>\n",
       "      <td>grasping_retractor</td>\n",
       "    </tr>\n",
       "  </tbody>\n",
       "</table>\n",
       "<p>123470 rows × 8 columns</p>\n",
       "</div>"
      ],
      "text/plain": [
       "                                         image_id    clip_name  \\\n",
       "0       data/train_images_c/clip_000000/00105.jpg  clip_000000   \n",
       "1       data/train_images_c/clip_000000/01215.jpg  clip_000000   \n",
       "2       data/train_images_c/clip_000000/01170.jpg  clip_000000   \n",
       "3       data/train_images_c/clip_000000/00030.jpg  clip_000000   \n",
       "4       data/train_images_c/clip_000000/01680.jpg  clip_000000   \n",
       "...                                           ...          ...   \n",
       "123465  data/train_images_c/clip_024720/00720.jpg  clip_024720   \n",
       "123466  data/train_images_c/clip_024720/00165.jpg  clip_024720   \n",
       "123467  data/train_images_c/clip_024720/00990.jpg  clip_024720   \n",
       "123468  data/train_images_c/clip_024720/00675.jpg  clip_024720   \n",
       "123469  data/train_images_c/clip_024720/00240.jpg  clip_024720   \n",
       "\n",
       "                                                                  labels  \\\n",
       "0                        needle_driver,nan,needle_driver,cadiere_forceps   \n",
       "1                        needle_driver,nan,needle_driver,cadiere_forceps   \n",
       "2                        needle_driver,nan,needle_driver,cadiere_forceps   \n",
       "3                        needle_driver,nan,needle_driver,cadiere_forceps   \n",
       "4                        needle_driver,nan,needle_driver,cadiere_forceps   \n",
       "...                                                                  ...   \n",
       "123465  bipolar_forceps,nan,monopolar_curved_scissors,grasping_retractor   \n",
       "123466  bipolar_forceps,nan,monopolar_curved_scissors,grasping_retractor   \n",
       "123467  bipolar_forceps,nan,monopolar_curved_scissors,grasping_retractor   \n",
       "123468  bipolar_forceps,nan,monopolar_curved_scissors,grasping_retractor   \n",
       "123469  bipolar_forceps,nan,monopolar_curved_scissors,grasping_retractor   \n",
       "\n",
       "        valid         y1_label y2_label                   y3_label  \\\n",
       "0       False    needle_driver      NaN              needle_driver   \n",
       "1       False    needle_driver      NaN              needle_driver   \n",
       "2       False    needle_driver      NaN              needle_driver   \n",
       "3       False    needle_driver      NaN              needle_driver   \n",
       "4       False    needle_driver      NaN              needle_driver   \n",
       "...       ...              ...      ...                        ...   \n",
       "123465  False  bipolar_forceps      NaN  monopolar_curved_scissors   \n",
       "123466  False  bipolar_forceps      NaN  monopolar_curved_scissors   \n",
       "123467  False  bipolar_forceps      NaN  monopolar_curved_scissors   \n",
       "123468  False  bipolar_forceps      NaN  monopolar_curved_scissors   \n",
       "123469  False  bipolar_forceps      NaN  monopolar_curved_scissors   \n",
       "\n",
       "                  y4_label  \n",
       "0          cadiere_forceps  \n",
       "1          cadiere_forceps  \n",
       "2          cadiere_forceps  \n",
       "3          cadiere_forceps  \n",
       "4          cadiere_forceps  \n",
       "...                    ...  \n",
       "123465  grasping_retractor  \n",
       "123466  grasping_retractor  \n",
       "123467  grasping_retractor  \n",
       "123468  grasping_retractor  \n",
       "123469  grasping_retractor  \n",
       "\n",
       "[123470 rows x 8 columns]"
      ]
     },
     "execution_count": 8,
     "metadata": {},
     "output_type": "execute_result"
    }
   ],
   "source": [
    "images_df.groupby(['clip_name','valid']).sample(5).reset_index(drop=True)"
   ]
  },
  {
   "cell_type": "code",
   "execution_count": 14,
   "id": "b126cc1f-c838-46b3-8731-d15a1346918a",
   "metadata": {},
   "outputs": [],
   "source": [
    "inp = tensor([[-8.6797e+00, -1.5283e+00, -3.3716e-01, -6.8359e+00, -6.2188e+00,\n",
    "          8.8037e-01, -7.1992e+00, -8.7422e+00,  5.5938e+00, -8.6953e+00,\n",
    "         -7.1992e+00, -8.8047e+00, -8.6875e+00, -6.4766e+00, -7.1992e+00],\n",
    "        [-8.8906e+00, -1.5439e+00,  4.1473e-02, -6.6484e+00, -6.3945e+00,\n",
    "          1.1699e+00, -7.2109e+00, -8.9531e+00,  5.3047e+00, -8.9219e+00,\n",
    "         -7.4727e+00, -8.9766e+00, -8.9141e+00, -6.1719e+00, -7.4336e+00],\n",
    "        [-8.9297e+00, -1.1847e-01,  1.0850e+00, -6.4062e+00, -7.5703e+00,\n",
    "          1.3379e+00, -7.5117e+00, -9.0156e+00,  4.9961e+00, -8.9688e+00,\n",
    "         -7.7266e+00, -9.0000e+00, -9.0469e+00, -5.4219e+00, -6.7578e+00],\n",
    "        [-9.0469e+00, -2.6831e-01,  6.4209e-01, -6.7070e+00, -7.6641e+00,\n",
    "          1.4170e+00, -7.6797e+00, -9.1562e+00,  5.1289e+00, -9.0859e+00,\n",
    "         -8.2109e+00, -9.1172e+00, -9.1641e+00, -5.4062e+00, -7.0547e+00],\n",
    "        [-9.0703e+00, -7.7539e-01, -2.8976e-02, -6.6367e+00, -6.9648e+00,\n",
    "          1.1426e+00, -7.2656e+00, -9.1562e+00,  5.4883e+00, -9.1484e+00,\n",
    "         -7.1133e+00, -9.1250e+00, -9.1562e+00, -6.8125e+00, -7.2383e+00],\n",
    "        [-8.6953e+00, -5.7178e-01,  2.5711e-02, -5.8125e+00, -6.1406e+00,\n",
    "          1.4082e+00, -6.8242e+00, -8.7578e+00,  5.2500e+00, -8.7031e+00,\n",
    "         -7.0547e+00, -8.7266e+00, -8.7266e+00, -5.5742e+00, -7.0117e+00],\n",
    "        [-9.1250e+00, -2.6758e+00, -1.2754e+00, -7.3945e+00, -7.6016e+00,\n",
    "          1.3818e+00, -7.5703e+00, -9.1719e+00,  6.2188e+00, -9.1016e+00,\n",
    "         -8.3984e+00, -9.1719e+00, -9.0703e+00, -6.1094e+00, -7.2891e+00],\n",
    "        [-1.0023e+01, -3.0645e+00,  1.4563e-01, -6.9844e+00, -8.5859e+00,\n",
    "          1.8047e+00, -8.7188e+00, -1.0078e+01,  5.4727e+00, -9.9531e+00,\n",
    "         -1.0164e+01, -1.0047e+01, -1.0016e+01, -7.2852e+00, -8.0234e+00],\n",
    "        [-9.3672e+00, -2.3672e+00, -2.4866e-01, -8.2266e+00, -6.4375e+00,\n",
    "          7.3975e-01, -8.2578e+00, -9.4375e+00,  5.6289e+00, -9.3828e+00,\n",
    "         -7.3086e+00, -9.3906e+00, -9.4453e+00, -5.3867e+00, -8.3750e+00],\n",
    "        [-9.1250e+00, -2.5840e+00,  6.5820e-01, -7.8672e+00, -6.7383e+00,\n",
    "          1.0312e+00, -7.4727e+00, -9.1875e+00,  5.3086e+00, -9.1562e+00,\n",
    "         -7.7695e+00, -9.1875e+00, -9.2266e+00, -5.2930e+00, -8.0625e+00],\n",
    "        [-7.4297e+00,  2.1387e+00, -1.2607e+00, -4.9766e+00,  4.8926e-01,\n",
    "          3.0127e-01, -4.2891e+00, -7.5156e+00,  1.1738e+00, -7.5352e+00,\n",
    "         -4.2656e+00, -7.4766e+00, -7.4805e+00, -2.5293e+00, -6.1133e+00],\n",
    "        [-6.6797e+00,  1.1797e+00, -2.3555e+00, -4.7109e+00,  3.0586e+00,\n",
    "          2.1570e-01, -3.1113e+00, -6.7617e+00,  2.6929e-01, -6.7852e+00,\n",
    "         -4.3320e+00, -6.7031e+00, -6.6562e+00, -2.6289e+00, -5.0859e+00],\n",
    "        [-6.8320e+00,  1.2412e+00, -3.6377e-01, -5.1250e+00,  1.3135e+00,\n",
    "         -5.1074e-01, -4.5547e+00, -6.9219e+00,  1.6367e+00, -6.9961e+00,\n",
    "         -4.1406e+00, -6.8398e+00, -6.8633e+00, -2.1133e+00, -6.1758e+00],\n",
    "        [-7.5039e+00,  1.2002e+00, -6.3086e-01, -5.8086e+00,  2.0273e+00,\n",
    "         -7.6318e-01, -5.0000e+00, -7.5859e+00,  1.0156e+00, -7.6758e+00,\n",
    "         -4.3789e+00, -7.5195e+00, -7.4844e+00, -2.8574e+00, -6.7656e+00],\n",
    "        [-8.4609e+00,  1.2998e+00, -4.6016e+00, -6.3398e+00,  5.3984e+00,\n",
    "         -3.9844e+00, -4.9609e+00, -8.5234e+00, -1.1172e+00, -8.5547e+00,\n",
    "         -5.0195e+00, -8.5078e+00, -8.3203e+00, -5.6172e+00, -6.5234e+00],\n",
    "        [-8.1562e+00,  2.7344e-01, -5.4336e+00, -6.7266e+00,  7.3281e+00,\n",
    "         -3.9902e+00, -4.7773e+00, -8.1719e+00, -2.5938e+00, -8.1719e+00,\n",
    "         -5.9258e+00, -8.1719e+00, -7.9102e+00, -5.9570e+00, -5.3203e+00],\n",
    "        [-7.6445e+00,  1.7959e+00, -1.0020e+00, -5.5312e+00,  1.2666e+00,\n",
    "          7.2168e-01, -4.4336e+00, -7.7539e+00,  2.4863e+00, -7.7656e+00,\n",
    "         -5.8828e+00, -7.8008e+00, -7.7383e+00, -3.4785e+00, -5.5000e+00],\n",
    "        [-7.7305e+00,  1.1738e+00, -1.3379e+00, -5.7578e+00,  2.6875e+00,\n",
    "          1.2170e-01, -4.0430e+00, -7.8359e+00,  1.8662e+00, -7.8516e+00,\n",
    "         -5.8555e+00, -7.8672e+00, -7.7773e+00, -3.9355e+00, -5.6016e+00],\n",
    "        [-8.1562e+00,  2.8750e+00, -2.2871e+00, -5.3906e+00,  9.9561e-01,\n",
    "         -3.3618e-01, -5.2930e+00, -8.3516e+00,  1.8518e-01, -8.2812e+00,\n",
    "         -7.8945e+00, -8.4141e+00, -8.2109e+00, -6.0586e+00, -6.3203e+00],\n",
    "        [-8.1797e+00,  3.0840e+00, -2.1914e+00, -5.2578e+00,  8.1445e-01,\n",
    "         -6.7041e-01, -5.0938e+00, -8.3516e+00,  5.8887e-01, -8.2969e+00,\n",
    "         -7.2773e+00, -8.4062e+00, -8.2109e+00, -5.8594e+00, -6.0352e+00],\n",
    "        [-8.6562e+00,  9.0234e-01, -2.8242e+00, -7.1211e+00,  4.8945e+00,\n",
    "         -2.8047e+00, -4.4570e+00, -8.7734e+00, -2.2079e-02, -8.7500e+00,\n",
    "         -6.5156e+00, -8.8281e+00, -8.6016e+00, -5.8867e+00, -6.4922e+00],\n",
    "        [-9.0469e+00,  5.6689e-01, -3.8496e+00, -7.3203e+00,  6.1641e+00,\n",
    "         -3.6113e+00, -5.0586e+00, -9.1562e+00, -1.5391e+00, -9.1406e+00,\n",
    "         -6.6641e+00, -9.1953e+00, -8.9688e+00, -6.2812e+00, -6.7695e+00],\n",
    "        [-8.8125e+00,  1.3701e+00, -2.4648e+00, -6.6094e+00,  4.8750e+00,\n",
    "         -3.3633e+00, -5.9062e+00, -8.8594e+00, -1.4668e+00, -8.8828e+00,\n",
    "         -6.5312e+00, -8.9844e+00, -8.7812e+00, -6.0898e+00, -6.7695e+00],\n",
    "        [-8.6406e+00,  9.4824e-01, -9.3262e-01, -6.7148e+00,  3.1641e+00,\n",
    "         -1.1865e+00, -4.5469e+00, -8.7109e+00, -4.2261e-01, -8.7578e+00,\n",
    "         -6.3438e+00, -8.8203e+00, -8.6172e+00, -5.3281e+00, -5.7188e+00],\n",
    "        [-7.6328e+00,  1.5088e+00, -1.1475e+00, -4.3164e+00,  3.8516e+00,\n",
    "         -1.4824e+00, -4.3242e+00, -7.6953e+00, -1.5557e+00, -7.6680e+00,\n",
    "         -4.4375e+00, -7.7383e+00, -7.6211e+00, -3.1387e+00, -6.1523e+00],\n",
    "        [-7.6602e+00,  1.3203e+00, -9.3213e-01, -4.2891e+00,  4.0625e+00,\n",
    "         -1.4072e+00, -4.5586e+00, -7.7188e+00, -1.4443e+00, -7.6992e+00,\n",
    "         -4.6016e+00, -7.7812e+00, -7.6562e+00, -3.4180e+00, -6.3555e+00],\n",
    "        [-8.2500e+00,  1.4326e+00, -2.5684e+00, -6.7930e+00,  3.3398e+00,\n",
    "         -9.9561e-01, -3.0938e+00, -8.3828e+00,  6.7383e-01, -8.2812e+00,\n",
    "         -6.5859e+00, -8.4766e+00, -8.2500e+00, -4.7891e+00, -5.4297e+00],\n",
    "        [-8.4297e+00,  1.6250e+00, -2.7559e+00, -6.5117e+00,  3.4629e+00,\n",
    "         -7.7734e-01, -3.0605e+00, -8.5312e+00,  2.1716e-01, -8.4297e+00,\n",
    "         -7.0430e+00, -8.6328e+00, -8.3828e+00, -5.0781e+00, -5.4570e+00],\n",
    "        [-8.7188e+00,  2.0156e+00, -2.5742e+00, -6.5078e+00,  1.5732e+00,\n",
    "         -1.8916e+00, -5.2812e+00, -8.8672e+00,  7.7490e-01, -8.8516e+00,\n",
    "         -5.3750e+00, -8.8828e+00, -8.7188e+00, -4.7773e+00, -7.5469e+00],\n",
    "        [-8.6797e+00,  1.0420e+00, -2.8965e+00, -7.0312e+00,  4.1680e+00,\n",
    "         -2.1914e+00, -5.2188e+00, -8.8203e+00, -9.8535e-01, -8.7969e+00,\n",
    "         -6.0430e+00, -8.8750e+00, -8.6172e+00, -5.1406e+00, -7.7461e+00],\n",
    "        [-7.9297e+00,  1.1357e+00, -2.6426e+00, -5.6953e+00,  2.5430e+00,\n",
    "         -6.0254e-01, -3.8242e+00, -8.1250e+00,  2.7129e+00, -8.0078e+00,\n",
    "         -5.3281e+00, -8.1484e+00, -7.9688e+00, -4.4570e+00, -6.1914e+00],\n",
    "        [-7.6016e+00,  1.3691e+00, -2.2500e+00, -5.3867e+00,  2.6152e+00,\n",
    "          3.9453e-01, -2.7305e+00, -7.7617e+00,  1.3857e+00, -7.6797e+00,\n",
    "         -5.8945e+00, -7.8438e+00, -7.6133e+00, -4.0156e+00, -5.4375e+00],\n",
    "        [-8.6016e+00,  1.8057e+00, -2.0684e+00, -6.2578e+00,  3.1562e+00,\n",
    "         -1.2334e+00, -4.2617e+00, -8.6875e+00,  1.9089e-02, -8.6250e+00,\n",
    "         -6.3320e+00, -8.7891e+00, -8.5234e+00, -6.6680e+00, -6.3672e+00],\n",
    "        [-8.3281e+00,  1.9170e+00, -9.5459e-01, -5.9453e+00,  2.6016e+00,\n",
    "         -9.1309e-02, -4.1758e+00, -8.4375e+00, -1.1787e+00, -8.3438e+00,\n",
    "         -6.1719e+00, -8.5156e+00, -8.2734e+00, -5.7422e+00, -6.3945e+00],\n",
    "        [-8.5703e+00,  2.6484e+00, -1.2246e+00, -5.3359e+00,  6.9141e-01,\n",
    "         -7.8662e-01, -4.4062e+00, -8.8047e+00,  8.0566e-01, -8.6484e+00,\n",
    "         -7.7930e+00, -8.8594e+00, -8.6328e+00, -6.3047e+00, -7.2812e+00],\n",
    "        [-8.5781e+00,  2.3281e+00, -1.2080e+00, -5.8008e+00,  1.0068e+00,\n",
    "         -6.0205e-01, -4.1328e+00, -8.8125e+00,  6.9482e-01, -8.6797e+00,\n",
    "         -7.9531e+00, -8.8906e+00, -8.6562e+00, -6.2383e+00, -7.6016e+00],\n",
    "        [-1.0445e+01,  9.0625e-01, -2.6328e+00, -9.3906e+00,  4.4766e+00,\n",
    "         -4.2383e+00, -6.9414e+00, -1.0445e+01, -3.2207e+00, -1.0508e+01,\n",
    "         -7.8672e+00, -1.0492e+01, -1.0195e+01, -8.7578e+00, -6.3906e+00],\n",
    "        [-9.1328e+00,  1.3203e+00, -2.1094e+00, -7.1133e+00,  3.7930e+00,\n",
    "         -2.0020e+00, -5.6758e+00, -9.2109e+00, -2.1738e+00, -9.2109e+00,\n",
    "         -6.2578e+00, -9.2109e+00, -8.9688e+00, -6.7812e+00, -6.0664e+00],\n",
    "        [-1.1812e+01, -4.1113e-01, -3.5566e+00, -1.1188e+01, -7.3906e+00,\n",
    "         -3.1230e+00, -1.2664e+01, -1.1844e+01,  6.0898e+00, -1.1945e+01,\n",
    "         -5.8828e+00, -1.1859e+01, -1.1953e+01, -1.1227e+01, -1.1500e+01],\n",
    "        [-1.1453e+01, -1.2422e+00, -3.0859e+00, -1.1125e+01, -9.0625e+00,\n",
    "         -2.9629e+00, -1.3102e+01, -1.1516e+01,  6.7383e+00, -1.1555e+01,\n",
    "         -6.6055e+00, -1.1477e+01, -1.1617e+01, -1.1633e+01, -1.1172e+01],\n",
    "        [-9.3281e+00,  1.5898e+00, -1.7100e+00, -8.4922e+00, -7.8984e+00,\n",
    "         -1.2031e+00, -8.8906e+00, -9.3359e+00,  5.7109e+00, -9.3672e+00,\n",
    "         -4.1055e+00, -9.3750e+00, -9.3828e+00, -7.1250e+00, -7.7969e+00],\n",
    "        [-1.1430e+01,  6.0547e-01, -3.8887e+00, -1.1852e+01, -9.1719e+00,\n",
    "         -3.7832e+00, -1.1047e+01, -1.1375e+01,  7.0078e+00, -1.1406e+01,\n",
    "         -6.4180e+00, -1.1430e+01, -1.1438e+01, -1.0367e+01, -1.0453e+01],\n",
    "        [-1.0289e+01,  8.8867e-01, -2.3804e-01, -8.6641e+00, -6.9883e+00,\n",
    "         -1.1133e+00, -1.0055e+01, -1.0359e+01,  5.0586e+00, -1.0406e+01,\n",
    "         -6.4727e+00, -1.0367e+01, -1.0406e+01, -8.6641e+00, -9.5312e+00],\n",
    "        [-9.5938e+00,  9.3262e-01, -1.7175e-01, -7.7188e+00, -7.1172e+00,\n",
    "         -9.6484e-01, -9.1875e+00, -9.6797e+00,  5.2227e+00, -9.7109e+00,\n",
    "         -6.5977e+00, -9.6875e+00, -9.7031e+00, -8.3438e+00, -8.6641e+00],\n",
    "        [-7.8789e+00,  4.5586e+00, -8.6621e-01, -4.5312e+00, -5.3203e+00,\n",
    "          2.4844e+00, -5.8398e+00, -7.8555e+00,  3.1226e-01, -7.8828e+00,\n",
    "         -4.6719e+00, -7.9375e+00, -7.8867e+00, -5.2070e+00, -7.3906e+00],\n",
    "        [-7.7461e+00,  2.7949e+00, -2.4160e+00, -4.7227e+00, -6.4570e+00,\n",
    "          4.4766e+00, -5.9922e+00, -7.8164e+00,  7.4268e-01, -7.7305e+00,\n",
    "         -7.5000e+00, -7.8477e+00, -7.7695e+00, -6.1406e+00, -6.8164e+00],\n",
    "        [-7.2227e+00,  4.0391e+00, -4.0703e+00, -5.0547e+00, -3.9492e+00,\n",
    "          2.0352e+00, -4.1406e+00, -7.3008e+00, -3.4912e-01, -7.2266e+00,\n",
    "         -6.4531e+00, -7.3750e+00, -7.3164e+00, -5.7148e+00, -5.9336e+00],\n",
    "        [-8.9766e+00,  4.7500e+00, -4.1641e+00, -7.6914e+00, -4.8672e+00,\n",
    "          3.1274e-01, -7.5781e+00, -9.0469e+00, -6.7285e-01, -8.9141e+00,\n",
    "         -6.9375e+00, -9.1406e+00, -9.0312e+00, -7.4727e+00, -7.9648e+00],\n",
    "        [-7.3711e+00,  3.7285e+00, -3.4980e+00, -4.5820e+00, -4.3477e+00,\n",
    "          1.0205e+00, -5.1719e+00, -7.4453e+00,  1.2383e+00, -7.3672e+00,\n",
    "         -5.5781e+00, -7.5078e+00, -7.3906e+00, -6.7461e+00, -7.2930e+00],\n",
    "        [-8.6016e+00,  4.3945e+00, -4.9648e+00, -5.9805e+00, -3.3164e+00,\n",
    "         -7.9834e-01, -4.9023e+00, -8.7188e+00,  1.3945e+00, -8.6172e+00,\n",
    "         -6.5234e+00, -8.7500e+00, -8.6484e+00, -6.9922e+00, -7.2500e+00],\n",
    "        [-7.9883e+00,  3.3066e+00, -2.4062e+00, -3.5078e+00, -3.7090e+00,\n",
    "          2.3926e-01, -2.1816e+00, -8.1562e+00,  4.5624e-03, -8.0234e+00,\n",
    "         -7.2852e+00, -8.0547e+00, -8.0703e+00, -7.2812e+00, -6.4375e+00],\n",
    "        [-8.4844e+00,  2.3262e+00, -1.4521e+00, -4.1406e+00, -3.5625e+00,\n",
    "          4.6655e-01, -1.5332e+00, -8.5938e+00,  1.0127e+00, -8.4609e+00,\n",
    "         -7.6133e+00, -8.6094e+00, -8.5312e+00, -6.6406e+00, -6.8086e+00],\n",
    "        [-7.7148e+00,  3.7012e+00, -1.1709e+00, -5.0664e+00, -5.4883e+00,\n",
    "          5.5586e+00, -6.2930e+00, -7.7539e+00,  5.6299e-01, -7.6562e+00,\n",
    "         -8.4609e+00, -7.7500e+00, -7.7383e+00, -6.0195e+00, -6.7227e+00],\n",
    "        [-8.2812e+00,  3.4531e+00, -4.4604e-01, -5.2617e+00, -5.6758e+00,\n",
    "          4.9961e+00, -6.2266e+00, -8.3203e+00,  5.7373e-01, -8.2031e+00,\n",
    "         -9.0234e+00, -8.3281e+00, -8.2812e+00, -6.3398e+00, -6.9141e+00],\n",
    "        [-9.8359e+00, -5.4492e-01, -1.3164e+00, -8.1016e+00, -6.8906e+00,\n",
    "         -9.5215e-01, -8.7031e+00, -9.9922e+00,  5.9844e+00, -9.9375e+00,\n",
    "         -4.4727e+00, -1.0016e+01, -1.0000e+01, -6.6641e+00, -8.3750e+00],\n",
    "        [-8.8984e+00,  2.9907e-01, -2.0059e+00, -6.5508e+00, -5.3672e+00,\n",
    "         -6.5918e-01, -7.6328e+00, -9.0469e+00,  5.9219e+00, -9.0312e+00,\n",
    "         -4.9844e+00, -9.0469e+00, -9.0000e+00, -6.5508e+00, -7.1875e+00],\n",
    "        [-8.6953e+00,  1.5566e+00, -2.2441e+00, -6.1172e+00, -4.5664e+00,\n",
    "         -7.0361e-01, -7.5703e+00, -8.7656e+00,  5.5547e+00, -8.8516e+00,\n",
    "         -3.9414e+00, -8.7500e+00, -8.8281e+00, -5.8594e+00, -7.1406e+00],\n",
    "        [-8.5234e+00,  7.3096e-01, -1.6338e+00, -5.9883e+00, -3.6738e+00,\n",
    "         -9.7119e-01, -7.0391e+00, -8.5938e+00,  5.3906e+00, -8.6719e+00,\n",
    "         -3.8613e+00, -8.6094e+00, -8.6172e+00, -6.8281e+00, -7.0781e+00],\n",
    "        [-8.5078e+00, -1.4619e+00,  3.4297e+00, -6.2383e+00, -7.5703e+00,\n",
    "          7.1914e+00, -6.7344e+00, -8.5312e+00,  7.4365e-01, -8.4141e+00,\n",
    "         -1.0859e+01, -8.6172e+00, -8.5859e+00, -8.7188e+00, -7.8789e+00],\n",
    "        [-8.7344e+00, -1.9346e+00,  3.5625e+00, -7.2969e+00, -8.2422e+00,\n",
    "          8.2031e+00, -7.3086e+00, -8.7812e+00,  2.4646e-01, -8.6797e+00,\n",
    "         -1.2719e+01, -8.7656e+00, -8.7969e+00, -9.5781e+00, -8.3438e+00],\n",
    "        [-8.6719e+00, -3.6011e-01,  2.9512e+00, -7.9492e+00, -7.5273e+00,\n",
    "          7.4922e+00, -5.5586e+00, -8.6719e+00, -2.3086e+00, -8.6016e+00,\n",
    "         -1.0711e+01, -8.7266e+00, -8.7109e+00, -8.8047e+00, -6.1641e+00],\n",
    "        [-8.1875e+00,  2.7344e-01,  2.9961e+00, -7.1562e+00, -7.0820e+00,\n",
    "          7.1289e+00, -5.8203e+00, -8.1797e+00, -1.7051e+00, -8.1328e+00,\n",
    "         -9.8984e+00, -8.2266e+00, -8.2344e+00, -7.6445e+00, -5.8477e+00],\n",
    "        [-7.6133e+00, -2.2988e+00,  3.1152e+00, -6.2695e+00, -6.8945e+00,\n",
    "          7.0859e+00, -5.3398e+00, -7.7461e+00,  1.9604e-01, -7.6914e+00,\n",
    "         -8.4375e+00, -7.7656e+00, -7.7891e+00, -7.3711e+00, -7.1367e+00],\n",
    "        [-7.3594e+00, -1.8008e+00,  1.9775e+00, -5.8789e+00, -6.0547e+00,\n",
    "          6.6484e+00, -4.2539e+00, -7.4883e+00,  7.0068e-01, -7.4492e+00,\n",
    "         -6.7344e+00, -7.5039e+00, -7.5625e+00, -6.8984e+00, -6.7109e+00]])"
   ]
  },
  {
   "cell_type": "code",
   "execution_count": 24,
   "id": "9627421b-9ce2-4b96-8e4a-02de135b3a40",
   "metadata": {},
   "outputs": [
    {
     "data": {
      "text/plain": [
       "tensor([ 8,  8,  8,  8,  8,  8,  8,  8,  8,  8, 13, 13, 13, 13,  4,  4, 13, 14,\n",
       "         1,  1,  4,  4,  4, 14, 13,  3,  6,  6, 10,  4,  6,  6, 14,  6,  3,  6,\n",
       "         4, 14,  8,  8, 10,  8,  8,  8,  1,  3,  1,  1,  1,  1,  6,  6,  1,  1,\n",
       "         8,  8, 10, 10,  2,  5,  5,  2,  2,  5])"
      ]
     },
     "execution_count": 24,
     "metadata": {},
     "output_type": "execute_result"
    }
   ],
   "source": [
    "inp.softmax(0).argmax(1)"
   ]
  },
  {
   "cell_type": "code",
   "execution_count": 17,
   "id": "2e035c4a-fb67-4a22-98b1-e20bec55c376",
   "metadata": {},
   "outputs": [
    {
     "data": {
      "text/plain": [
       "tensor(593)"
      ]
     },
     "execution_count": 17,
     "metadata": {},
     "output_type": "execute_result"
    }
   ],
   "source": [
    "F.softmax(inp,1).argmax()"
   ]
  },
  {
   "cell_type": "code",
   "execution_count": 19,
   "id": "e0ac6d18-a41b-49af-9757-98c7122bb313",
   "metadata": {},
   "outputs": [
    {
     "data": {
      "text/plain": [
       "torch.Size([64])"
      ]
     },
     "execution_count": 19,
     "metadata": {},
     "output_type": "execute_result"
    }
   ],
   "source": [
    "t=tensor([8, 8, 8, 8, 8, 8, 8, 8, 8, 8, 4, 4, 4, 4, 4, 4, 4, 4, 4, 4, 4, 4, 4, 4,\n",
    "        4, 4, 4, 4, 4, 4, 4, 4, 4, 4, 4, 4, 4, 4, 8, 8, 8, 8, 8, 8, 1, 1, 1, 1,\n",
    "        1, 1, 1, 1, 1, 1, 8, 8, 8, 8, 5, 5, 5, 5, 5, 5])\n",
    "t.shape"
   ]
  },
  {
   "cell_type": "code",
   "execution_count": 11,
   "id": "79bf25a2-6b07-4c27-8e7c-dfdc57547b3a",
   "metadata": {},
   "outputs": [],
   "source": [
    "tta_res=[]\n",
    "tta_res.append((torch.rand((4,64,45)),torch.rand((4,64,45))))"
   ]
  },
  {
   "cell_type": "code",
   "execution_count": 19,
   "id": "61304854-11ed-439c-8252-0951e46efea5",
   "metadata": {},
   "outputs": [
    {
     "data": {
      "text/plain": [
       "\u001b[0;31mSignature:\u001b[0m \u001b[0mfirst\u001b[0m\u001b[0;34m(\u001b[0m\u001b[0mx\u001b[0m\u001b[0;34m,\u001b[0m \u001b[0mf\u001b[0m\u001b[0;34m=\u001b[0m\u001b[0;32mNone\u001b[0m\u001b[0;34m,\u001b[0m \u001b[0mnegate\u001b[0m\u001b[0;34m=\u001b[0m\u001b[0;32mFalse\u001b[0m\u001b[0;34m,\u001b[0m \u001b[0;34m**\u001b[0m\u001b[0mkwargs\u001b[0m\u001b[0;34m)\u001b[0m\u001b[0;34m\u001b[0m\u001b[0;34m\u001b[0m\u001b[0m\n",
       "\u001b[0;31mSource:\u001b[0m   \n",
       "\u001b[0;32mdef\u001b[0m \u001b[0mfirst\u001b[0m\u001b[0;34m(\u001b[0m\u001b[0mx\u001b[0m\u001b[0;34m,\u001b[0m \u001b[0mf\u001b[0m\u001b[0;34m=\u001b[0m\u001b[0;32mNone\u001b[0m\u001b[0;34m,\u001b[0m \u001b[0mnegate\u001b[0m\u001b[0;34m=\u001b[0m\u001b[0;32mFalse\u001b[0m\u001b[0;34m,\u001b[0m \u001b[0;34m**\u001b[0m\u001b[0mkwargs\u001b[0m\u001b[0;34m)\u001b[0m\u001b[0;34m:\u001b[0m\u001b[0;34m\u001b[0m\n",
       "\u001b[0;34m\u001b[0m    \u001b[0;34m\"First element of `x`, optionally filtered by `f`, or None if missing\"\u001b[0m\u001b[0;34m\u001b[0m\n",
       "\u001b[0;34m\u001b[0m    \u001b[0mx\u001b[0m \u001b[0;34m=\u001b[0m \u001b[0miter\u001b[0m\u001b[0;34m(\u001b[0m\u001b[0mx\u001b[0m\u001b[0;34m)\u001b[0m\u001b[0;34m\u001b[0m\n",
       "\u001b[0;34m\u001b[0m    \u001b[0;32mif\u001b[0m \u001b[0mf\u001b[0m\u001b[0;34m:\u001b[0m \u001b[0mx\u001b[0m \u001b[0;34m=\u001b[0m \u001b[0mfilter_ex\u001b[0m\u001b[0;34m(\u001b[0m\u001b[0mx\u001b[0m\u001b[0;34m,\u001b[0m \u001b[0mf\u001b[0m\u001b[0;34m=\u001b[0m\u001b[0mf\u001b[0m\u001b[0;34m,\u001b[0m \u001b[0mnegate\u001b[0m\u001b[0;34m=\u001b[0m\u001b[0mnegate\u001b[0m\u001b[0;34m,\u001b[0m \u001b[0mgen\u001b[0m\u001b[0;34m=\u001b[0m\u001b[0;32mTrue\u001b[0m\u001b[0;34m,\u001b[0m \u001b[0;34m**\u001b[0m\u001b[0mkwargs\u001b[0m\u001b[0;34m)\u001b[0m\u001b[0;34m\u001b[0m\n",
       "\u001b[0;34m\u001b[0m    \u001b[0;32mreturn\u001b[0m \u001b[0mnext\u001b[0m\u001b[0;34m(\u001b[0m\u001b[0mx\u001b[0m\u001b[0;34m,\u001b[0m \u001b[0;32mNone\u001b[0m\u001b[0;34m)\u001b[0m\u001b[0;34m\u001b[0m\u001b[0;34m\u001b[0m\u001b[0m\n",
       "\u001b[0;31mFile:\u001b[0m      ~/mambaforge/lib/python3.9/site-packages/fastcore/basics.py\n",
       "\u001b[0;31mType:\u001b[0m      function\n"
      ]
     },
     "metadata": {},
     "output_type": "display_data"
    }
   ],
   "source": [
    "first??"
   ]
  },
  {
   "cell_type": "code",
   "execution_count": 20,
   "id": "2621bbbe-d88d-4f87-bc60-8022c90496a8",
   "metadata": {},
   "outputs": [
    {
     "data": {
      "text/plain": [
       "\u001b[0;31mDocstring:\u001b[0m\n",
       "next(iterator[, default])\n",
       "\n",
       "Return the next item from the iterator. If default is given and the iterator\n",
       "is exhausted, it is returned instead of raising StopIteration.\n",
       "\u001b[0;31mType:\u001b[0m      builtin_function_or_method\n"
      ]
     },
     "metadata": {},
     "output_type": "display_data"
    }
   ],
   "source": [
    "next??"
   ]
  },
  {
   "cell_type": "code",
   "execution_count": null,
   "id": "75a9158e-97bb-44a6-8cd7-afc641d16bcd",
   "metadata": {},
   "outputs": [],
   "source": [
    "path=Path()/'data/train_images_small'; path.ls()"
   ]
  },
  {
   "cell_type": "code",
   "execution_count": null,
   "id": "a1cee688-2f95-471d-b6bc-ecfc3592664f",
   "metadata": {},
   "outputs": [],
   "source": [
    "files = get_image_files(path); len(files)"
   ]
  },
  {
   "cell_type": "code",
   "execution_count": null,
   "id": "dbd416bf-b66d-40a0-a14e-ec3fe106b053",
   "metadata": {},
   "outputs": [],
   "source": [
    "f=files[0]"
   ]
  },
  {
   "cell_type": "code",
   "execution_count": null,
   "id": "6cbdad95-2ac7-46f7-9c42-2ffa83b19e03",
   "metadata": {},
   "outputs": [],
   "source": [
    "PILImage.create(f).size"
   ]
  },
  {
   "cell_type": "code",
   "execution_count": null,
   "id": "c62ee19f-b425-46f8-b8cd-11e181d559b3",
   "metadata": {},
   "outputs": [],
   "source": [
    "!pwd"
   ]
  },
  {
   "cell_type": "code",
   "execution_count": null,
   "id": "19fedae0-0021-49d3-8cc9-a2cde8a585a4",
   "metadata": {},
   "outputs": [],
   "source": [
    "df.head()"
   ]
  },
  {
   "cell_type": "code",
   "execution_count": null,
   "id": "fdf4b948-7b8e-4b23-8c2f-8dac2f0339d3",
   "metadata": {},
   "outputs": [],
   "source": [
    "df = pd.read_csv('data/labels.csv');\n",
    "df = df.loc[:, ~df.columns.str.contains('^Unnamed')]\n",
    "\n",
    "def _test_splitter(f, items=None):\n",
    "    \"A basic set of condition a splitter must pass\"\n",
    "    items = ifnone(items, range_of(30))\n",
    "    trn,val = f(items)\n",
    "    assert 0<len(trn)<len(items)\n",
    "    assert all(o not in val for o in trn)\n",
    "    test_eq(len(trn), len(items)-len(val))\n",
    "    # test random seed consistency\n",
    "    test_eq(f(items)[0], trn)\n",
    "    return trn, val\n",
    "\n",
    "def clean_labels(c): return str([(i).strip() for i in re.sub(r\"[\\[\\]]\",'',c).split(',')]).replace(\"'\",\"\").strip(\"'\")\n",
    "df['tools_present'] = df['tools_present'].apply(clean_labels)\n",
    "mapping_c = {k:v for v,k in enumerate(df.tools_present.unique())}\n",
    "df['tools_present_code'] = df.tools_present.map(mapping_c)\n",
    "mapping_n = df.tools_present.value_counts().to_dict(); mapping_n\n",
    "df['tools_present_ucount'] = df.tools_present.map(mapping_n)\n",
    "print(len(df))\n",
    "df_ones = df[df['tools_present_ucount']==1]\n",
    "df.drop(df_ones.index, inplace=True)\n",
    "df.reset_index(inplace=True,drop=True)\n",
    "df_ones.reset_index(inplace=True,drop=True)\n",
    "\n",
    "print(len(df))"
   ]
  },
  {
   "cell_type": "code",
   "execution_count": null,
   "id": "475b29e5-97e9-4696-ac99-c70eb0560922",
   "metadata": {},
   "outputs": [],
   "source": [
    "src = list(df.index)\n",
    "labels = list(df.tools_present_code)\n",
    "test_size = 0.2\n",
    "\n",
    "f = TrainTestSplitter(test_size=test_size, random_state=42, stratify=labels)\n",
    "trn,val = _test_splitter(f, items=src)\n",
    "\n",
    "print(len(df), len(trn), len(val))\n",
    "df.head(10)"
   ]
  },
  {
   "cell_type": "code",
   "execution_count": null,
   "id": "074f9b90-4d34-496b-a209-503a6d72243e",
   "metadata": {},
   "outputs": [],
   "source": [
    "df['valid']='False'\n",
    "for i in val: df.loc[i,'valid']=True\n",
    "df.valid.value_counts()"
   ]
  },
  {
   "cell_type": "code",
   "execution_count": null,
   "id": "e999d6d7-7c64-4eea-8623-c8c85cd95bd0",
   "metadata": {},
   "outputs": [],
   "source": [
    "df.set_index('clip_name',inplace=True,drop=True)\n",
    "\n",
    "files=get_image_files(path)\n",
    "parent_label(files[0])"
   ]
  },
  {
   "cell_type": "code",
   "execution_count": null,
   "id": "98a3134b-9e24-4de4-8069-d969771bb3d0",
   "metadata": {},
   "outputs": [],
   "source": [
    "files_df = pd.DataFrame(list(get_image_files(path)),columns=['image_id'])\n",
    "files_df['clip_name']=files_df['image_id'].map(parent_label)\n",
    "def clip_labeller(c): \n",
    "    try:\n",
    "        return df.loc[c,'tools_present']\n",
    "    except KeyError as err:\n",
    "        return None\n",
    "        \n",
    "files_df['labels']=files_df['clip_name'].map(clip_labeller) \n",
    "files_df.head()"
   ]
  },
  {
   "cell_type": "code",
   "execution_count": null,
   "id": "7f8ec1cb-0396-47ab-9a78-ddbca59fe774",
   "metadata": {},
   "outputs": [],
   "source": [
    "def clip_splitter(f): \n",
    "    try: \n",
    "        return df.loc[f,'valid'] \n",
    "    except KeyError as err: \n",
    "        return None"
   ]
  },
  {
   "cell_type": "code",
   "execution_count": null,
   "id": "ab1135a4-ac22-4eb6-be4f-a114dcbdd029",
   "metadata": {},
   "outputs": [],
   "source": [
    "files_df['valid']=files_df['clip_name'].map(clip_splitter)"
   ]
  },
  {
   "cell_type": "code",
   "execution_count": null,
   "id": "070b1427-8a01-4647-85a6-c32690880c94",
   "metadata": {},
   "outputs": [],
   "source": [
    "files_df['valid'].value_counts()/len(files_df)*100"
   ]
  },
  {
   "cell_type": "code",
   "execution_count": null,
   "id": "e6ae0038-8f8e-430a-b0cc-1999e1ae0244",
   "metadata": {},
   "outputs": [],
   "source": [
    "files_df.sort_values(by='clip_name', inplace=True)\n",
    "files_df.to_csv('files_df.csv', index=False)"
   ]
  },
  {
   "cell_type": "code",
   "execution_count": null,
   "id": "3409c3ea-fc6d-437b-8acd-9097ddf66e05",
   "metadata": {},
   "outputs": [],
   "source": [
    "CrossEntropyLossFlat??"
   ]
  },
  {
   "cell_type": "code",
   "execution_count": null,
   "id": "e4508548-a9a5-4e7d-9c03-07c6f0c03b2c",
   "metadata": {},
   "outputs": [],
   "source": [
    "tensor([1.0,1.0,1.0,1.0])*0.25"
   ]
  },
  {
   "cell_type": "code",
   "execution_count": null,
   "id": "468e6cb6-b637-4e46-8b5e-41c2ebfe0d83",
   "metadata": {},
   "outputs": [],
   "source": [
    "a,b,c,d=1,2,3,4\n",
    "\n",
    "def t(preds, *targs):\n",
    "    print(preds, targs)"
   ]
  },
  {
   "cell_type": "code",
   "execution_count": null,
   "id": "7cf53de6-7a99-4cff-869d-d693ff8784c8",
   "metadata": {},
   "outputs": [],
   "source": [
    "t(a,b,c,d)"
   ]
  },
  {
   "cell_type": "code",
   "execution_count": null,
   "id": "b6705857-e4a7-4343-9959-08933da5ec1f",
   "metadata": {},
   "outputs": [],
   "source": [
    "import cx_Oracle\n",
    "from login import db_config"
   ]
  },
  {
   "cell_type": "code",
   "execution_count": null,
   "id": "95dd611e-c008-4866-a410-766217d73b9b",
   "metadata": {},
   "outputs": [],
   "source": [
    "db_config"
   ]
  },
  {
   "cell_type": "code",
   "execution_count": null,
   "id": "d1187e62-ca3a-426d-848d-ca98159072fe",
   "metadata": {},
   "outputs": [],
   "source": [
    "db_config['encoding']"
   ]
  },
  {
   "cell_type": "code",
   "execution_count": null,
   "id": "508e0701-a7c8-4b0a-bc7d-c7ba2ee4c88b",
   "metadata": {},
   "outputs": [],
   "source": [
    "# Connect as user \"hr\" with password \"welcome\" to the \"orclpdb1\" service running on this computer.\n",
    "connection = cx_Oracle.connect(user=db_config['user'],password=db_config['pwd'],dsn=db_config['dsn'],encoding=db_config['encoding'])\n",
    "\n",
    "cursor = connection.cursor()\n",
    "cursor.execute(\"\"\"SELECT id, name FROM person\"\"\")\n",
    "res = cursor.fetchall()\n",
    "for row in res:\n",
    "    print(row)\n",
    "cursor.close()"
   ]
  },
  {
   "cell_type": "code",
   "execution_count": null,
   "id": "883e6683-15c9-460e-b4d7-0f2899df3360",
   "metadata": {},
   "outputs": [],
   "source": [
    "vision_learner.get_preds??"
   ]
  },
  {
   "cell_type": "code",
   "execution_count": 3,
   "id": "4641420a-955e-476f-b7c0-2ee4f79df025",
   "metadata": {},
   "outputs": [
    {
     "name": "stdout",
     "output_type": "stream",
     "text": [
      "Requirement already satisfied: nbdev in /home/bilal/mambaforge/lib/python3.9/site-packages (2.1.1)\n",
      "Requirement already satisfied: fastcore>=1.5.14 in /home/bilal/mambaforge/lib/python3.9/site-packages (from nbdev) (1.5.14)\n",
      "Requirement already satisfied: ghapi in /home/bilal/mambaforge/lib/python3.9/site-packages (from nbdev) (0.1.21)\n",
      "Requirement already satisfied: execnb in /home/bilal/mambaforge/lib/python3.9/site-packages (from nbdev) (0.0.9)\n",
      "Requirement already satisfied: astunparse in /home/bilal/mambaforge/lib/python3.9/site-packages (from nbdev) (1.6.3)\n",
      "Requirement already satisfied: pip in /home/bilal/mambaforge/lib/python3.9/site-packages (from fastcore>=1.5.14->nbdev) (22.1.2)\n",
      "Requirement already satisfied: packaging in /home/bilal/mambaforge/lib/python3.9/site-packages (from fastcore>=1.5.14->nbdev) (21.3)\n",
      "Requirement already satisfied: six<2.0,>=1.6.1 in /home/bilal/mambaforge/lib/python3.9/site-packages (from astunparse->nbdev) (1.16.0)\n",
      "Requirement already satisfied: wheel<1.0,>=0.23.0 in /home/bilal/mambaforge/lib/python3.9/site-packages (from astunparse->nbdev) (0.37.1)\n",
      "Requirement already satisfied: ipython in /home/bilal/mambaforge/lib/python3.9/site-packages (from execnb->nbdev) (8.4.0)\n",
      "Requirement already satisfied: decorator in /home/bilal/mambaforge/lib/python3.9/site-packages (from ipython->execnb->nbdev) (5.1.1)\n",
      "Requirement already satisfied: pygments>=2.4.0 in /home/bilal/mambaforge/lib/python3.9/site-packages (from ipython->execnb->nbdev) (2.12.0)\n",
      "Requirement already satisfied: prompt-toolkit!=3.0.0,!=3.0.1,<3.1.0,>=2.0.0 in /home/bilal/mambaforge/lib/python3.9/site-packages (from ipython->execnb->nbdev) (3.0.29)\n",
      "Requirement already satisfied: matplotlib-inline in /home/bilal/mambaforge/lib/python3.9/site-packages (from ipython->execnb->nbdev) (0.1.3)\n",
      "Requirement already satisfied: jedi>=0.16 in /home/bilal/mambaforge/lib/python3.9/site-packages (from ipython->execnb->nbdev) (0.18.1)\n",
      "Requirement already satisfied: setuptools>=18.5 in /home/bilal/mambaforge/lib/python3.9/site-packages (from ipython->execnb->nbdev) (62.3.2)\n",
      "Requirement already satisfied: traitlets>=5 in /home/bilal/mambaforge/lib/python3.9/site-packages (from ipython->execnb->nbdev) (5.2.2.post1)\n",
      "Requirement already satisfied: pexpect>4.3 in /home/bilal/mambaforge/lib/python3.9/site-packages (from ipython->execnb->nbdev) (4.8.0)\n",
      "Requirement already satisfied: backcall in /home/bilal/mambaforge/lib/python3.9/site-packages (from ipython->execnb->nbdev) (0.2.0)\n",
      "Requirement already satisfied: stack-data in /home/bilal/mambaforge/lib/python3.9/site-packages (from ipython->execnb->nbdev) (0.2.0)\n",
      "Requirement already satisfied: pickleshare in /home/bilal/mambaforge/lib/python3.9/site-packages (from ipython->execnb->nbdev) (0.7.5)\n",
      "Requirement already satisfied: pyparsing!=3.0.5,>=2.0.2 in /home/bilal/mambaforge/lib/python3.9/site-packages (from packaging->fastcore>=1.5.14->nbdev) (3.0.9)\n",
      "Requirement already satisfied: parso<0.9.0,>=0.8.0 in /home/bilal/mambaforge/lib/python3.9/site-packages (from jedi>=0.16->ipython->execnb->nbdev) (0.8.3)\n",
      "Requirement already satisfied: ptyprocess>=0.5 in /home/bilal/mambaforge/lib/python3.9/site-packages (from pexpect>4.3->ipython->execnb->nbdev) (0.7.0)\n",
      "Requirement already satisfied: wcwidth in /home/bilal/mambaforge/lib/python3.9/site-packages (from prompt-toolkit!=3.0.0,!=3.0.1,<3.1.0,>=2.0.0->ipython->execnb->nbdev) (0.2.5)\n",
      "Requirement already satisfied: asttokens in /home/bilal/mambaforge/lib/python3.9/site-packages (from stack-data->ipython->execnb->nbdev) (2.0.5)\n",
      "Requirement already satisfied: pure-eval in /home/bilal/mambaforge/lib/python3.9/site-packages (from stack-data->ipython->execnb->nbdev) (0.2.2)\n",
      "Requirement already satisfied: executing in /home/bilal/mambaforge/lib/python3.9/site-packages (from stack-data->ipython->execnb->nbdev) (0.8.3)\n"
     ]
    }
   ],
   "source": [
    "!pip install -U nbdev"
   ]
  },
  {
   "cell_type": "code",
   "execution_count": 2,
   "id": "a14e8eb7-c74a-4f83-8a37-e0c490c3232d",
   "metadata": {},
   "outputs": [
    {
     "name": "stdout",
     "output_type": "stream",
     "text": [
      "Requirement already satisfied: fastai in /home/bilal/mambaforge/lib/python3.9/site-packages (2.7.6)\n",
      "Collecting fastai\n",
      "  Downloading fastai-2.7.8-py3-none-any.whl (235 kB)\n",
      "\u001b[2K     \u001b[38;2;114;156;31m━━━━━━━━━━━━━━━━━━━━━━━━━━━━━━━━━━━━━━━\u001b[0m \u001b[32m235.2/235.2 kB\u001b[0m \u001b[31m5.2 MB/s\u001b[0m eta \u001b[36m0:00:00\u001b[0m MB/s\u001b[0m eta \u001b[36m0:00:01\u001b[0m\n",
      "\u001b[?25hRequirement already satisfied: torch<1.14,>=1.7 in /home/bilal/mambaforge/lib/python3.9/site-packages (from fastai) (1.11.0)\n",
      "Requirement already satisfied: torchvision>=0.8.2 in /home/bilal/mambaforge/lib/python3.9/site-packages (from fastai) (0.12.0)\n",
      "Requirement already satisfied: fastprogress>=0.2.4 in /home/bilal/mambaforge/lib/python3.9/site-packages (from fastai) (1.0.2)\n",
      "Requirement already satisfied: matplotlib in /home/bilal/mambaforge/lib/python3.9/site-packages (from fastai) (3.5.2)\n",
      "Requirement already satisfied: fastdownload<2,>=0.0.5 in /home/bilal/mambaforge/lib/python3.9/site-packages (from fastai) (0.0.6)\n",
      "Requirement already satisfied: pip in /home/bilal/mambaforge/lib/python3.9/site-packages (from fastai) (22.1.2)\n",
      "Requirement already satisfied: pandas in /home/bilal/mambaforge/lib/python3.9/site-packages (from fastai) (1.4.2)\n",
      "Requirement already satisfied: pyyaml in /home/bilal/mambaforge/lib/python3.9/site-packages (from fastai) (6.0)\n",
      "Requirement already satisfied: pillow>6.0.0 in /home/bilal/mambaforge/lib/python3.9/site-packages (from fastai) (9.1.1)\n",
      "Requirement already satisfied: scikit-learn in /home/bilal/mambaforge/lib/python3.9/site-packages (from fastai) (1.1.1)\n",
      "Requirement already satisfied: scipy in /home/bilal/mambaforge/lib/python3.9/site-packages (from fastai) (1.8.1)\n",
      "Requirement already satisfied: spacy<4 in /home/bilal/mambaforge/lib/python3.9/site-packages (from fastai) (3.2.4)\n",
      "Requirement already satisfied: fastcore<1.6,>=1.4.5 in /home/bilal/mambaforge/lib/python3.9/site-packages (from fastai) (1.5.14)\n",
      "Requirement already satisfied: packaging in /home/bilal/mambaforge/lib/python3.9/site-packages (from fastai) (21.3)\n",
      "Requirement already satisfied: requests in /home/bilal/mambaforge/lib/python3.9/site-packages (from fastai) (2.27.1)\n",
      "Requirement already satisfied: typer<0.5.0,>=0.3.0 in /home/bilal/mambaforge/lib/python3.9/site-packages (from spacy<4->fastai) (0.4.1)\n",
      "Requirement already satisfied: catalogue<2.1.0,>=2.0.6 in /home/bilal/mambaforge/lib/python3.9/site-packages (from spacy<4->fastai) (2.0.6)\n",
      "Requirement already satisfied: pathy>=0.3.5 in /home/bilal/mambaforge/lib/python3.9/site-packages (from spacy<4->fastai) (0.6.1)\n",
      "Requirement already satisfied: tqdm<5.0.0,>=4.38.0 in /home/bilal/mambaforge/lib/python3.9/site-packages (from spacy<4->fastai) (4.64.0)\n",
      "Requirement already satisfied: preshed<3.1.0,>=3.0.2 in /home/bilal/mambaforge/lib/python3.9/site-packages (from spacy<4->fastai) (3.0.6)\n",
      "Requirement already satisfied: wasabi<1.1.0,>=0.8.1 in /home/bilal/mambaforge/lib/python3.9/site-packages (from spacy<4->fastai) (0.9.1)\n",
      "Requirement already satisfied: murmurhash<1.1.0,>=0.28.0 in /home/bilal/mambaforge/lib/python3.9/site-packages (from spacy<4->fastai) (1.0.7)\n",
      "Requirement already satisfied: srsly<3.0.0,>=2.4.1 in /home/bilal/mambaforge/lib/python3.9/site-packages (from spacy<4->fastai) (2.4.3)\n",
      "Requirement already satisfied: spacy-loggers<2.0.0,>=1.0.0 in /home/bilal/mambaforge/lib/python3.9/site-packages (from spacy<4->fastai) (1.0.2)\n",
      "Requirement already satisfied: pydantic!=1.8,!=1.8.1,<1.9.0,>=1.7.4 in /home/bilal/mambaforge/lib/python3.9/site-packages (from spacy<4->fastai) (1.8.2)\n",
      "Requirement already satisfied: cymem<2.1.0,>=2.0.2 in /home/bilal/mambaforge/lib/python3.9/site-packages (from spacy<4->fastai) (2.0.6)\n",
      "Requirement already satisfied: blis<0.8.0,>=0.4.0 in /home/bilal/mambaforge/lib/python3.9/site-packages (from spacy<4->fastai) (0.7.7)\n",
      "Requirement already satisfied: thinc<8.1.0,>=8.0.12 in /home/bilal/mambaforge/lib/python3.9/site-packages (from spacy<4->fastai) (8.0.17)\n",
      "Requirement already satisfied: spacy-legacy<3.1.0,>=3.0.8 in /home/bilal/mambaforge/lib/python3.9/site-packages (from spacy<4->fastai) (3.0.9)\n",
      "Requirement already satisfied: setuptools in /home/bilal/mambaforge/lib/python3.9/site-packages (from spacy<4->fastai) (62.3.2)\n",
      "Requirement already satisfied: langcodes<4.0.0,>=3.2.0 in /home/bilal/mambaforge/lib/python3.9/site-packages (from spacy<4->fastai) (3.3.0)\n",
      "Requirement already satisfied: click<8.1.0 in /home/bilal/mambaforge/lib/python3.9/site-packages (from spacy<4->fastai) (7.1.2)\n",
      "Requirement already satisfied: numpy>=1.15.0 in /home/bilal/mambaforge/lib/python3.9/site-packages (from spacy<4->fastai) (1.22.4)\n",
      "Requirement already satisfied: jinja2 in /home/bilal/mambaforge/lib/python3.9/site-packages (from spacy<4->fastai) (3.1.2)\n",
      "Requirement already satisfied: pyparsing!=3.0.5,>=2.0.2 in /home/bilal/mambaforge/lib/python3.9/site-packages (from packaging->fastai) (3.0.9)\n",
      "Requirement already satisfied: urllib3<1.27,>=1.21.1 in /home/bilal/mambaforge/lib/python3.9/site-packages (from requests->fastai) (1.26.9)\n",
      "Requirement already satisfied: charset-normalizer~=2.0.0 in /home/bilal/mambaforge/lib/python3.9/site-packages (from requests->fastai) (2.0.12)\n",
      "Requirement already satisfied: certifi>=2017.4.17 in /home/bilal/mambaforge/lib/python3.9/site-packages (from requests->fastai) (2022.6.15)\n",
      "Requirement already satisfied: idna<4,>=2.5 in /home/bilal/mambaforge/lib/python3.9/site-packages (from requests->fastai) (3.3)\n",
      "Requirement already satisfied: typing_extensions in /home/bilal/mambaforge/lib/python3.9/site-packages (from torch<1.14,>=1.7->fastai) (4.2.0)\n",
      "Requirement already satisfied: python-dateutil>=2.7 in /home/bilal/mambaforge/lib/python3.9/site-packages (from matplotlib->fastai) (2.8.2)\n",
      "Requirement already satisfied: kiwisolver>=1.0.1 in /home/bilal/mambaforge/lib/python3.9/site-packages (from matplotlib->fastai) (1.4.2)\n",
      "Requirement already satisfied: fonttools>=4.22.0 in /home/bilal/mambaforge/lib/python3.9/site-packages (from matplotlib->fastai) (4.33.3)\n",
      "Requirement already satisfied: cycler>=0.10 in /home/bilal/mambaforge/lib/python3.9/site-packages (from matplotlib->fastai) (0.11.0)\n",
      "Requirement already satisfied: pytz>=2020.1 in /home/bilal/mambaforge/lib/python3.9/site-packages (from pandas->fastai) (2022.1)\n",
      "Requirement already satisfied: joblib>=1.0.0 in /home/bilal/mambaforge/lib/python3.9/site-packages (from scikit-learn->fastai) (1.1.0)\n",
      "Requirement already satisfied: threadpoolctl>=2.0.0 in /home/bilal/mambaforge/lib/python3.9/site-packages (from scikit-learn->fastai) (3.1.0)\n",
      "Requirement already satisfied: smart-open<6.0.0,>=5.0.0 in /home/bilal/mambaforge/lib/python3.9/site-packages (from pathy>=0.3.5->spacy<4->fastai) (5.2.1)\n",
      "Requirement already satisfied: six>=1.5 in /home/bilal/mambaforge/lib/python3.9/site-packages (from python-dateutil>=2.7->matplotlib->fastai) (1.16.0)\n",
      "Requirement already satisfied: MarkupSafe>=2.0 in /home/bilal/mambaforge/lib/python3.9/site-packages (from jinja2->spacy<4->fastai) (2.1.1)\n",
      "Installing collected packages: fastai\n",
      "  Attempting uninstall: fastai\n",
      "    Found existing installation: fastai 2.7.6\n",
      "    Uninstalling fastai-2.7.6:\n",
      "      Successfully uninstalled fastai-2.7.6\n",
      "Successfully installed fastai-2.7.8\n"
     ]
    }
   ],
   "source": [
    "!pip install -U fastai"
   ]
  },
  {
   "cell_type": "code",
   "execution_count": 4,
   "id": "f0ebd2ca-353c-46c9-a42f-94a30bdf8d67",
   "metadata": {},
   "outputs": [],
   "source": [
    "#|default_exp app"
   ]
  },
  {
   "cell_type": "code",
   "execution_count": 5,
   "id": "c5d04ebd-641d-4ced-bd62-030b728cd3da",
   "metadata": {},
   "outputs": [],
   "source": [
    "#|export\n",
    "a=1"
   ]
  },
  {
   "cell_type": "code",
   "execution_count": 9,
   "id": "e2b69744-910d-498b-88a7-c9bc4308e0be",
   "metadata": {},
   "outputs": [],
   "source": [
    "from nbdev.export import nb_export\n",
    "nb_export('testnbdev.ipynb', '.')"
   ]
  },
  {
   "cell_type": "code",
   "execution_count": 10,
   "id": "4330363c-adbd-4867-919a-f9d03f71a0fe",
   "metadata": {},
   "outputs": [
    {
     "name": "stdout",
     "output_type": "stream",
     "text": [
      "# AUTOGENERATED! DO NOT EDIT! File to edit: testnbdev.ipynb.\n",
      "\n",
      "# %% auto 0\n",
      "__all__ = ['a']\n",
      "\n",
      "# %% testnbdev.ipynb 36\n",
      "a=1\n"
     ]
    }
   ],
   "source": [
    "!cat app.py"
   ]
  },
  {
   "cell_type": "code",
   "execution_count": null,
   "id": "cb359abe-af9c-4d2b-a0be-3ea10c81a579",
   "metadata": {},
   "outputs": [],
   "source": []
  }
 ],
 "metadata": {
  "kernelspec": {
   "display_name": "Python 3 (ipykernel)",
   "language": "python",
   "name": "python3"
  },
  "language_info": {
   "codemirror_mode": {
    "name": "ipython",
    "version": 3
   },
   "file_extension": ".py",
   "mimetype": "text/x-python",
   "name": "python",
   "nbconvert_exporter": "python",
   "pygments_lexer": "ipython3",
   "version": "3.9.13"
  }
 },
 "nbformat": 4,
 "nbformat_minor": 5
}
