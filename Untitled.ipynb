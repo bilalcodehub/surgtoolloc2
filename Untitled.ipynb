{
 "cells": [
  {
   "cell_type": "code",
   "execution_count": 55,
   "id": "8cd224bd-c533-4374-af76-534d52e62e72",
   "metadata": {},
   "outputs": [],
   "source": [
    "from evalutils.io import *\n",
    "import re\n",
    "from fastai.vision.all import *"
   ]
  },
  {
   "cell_type": "code",
   "execution_count": 25,
   "id": "16744fd5-b38b-4a83-8360-95dd77e6c6eb",
   "metadata": {},
   "outputs": [
    {
     "data": {
      "text/plain": [
       "'endoscopic-robotic-surgery-video100'"
      ]
     },
     "execution_count": 25,
     "metadata": {},
     "output_type": "execute_result"
    }
   ],
   "source": [
    "s=Path('/input/endoscopic-robotic-surgery-video100.mp4')\n",
    "s.stem"
   ]
  },
  {
   "cell_type": "code",
   "execution_count": 26,
   "id": "1575cf7e-f0e9-4169-a9f0-0c8099a58c03",
   "metadata": {},
   "outputs": [],
   "source": [
    "r = re.compile(r\"\\D*((?:\\d+\\.?)+)\\D*\")"
   ]
  },
  {
   "cell_type": "code",
   "execution_count": 27,
   "id": "152de91a-b476-4b21-9380-0472b97e2dfa",
   "metadata": {},
   "outputs": [
    {
     "data": {
      "text/plain": [
       "<re.Match object; span=(0, 35), match='endoscopic-robotic-surgery-video100'>"
      ]
     },
     "execution_count": 27,
     "metadata": {},
     "output_type": "execute_result"
    }
   ],
   "source": [
    "m = r.search(s.stem)\n",
    "m"
   ]
  },
  {
   "cell_type": "code",
   "execution_count": 24,
   "id": "a5c77917-346d-41db-90a2-c468bfdfcf0f",
   "metadata": {},
   "outputs": [
    {
     "data": {
      "text/plain": [
       "100"
      ]
     },
     "execution_count": 28,
     "metadata": {},
     "output_type": "execute_result"
    }
   ],
   "source": [
    "int(m.group(1).replace(\".\", \"\"))"
   ]
  },
  {
   "cell_type": "code",
   "execution_count": 20,
   "id": "07061fcd-ad43-471e-91b3-c2e66058d655",
   "metadata": {},
   "outputs": [
    {
     "ename": "SyntaxError",
     "evalue": "invalid syntax (724844849.py, line 1)",
     "output_type": "error",
     "traceback": [
      "\u001b[0;36m  Input \u001b[0;32mIn [20]\u001b[0;36m\u001b[0m\n\u001b[0;31m    {1:>64}\u001b[0m\n\u001b[0m       ^\u001b[0m\n\u001b[0;31mSyntaxError\u001b[0m\u001b[0;31m:\u001b[0m invalid syntax\n"
     ]
    }
   ],
   "source": [
    "{1:>64}"
   ]
  },
  {
   "cell_type": "code",
   "execution_count": 30,
   "id": "25339516-6a2e-4bf2-bc99-b4781761d7a9",
   "metadata": {},
   "outputs": [],
   "source": [
    "def get_first_int_in(s: str) -> int:\n",
    "\n",
    "    r = re.compile(r\"\\D*((?:\\d+\\.?)+)\\D*\")\n",
    "    m = r.search(s)\n",
    "\n",
    "    if m is not None:\n",
    "        return int(m.group(1).replace(\".\", \"\"))\n",
    "    else:\n",
    "        raise AttributeError(f\"No int found in {s}\")"
   ]
  },
  {
   "cell_type": "code",
   "execution_count": 33,
   "id": "a68a473a-a2b4-4ec3-af63-e752515101fa",
   "metadata": {},
   "outputs": [],
   "source": [
    "def first_int_in_filename_key(fname: Path) -> str:\n",
    "    try:\n",
    "        return f\"{get_first_int_in(fname.stem):>10}\"\n",
    "    except AttributeError:\n",
    "        logger.warning(f\"Could not find an int in the string '{fname.stem}'.\")\n",
    "        return fname.stem"
   ]
  },
  {
   "cell_type": "code",
   "execution_count": 34,
   "id": "57593a9f-bbf0-4a93-be86-5be7fc360916",
   "metadata": {},
   "outputs": [
    {
     "data": {
      "text/plain": [
       "'       100'"
      ]
     },
     "execution_count": 34,
     "metadata": {},
     "output_type": "execute_result"
    }
   ],
   "source": [
    "first_int_in_filename_key(s)"
   ]
  },
  {
   "cell_type": "code",
   "execution_count": 35,
   "id": "0347d515-3a64-4ffd-bbf4-e16a34e8c8e1",
   "metadata": {},
   "outputs": [
    {
     "data": {
      "text/plain": [
       "PosixPath('/input/endoscopic-robotic-surgery-video100.mp4')"
      ]
     },
     "execution_count": 35,
     "metadata": {},
     "output_type": "execute_result"
    }
   ],
   "source": [
    "s"
   ]
  },
  {
   "cell_type": "code",
   "execution_count": 36,
   "id": "0b261073-e7a7-46ec-92ee-1e8c595772cf",
   "metadata": {},
   "outputs": [
    {
     "data": {
      "text/plain": [
       "PosixPath('/input/endoscopic-robotic-surgery-video100.mp4')"
      ]
     },
     "execution_count": 36,
     "metadata": {},
     "output_type": "execute_result"
    }
   ],
   "source": [
    "s.absolute()"
   ]
  },
  {
   "cell_type": "code",
   "execution_count": 43,
   "id": "01bb0889-9aed-4b03-9e47-36586416bf0a",
   "metadata": {},
   "outputs": [
    {
     "data": {
      "text/plain": [
       "'/home/bilal/mlworks/surgtoolloc2/input/endoscopic-robotic-surgery-video100.mp4'"
      ]
     },
     "execution_count": 43,
     "metadata": {},
     "output_type": "execute_result"
    }
   ],
   "source": [
    "str(Path('.').absolute())+str(s)"
   ]
  },
  {
   "cell_type": "code",
   "execution_count": 44,
   "id": "ca81abca-c99a-4a9e-ac3c-1a311c418425",
   "metadata": {},
   "outputs": [
    {
     "data": {
      "text/plain": [
       "'/home/bilal/mlworks/surgtoolloc2/input/endoscopic-robotic-surgery-video100.mp4'"
      ]
     },
     "execution_count": 44,
     "metadata": {},
     "output_type": "execute_result"
    }
   ],
   "source": [
    "str(Path().absolute())+str(s)"
   ]
  },
  {
   "cell_type": "code",
   "execution_count": 45,
   "id": "3cf32f27-6632-45b1-baaf-35f70414a1b7",
   "metadata": {},
   "outputs": [],
   "source": [
    "def f(a): \n",
    "    a=10\n",
    "    print(a)"
   ]
  },
  {
   "cell_type": "code",
   "execution_count": 46,
   "id": "af08eea9-4976-4df5-a5f7-462091811e15",
   "metadata": {},
   "outputs": [
    {
     "name": "stdout",
     "output_type": "stream",
     "text": [
      "10\n"
     ]
    }
   ],
   "source": [
    "f(1)"
   ]
  },
  {
   "cell_type": "code",
   "execution_count": 47,
   "id": "540deefe-f795-4e92-ba11-413b38fb7935",
   "metadata": {},
   "outputs": [
    {
     "data": {
      "text/plain": [
       "PosixPath('/input/endoscopic-robotic-surgery-video100.mp4')"
      ]
     },
     "execution_count": 47,
     "metadata": {},
     "output_type": "execute_result"
    }
   ],
   "source": [
    "Path(s)"
   ]
  },
  {
   "cell_type": "code",
   "execution_count": 48,
   "id": "acc65580-82af-4848-8fd8-8160a00b3b35",
   "metadata": {},
   "outputs": [],
   "source": [
    "case={'path':'/opt/algo'}"
   ]
  },
  {
   "cell_type": "code",
   "execution_count": 50,
   "id": "42e9bb4a-803d-4f63-94a6-8648c3088262",
   "metadata": {},
   "outputs": [
    {
     "data": {
      "text/plain": [
       "'/opt/algo'"
      ]
     },
     "execution_count": 50,
     "metadata": {},
     "output_type": "execute_result"
    }
   ],
   "source": [
    "case['path']"
   ]
  },
  {
   "cell_type": "code",
   "execution_count": 52,
   "id": "d6694d31-de1f-4e3d-81bd-d02fbdffd32b",
   "metadata": {},
   "outputs": [
    {
     "name": "stdout",
     "output_type": "stream",
     "text": [
      "/home/bilal/mlworks/surgtoolloc2\n"
     ]
    }
   ],
   "source": [
    "!pwd"
   ]
  },
  {
   "cell_type": "code",
   "execution_count": 65,
   "id": "8e93edf7-27c9-467c-9237-4aa12e509e44",
   "metadata": {},
   "outputs": [],
   "source": [
    "p=Path('./data')"
   ]
  },
  {
   "cell_type": "code",
   "execution_count": 66,
   "id": "47d7222a-435a-481a-aa8a-39714ea819dc",
   "metadata": {},
   "outputs": [
    {
     "data": {
      "text/plain": [
       "(#15) [Path('data/blank_images.pkl'),Path('data/images_df_final.csv'),Path('data/testing'),Path('data/images_df_raw.csv'),Path('data/readme.txt'),Path('data/.~lock.images_df.csv#'),Path('data/images_df.csv'),Path('data/train_images_orig'),Path('data/labels.csv'),Path('data/train_images_crop')...]"
      ]
     },
     "execution_count": 66,
     "metadata": {},
     "output_type": "execute_result"
    }
   ],
   "source": [
    "p.ls()"
   ]
  },
  {
   "cell_type": "code",
   "execution_count": null,
   "id": "445f369e-d60f-4206-9b84-5d0aae8cead6",
   "metadata": {},
   "outputs": [],
   "source": []
  }
 ],
 "metadata": {
  "kernelspec": {
   "display_name": "Python 3 (ipykernel)",
   "language": "python",
   "name": "python3"
  },
  "language_info": {
   "codemirror_mode": {
    "name": "ipython",
    "version": 3
   },
   "file_extension": ".py",
   "mimetype": "text/x-python",
   "name": "python",
   "nbconvert_exporter": "python",
   "pygments_lexer": "ipython3",
   "version": "3.9.13"
  }
 },
 "nbformat": 4,
 "nbformat_minor": 5
}
