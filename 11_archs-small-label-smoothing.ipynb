{
 "cells": [
  {
   "cell_type": "markdown",
   "id": "7531e2ff-02f8-4bb9-8d0d-629de241cb8c",
   "metadata": {},
   "source": [
    "# Install and load all libraries"
   ]
  },
  {
   "cell_type": "code",
   "execution_count": 1,
   "id": "1ccc956c-34dd-439a-99d9-eaf25106260e",
   "metadata": {},
   "outputs": [],
   "source": [
    "from ml_utils2 import *\n",
    "from fastai.vision.all import *\n",
    "import gc"
   ]
  },
  {
   "cell_type": "markdown",
   "id": "de496b1b-c47d-4cc5-9d99-af4c615009a4",
   "metadata": {},
   "source": [
    "# Creating differe dataloaders"
   ]
  },
  {
   "cell_type": "code",
   "execution_count": 2,
   "id": "a5393b23-8669-48c3-a399-955fd6da498c",
   "metadata": {},
   "outputs": [
    {
     "data": {
      "text/html": [
       "<div>\n",
       "<style scoped>\n",
       "    .dataframe tbody tr th:only-of-type {\n",
       "        vertical-align: middle;\n",
       "    }\n",
       "\n",
       "    .dataframe tbody tr th {\n",
       "        vertical-align: top;\n",
       "    }\n",
       "\n",
       "    .dataframe thead th {\n",
       "        text-align: right;\n",
       "    }\n",
       "</style>\n",
       "<table border=\"1\" class=\"dataframe\">\n",
       "  <thead>\n",
       "    <tr style=\"text-align: right;\">\n",
       "      <th></th>\n",
       "      <th>image_id</th>\n",
       "      <th>clip_name</th>\n",
       "      <th>labels</th>\n",
       "      <th>valid</th>\n",
       "      <th>y1_label</th>\n",
       "      <th>y2_label</th>\n",
       "      <th>y3_label</th>\n",
       "      <th>y4_label</th>\n",
       "    </tr>\n",
       "  </thead>\n",
       "  <tbody>\n",
       "    <tr>\n",
       "      <th>2401822</th>\n",
       "      <td>data/train_images_crop/clip_019900/01785.jpg</td>\n",
       "      <td>clip_019900</td>\n",
       "      <td>needle_driver,nan,needle_driver,prograsp_forceps</td>\n",
       "      <td>False</td>\n",
       "      <td>needle_driver</td>\n",
       "      <td>nan</td>\n",
       "      <td>needle_driver</td>\n",
       "      <td>prograsp_forceps</td>\n",
       "    </tr>\n",
       "    <tr>\n",
       "      <th>1435060</th>\n",
       "      <td>data/train_images_crop/clip_011889/01680.jpg</td>\n",
       "      <td>clip_011889</td>\n",
       "      <td>needle_driver,nan,needle_driver,cadiere_forceps</td>\n",
       "      <td>False</td>\n",
       "      <td>needle_driver</td>\n",
       "      <td>nan</td>\n",
       "      <td>needle_driver</td>\n",
       "      <td>cadiere_forceps</td>\n",
       "    </tr>\n",
       "    <tr>\n",
       "      <th>916909</th>\n",
       "      <td>data/train_images_crop/clip_007594/01260.jpg</td>\n",
       "      <td>clip_007594</td>\n",
       "      <td>prograsp_forceps,cadiere_forceps,nan,clip_applier</td>\n",
       "      <td>False</td>\n",
       "      <td>prograsp_forceps</td>\n",
       "      <td>cadiere_forceps</td>\n",
       "      <td>nan</td>\n",
       "      <td>clip_applier</td>\n",
       "    </tr>\n",
       "    <tr>\n",
       "      <th>2458389</th>\n",
       "      <td>data/train_images_crop/clip_020368/00285.jpg</td>\n",
       "      <td>clip_020368</td>\n",
       "      <td>cadiere_forceps,bipolar_forceps,nan,monopolar_curved_scissor</td>\n",
       "      <td>False</td>\n",
       "      <td>cadiere_forceps</td>\n",
       "      <td>bipolar_forceps</td>\n",
       "      <td>nan</td>\n",
       "      <td>monopolar_curved_scissor</td>\n",
       "    </tr>\n",
       "    <tr>\n",
       "      <th>959049</th>\n",
       "      <td>data/train_images_crop/clip_007942/00585.jpg</td>\n",
       "      <td>clip_007942</td>\n",
       "      <td>bipolar_forceps,nan,monopolar_curved_scissor,cadiere_forceps</td>\n",
       "      <td>False</td>\n",
       "      <td>bipolar_forceps</td>\n",
       "      <td>nan</td>\n",
       "      <td>monopolar_curved_scissor</td>\n",
       "      <td>cadiere_forceps</td>\n",
       "    </tr>\n",
       "    <tr>\n",
       "      <th>848068</th>\n",
       "      <td>data/train_images_crop/clip_007024/01080.jpg</td>\n",
       "      <td>clip_007024</td>\n",
       "      <td>bipolar_forceps,nan,monopolar_curved_scissor,cadiere_forceps</td>\n",
       "      <td>False</td>\n",
       "      <td>bipolar_forceps</td>\n",
       "      <td>nan</td>\n",
       "      <td>monopolar_curved_scissor</td>\n",
       "      <td>cadiere_forceps</td>\n",
       "    </tr>\n",
       "    <tr>\n",
       "      <th>475795</th>\n",
       "      <td>data/train_images_crop/clip_003940/00090.jpg</td>\n",
       "      <td>clip_003940</td>\n",
       "      <td>bipolar_forceps,nan,monopolar_curved_scissor,cadiere_forceps</td>\n",
       "      <td>False</td>\n",
       "      <td>bipolar_forceps</td>\n",
       "      <td>nan</td>\n",
       "      <td>monopolar_curved_scissor</td>\n",
       "      <td>cadiere_forceps</td>\n",
       "    </tr>\n",
       "    <tr>\n",
       "      <th>879808</th>\n",
       "      <td>data/train_images_crop/clip_007287/01305.jpg</td>\n",
       "      <td>clip_007287</td>\n",
       "      <td>needle_driver,nan,needle_driver,cadiere_forceps</td>\n",
       "      <td>False</td>\n",
       "      <td>needle_driver</td>\n",
       "      <td>nan</td>\n",
       "      <td>needle_driver</td>\n",
       "      <td>cadiere_forceps</td>\n",
       "    </tr>\n",
       "    <tr>\n",
       "      <th>895145</th>\n",
       "      <td>data/train_images_crop/clip_007414/01635.jpg</td>\n",
       "      <td>clip_007414</td>\n",
       "      <td>bipolar_forceps,nan,monopolar_curved_scissor,grasping_retractor</td>\n",
       "      <td>False</td>\n",
       "      <td>bipolar_forceps</td>\n",
       "      <td>nan</td>\n",
       "      <td>monopolar_curved_scissor</td>\n",
       "      <td>grasping_retractor</td>\n",
       "    </tr>\n",
       "    <tr>\n",
       "      <th>215606</th>\n",
       "      <td>data/train_images_crop/clip_001785/00975.jpg</td>\n",
       "      <td>clip_001785</td>\n",
       "      <td>needle_driver,nan,needle_driver,cadiere_forceps</td>\n",
       "      <td>True</td>\n",
       "      <td>needle_driver</td>\n",
       "      <td>nan</td>\n",
       "      <td>needle_driver</td>\n",
       "      <td>cadiere_forceps</td>\n",
       "    </tr>\n",
       "  </tbody>\n",
       "</table>\n",
       "</div>"
      ],
      "text/plain": [
       "                                             image_id    clip_name  \\\n",
       "2401822  data/train_images_crop/clip_019900/01785.jpg  clip_019900   \n",
       "1435060  data/train_images_crop/clip_011889/01680.jpg  clip_011889   \n",
       "916909   data/train_images_crop/clip_007594/01260.jpg  clip_007594   \n",
       "2458389  data/train_images_crop/clip_020368/00285.jpg  clip_020368   \n",
       "959049   data/train_images_crop/clip_007942/00585.jpg  clip_007942   \n",
       "848068   data/train_images_crop/clip_007024/01080.jpg  clip_007024   \n",
       "475795   data/train_images_crop/clip_003940/00090.jpg  clip_003940   \n",
       "879808   data/train_images_crop/clip_007287/01305.jpg  clip_007287   \n",
       "895145   data/train_images_crop/clip_007414/01635.jpg  clip_007414   \n",
       "215606   data/train_images_crop/clip_001785/00975.jpg  clip_001785   \n",
       "\n",
       "                                                                  labels  \\\n",
       "2401822                 needle_driver,nan,needle_driver,prograsp_forceps   \n",
       "1435060                  needle_driver,nan,needle_driver,cadiere_forceps   \n",
       "916909                 prograsp_forceps,cadiere_forceps,nan,clip_applier   \n",
       "2458389     cadiere_forceps,bipolar_forceps,nan,monopolar_curved_scissor   \n",
       "959049      bipolar_forceps,nan,monopolar_curved_scissor,cadiere_forceps   \n",
       "848068      bipolar_forceps,nan,monopolar_curved_scissor,cadiere_forceps   \n",
       "475795      bipolar_forceps,nan,monopolar_curved_scissor,cadiere_forceps   \n",
       "879808                   needle_driver,nan,needle_driver,cadiere_forceps   \n",
       "895145   bipolar_forceps,nan,monopolar_curved_scissor,grasping_retractor   \n",
       "215606                   needle_driver,nan,needle_driver,cadiere_forceps   \n",
       "\n",
       "         valid          y1_label         y2_label                  y3_label  \\\n",
       "2401822  False     needle_driver              nan             needle_driver   \n",
       "1435060  False     needle_driver              nan             needle_driver   \n",
       "916909   False  prograsp_forceps  cadiere_forceps                       nan   \n",
       "2458389  False   cadiere_forceps  bipolar_forceps                       nan   \n",
       "959049   False   bipolar_forceps              nan  monopolar_curved_scissor   \n",
       "848068   False   bipolar_forceps              nan  monopolar_curved_scissor   \n",
       "475795   False   bipolar_forceps              nan  monopolar_curved_scissor   \n",
       "879808   False     needle_driver              nan             needle_driver   \n",
       "895145   False   bipolar_forceps              nan  monopolar_curved_scissor   \n",
       "215606    True     needle_driver              nan             needle_driver   \n",
       "\n",
       "                         y4_label  \n",
       "2401822          prograsp_forceps  \n",
       "1435060           cadiere_forceps  \n",
       "916909               clip_applier  \n",
       "2458389  monopolar_curved_scissor  \n",
       "959049            cadiere_forceps  \n",
       "848068            cadiere_forceps  \n",
       "475795            cadiere_forceps  \n",
       "879808            cadiere_forceps  \n",
       "895145         grasping_retractor  \n",
       "215606            cadiere_forceps  "
      ]
     },
     "execution_count": 2,
     "metadata": {},
     "output_type": "execute_result"
    }
   ],
   "source": [
    "images_df=pd.read_csv('data/images_df_final.csv', dtype={'image_id':str,'clip_name':str,'labels':str})\n",
    "\n",
    "def fix_paths(x): return x.replace('data/train_images_c','data/train_images_crop')\n",
    "\n",
    "images_df['image_id']=images_df['image_id'].map(fix_paths)\n",
    "\n",
    "def clean_labels(c): return str([(i).strip().replace(\" \", \"_\").replace(\"-\", \"_\").replace(\"/\", \"_\") for i in re.sub(r\"[\\[\\]]\",'',c).split(',')]).replace(\"'\",\"\").strip(\"'\").strip(\"[\").strip(\"]\").replace(\" \",\"\").replace('monopolar_curved_scissors','monopolar_curved_scissor')\n",
    "images_df['labels'] = images_df['labels'].apply(clean_labels)\n",
    "\n",
    "def y1_labeller(i): return re.sub(r\"[\\[\\]]\",'',i).split(',')[0].strip()\n",
    "def y2_labeller(i): return re.sub(r\"[\\[\\]]\",'',i).split(',')[1].strip()\n",
    "def y3_labeller(i): return re.sub(r\"[\\[\\]]\",'',i).split(',')[2].strip()\n",
    "def y4_labeller(i): return re.sub(r\"[\\[\\]]\",'',i).split(',')[3].strip()\n",
    "\n",
    "images_df['y1_label'] = images_df.labels.map(y1_labeller)\n",
    "images_df['y2_label'] = images_df.labels.map(y2_labeller)\n",
    "images_df['y3_label'] = images_df.labels.map(y3_labeller)\n",
    "images_df['y4_label'] = images_df.labels.map(y4_labeller)\n",
    "images_df.sample(10)"
   ]
  },
  {
   "cell_type": "code",
   "execution_count": 3,
   "id": "03c05900-9596-490c-9ad3-3ac7d3ab0fae",
   "metadata": {},
   "outputs": [],
   "source": [
    "def get_dblock(item_tfms, batch_tfms):\n",
    "    \n",
    "    dblock = DataBlock(\n",
    "        blocks=(ImageBlock,CategoryBlock(vocab=tools_list),CategoryBlock(vocab=tools_list),CategoryBlock(vocab=tools_list),CategoryBlock(vocab=tools_list)),\n",
    "        n_inp=1,\n",
    "        get_x=ColReader('image_id'),\n",
    "        get_y=[ColReader('y1_label'),ColReader('y2_label'),ColReader('y3_label'),ColReader('y4_label')],\n",
    "        splitter=splitter,\n",
    "        item_tfms=item_tfms,\n",
    "        batch_tfms=batch_tfms)\n",
    "    \n",
    "    return dblock\n"
   ]
  },
  {
   "cell_type": "code",
   "execution_count": 4,
   "id": "f04dc69a-16b8-4f53-83c5-6e531cf5bdb9",
   "metadata": {},
   "outputs": [],
   "source": [
    "dblock = get_dblock(item_tfms=Resize((180,320), method='squish'), batch_tfms=aug_transforms(size=(180,320), min_scale=1))\n",
    "dls = dblock.dataloaders(images_df, seed=42, n_workers=8)"
   ]
  },
  {
   "cell_type": "code",
   "execution_count": 5,
   "id": "1f3e0930-1e9d-49d0-982c-7dc6146dda6a",
   "metadata": {},
   "outputs": [],
   "source": [
    "def train(exp_name,arch,size,item_tfms,epochs=12):\n",
    "    dblock = get_dblock(item_tfms=item_tfms, batch_tfms=[*aug_transforms(size=size, min_scale=1),Normalize.from_stats(*imagenet_stats)])\n",
    "    dls = dblock.dataloaders(images_df, seed=42, n_workers=32)\n",
    "    learn = vision_learner(dls, arch, loss_func=combo_loss, metrics=metrics_cfg, n_out=cfg(4)).to_fp16()\n",
    "    learn.fine_tune(epochs, 0.01)\n",
    "    learn.path=Path('models')\n",
    "    learn.export(f'{arch}-model-ls.pkl')\n",
    "    return learn.tta(dl=dls.valid)\n",
    " "
   ]
  },
  {
   "cell_type": "code",
   "execution_count": 6,
   "id": "4bc46a73-8c5c-41df-bd67-cfff48142e15",
   "metadata": {},
   "outputs": [],
   "source": [
    "res = (180,320)"
   ]
  },
  {
   "cell_type": "code",
   "execution_count": 7,
   "id": "c81e92f3-5f35-4480-be91-546e0a3ef73f",
   "metadata": {},
   "outputs": [],
   "source": [
    "archs = {\n",
    "    'convnext_small_in22k': {\n",
    "        (Resize(res, ResizeMethod.Squish), res),\n",
    "    },\n",
    "    # 'vit_small_patch16_224': {\n",
    "    #     (Resize(res, ResizeMethod.Squish), 224),\n",
    "    # },\n",
    "    'swinv2_base_window12_192_22k':{\n",
    "        (Resize(res, ResizeMethod.Squish), 192),\n",
    "    },\n",
    "    'swin_small_patch4_window7_224': {\n",
    "        (Resize(res, ResizeMethod.Squish), 224)\n",
    "    }\n",
    "}"
   ]
  },
  {
   "cell_type": "code",
   "execution_count": null,
   "id": "c0ac4638-5079-4fad-9579-b12077870aab",
   "metadata": {},
   "outputs": [
    {
     "name": "stdout",
     "output_type": "stream",
     "text": [
      "---- convnext_small_in22k  --- \n",
      "(180, 320)\n",
      "Resize -- {'size': (320, 180), 'method': 'squish', 'pad_mode': 'reflection', 'resamples': (<Resampling.BILINEAR: 2>, <Resampling.NEAREST: 0>), 'p': 1.0}\n"
     ]
    },
    {
     "data": {
      "text/html": [
       "\n",
       "<style>\n",
       "    /* Turns off some styling */\n",
       "    progress {\n",
       "        /* gets rid of default border in Firefox and Opera. */\n",
       "        border: none;\n",
       "        /* Needs to be in here for Safari polyfill so background images work as expected. */\n",
       "        background-size: auto;\n",
       "    }\n",
       "    .progress-bar-interrupted, .progress-bar-interrupted::-webkit-progress-bar {\n",
       "        background: #F44336;\n",
       "    }\n",
       "</style>\n"
      ],
      "text/plain": [
       "<IPython.core.display.HTML object>"
      ]
     },
     "metadata": {},
     "output_type": "display_data"
    },
    {
     "data": {
      "text/html": [
       "<table border=\"1\" class=\"dataframe\">\n",
       "  <thead>\n",
       "    <tr style=\"text-align: left;\">\n",
       "      <th>epoch</th>\n",
       "      <th>train_loss</th>\n",
       "      <th>valid_loss</th>\n",
       "      <th>usm1_loss</th>\n",
       "      <th>usm2_loss</th>\n",
       "      <th>usm3_loss</th>\n",
       "      <th>usm4_loss</th>\n",
       "      <th>usm1_err</th>\n",
       "      <th>usm2_err</th>\n",
       "      <th>usm3_err</th>\n",
       "      <th>usm4_err</th>\n",
       "      <th>combo_err</th>\n",
       "      <th>time</th>\n",
       "    </tr>\n",
       "  </thead>\n",
       "  <tbody>\n",
       "    <tr>\n",
       "      <td>0</td>\n",
       "      <td>2.846285</td>\n",
       "      <td>2.738796</td>\n",
       "      <td>0.676795</td>\n",
       "      <td>0.646919</td>\n",
       "      <td>0.696763</td>\n",
       "      <td>0.718318</td>\n",
       "      <td>0.038794</td>\n",
       "      <td>0.020474</td>\n",
       "      <td>0.030024</td>\n",
       "      <td>0.048174</td>\n",
       "      <td>0.137465</td>\n",
       "      <td>1:51:04</td>\n",
       "    </tr>\n",
       "  </tbody>\n",
       "</table>"
      ],
      "text/plain": [
       "<IPython.core.display.HTML object>"
      ]
     },
     "metadata": {},
     "output_type": "display_data"
    },
    {
     "data": {
      "text/html": [
       "\n",
       "<style>\n",
       "    /* Turns off some styling */\n",
       "    progress {\n",
       "        /* gets rid of default border in Firefox and Opera. */\n",
       "        border: none;\n",
       "        /* Needs to be in here for Safari polyfill so background images work as expected. */\n",
       "        background-size: auto;\n",
       "    }\n",
       "    .progress-bar-interrupted, .progress-bar-interrupted::-webkit-progress-bar {\n",
       "        background: #F44336;\n",
       "    }\n",
       "</style>\n"
      ],
      "text/plain": [
       "<IPython.core.display.HTML object>"
      ]
     },
     "metadata": {},
     "output_type": "display_data"
    },
    {
     "data": {
      "text/html": [
       "\n",
       "    <div>\n",
       "      <progress value='0' class='' max='12' style='width:300px; height:20px; vertical-align: middle;'></progress>\n",
       "      0.00% [0/12 00:00<00:00]\n",
       "    </div>\n",
       "    \n",
       "<table border=\"1\" class=\"dataframe\">\n",
       "  <thead>\n",
       "    <tr style=\"text-align: left;\">\n",
       "      <th>epoch</th>\n",
       "      <th>train_loss</th>\n",
       "      <th>valid_loss</th>\n",
       "      <th>usm1_loss</th>\n",
       "      <th>usm2_loss</th>\n",
       "      <th>usm3_loss</th>\n",
       "      <th>usm4_loss</th>\n",
       "      <th>usm1_err</th>\n",
       "      <th>usm2_err</th>\n",
       "      <th>usm3_err</th>\n",
       "      <th>usm4_err</th>\n",
       "      <th>combo_err</th>\n",
       "      <th>time</th>\n",
       "    </tr>\n",
       "  </thead>\n",
       "  <tbody>\n",
       "  </tbody>\n",
       "</table><p>\n",
       "\n",
       "    <div>\n",
       "      <progress value='25569' class='' max='37291' style='width:300px; height:20px; vertical-align: middle;'></progress>\n",
       "      68.57% [25569/37291 1:33:27<42:50 2.4597]\n",
       "    </div>\n",
       "    "
      ],
      "text/plain": [
       "<IPython.core.display.HTML object>"
      ]
     },
     "metadata": {},
     "output_type": "display_data"
    }
   ],
   "source": [
    "tta_res = []\n",
    "\n",
    "for arch, details in archs.items():\n",
    "    for i, s in details:\n",
    "        print('----',arch, ' --- ')\n",
    "        print(s)\n",
    "        print(i.name)\n",
    "        tta_res.append(train('squish', arch, size=s, item_tfms=i))\n",
    "        gc.collect()\n",
    "        torch.cuda.empty_cache()\n"
   ]
  },
  {
   "cell_type": "code",
   "execution_count": null,
   "id": "b69e122f-daad-44a7-9ba2-6d1a0a3a2f39",
   "metadata": {},
   "outputs": [],
   "source": [
    "for arch, details in archs.items():\n",
    "    for i, s in details:\n",
    "        print('----',arch, ' --- ')\n",
    "        print(s)\n",
    "        print(i.name)\n",
    "        tta_res.append(train('squish', arch, size=s, item_tfms=i))\n",
    "        gc.collect()\n",
    "        torch.cuda.empty_cache()"
   ]
  },
  {
   "cell_type": "code",
   "execution_count": null,
   "id": "125cb2e6-1110-47da-80a6-4989ff5ffdb0",
   "metadata": {},
   "outputs": [],
   "source": [
    "save_pickle('06_archs-small-ensemble-tta_res.pkl', tta_res)"
   ]
  },
  {
   "cell_type": "code",
   "execution_count": null,
   "id": "65d262c6-7099-4af8-8df2-e77f274ab63e",
   "metadata": {},
   "outputs": [],
   "source": [
    "def decode_ensemble_result(output):\n",
    "    output = first(zip(*output)) # unzipping preds and targes\n",
    "    output+= output[1:3]        # increase weights of certain models with higher accuracy\n",
    "    output = torch.stack(output)# stacking predctions from all models\n",
    "    labels=[]\n",
    "    df = pd.DataFrame(dls.valid.items)\n",
    "    df.drop(['y1_label','y2_label','y3_label','y4_label','valid'], axis=1, inplace=True)\n",
    "    for i in range(len(dls.c)):\n",
    "        arm_preds = output[:,:,cfg(i):cfg(i+1)].mean(0);\n",
    "        arm_idxs = arm_preds.argmax(dim=1)\n",
    "        arm_vocab = np.array(dls.vocab[i])\n",
    "        df[f'y{i+1}_label'] = arm_vocab[arm_idxs]\n",
    "        \n",
    "    df['labels_pred'] = '['+ df['y1_label']+', '+df['y2_label']+', '+df['y3_label']+', '+df['y4_label']+']'\n",
    "    df['accurate_tf'] = (df['labels']==df['labels_pred'])\n",
    "    df.drop(['y1_label','y2_label','y3_label','y4_label'], axis=1, inplace=True)\n",
    "    return df\n"
   ]
  },
  {
   "cell_type": "code",
   "execution_count": null,
   "id": "8e7260c9-fba4-4f57-872c-36b0055edc0f",
   "metadata": {},
   "outputs": [],
   "source": [
    "output_df = decode_ensemble_result(tta_res)\n",
    "output_df.to_csv('06_archs-small-ensemble-results.csv', index=False)\n",
    "output_df['accurate_tf'].value_counts()/len(output_df)*100"
   ]
  },
  {
   "cell_type": "code",
   "execution_count": null,
   "id": "fa8b3323-e53e-4b8d-907e-789f72727397",
   "metadata": {},
   "outputs": [],
   "source": [
    "tta_prs = first(zip(*tta_res))"
   ]
  },
  {
   "cell_type": "code",
   "execution_count": null,
   "id": "ba90f7f1-ff5c-459e-8667-822790bea12c",
   "metadata": {},
   "outputs": [],
   "source": [
    "tta_prs+= tta_prs[1:3]"
   ]
  },
  {
   "cell_type": "code",
   "execution_count": null,
   "id": "03d2eaae-1a65-419e-9398-5cbd9ef7727c",
   "metadata": {},
   "outputs": [],
   "source": [
    "tta_prs_stacked = torch.stack(tta_prs)"
   ]
  },
  {
   "cell_type": "code",
   "execution_count": null,
   "id": "c3c02702-fb46-4dd4-b5ac-a840925cdc71",
   "metadata": {},
   "outputs": [],
   "source": [
    "pr_usm1 = tta_prs_stacked[:,:,:cfg(1)].mean(0);\n",
    "idxs1 = pr_usm1.argmax(dim=1)\n",
    "vocab = np.array(dls.vocab[0])\n",
    "usm1_lbl = vocab[idxs1]\n",
    "\n",
    "pr_usm2 = tta_prs_stacked[:,:,cfg(1):cfg(2)].mean(0);\n",
    "idxs2 = pr_usm2.argmax(dim=1)\n",
    "vocab = np.array(dls.vocab[1])\n",
    "usm2_lbl = vocab[idxs2]\n",
    "\n",
    "pr_usm3 = tta_prs_stacked[:,:,cfg(2):cfg(3)].mean(0);\n",
    "idxs3 = pr_usm3.argmax(dim=1)\n",
    "vocab = np.array(dls.vocab[2])\n",
    "usm3_lbl = vocab[idxs3]\n",
    "\n",
    "pr_usm4 = tta_prs_stacked[:,:,cfg(3):cfg(4)].mean(0);\n",
    "idxs4 = pr_usm4.argmax(dim=1)\n",
    "vocab = np.array(dls.vocab[3])\n",
    "usm4_lbl = vocab[idxs4]\n"
   ]
  },
  {
   "cell_type": "code",
   "execution_count": null,
   "id": "4456eda5-f8f8-4a52-8872-b34e1e1d6816",
   "metadata": {},
   "outputs": [],
   "source": [
    "val_df = pd.DataFrame(dls.valid.items)\n",
    "val_df.drop(['y1_label','y2_label','y3_label','y4_label','valid'], axis=1, inplace=True)\n",
    "val_df['labels_pred'] = ['['+usm1_lbl[i]+','+usm2_lbl[i]+','+usm3_lbl[i]+','+usm4_lbl[i]+']' for i in range(len(usm1_lbl))]\n",
    "\n",
    "val_df.head(100)"
   ]
  },
  {
   "cell_type": "code",
   "execution_count": null,
   "id": "d9603f8e-ed52-42ff-9c04-79133c5173c0",
   "metadata": {},
   "outputs": [],
   "source": [
    "pr_usm1 = tta_prs_stacked[:,:,:cfg(1)].mean(0);\n",
    "idxs1 = pr_usm1.argmax(dim=1)\n",
    "vocab = np.array(dls.vocab[0])\n",
    "vocab[idxs1]"
   ]
  },
  {
   "cell_type": "code",
   "execution_count": null,
   "id": "84ee8e0b-77f9-4350-81e7-4ba58531d874",
   "metadata": {},
   "outputs": [],
   "source": [
    "tta_prs[0][:,cfg(1):cfg(2)].shape"
   ]
  },
  {
   "cell_type": "code",
   "execution_count": null,
   "id": "1c57ea28-c169-443e-94d0-ce418c00dfeb",
   "metadata": {},
   "outputs": [],
   "source": []
  }
 ],
 "metadata": {
  "kernelspec": {
   "display_name": "Python 3 (ipykernel)",
   "language": "python",
   "name": "python3"
  },
  "language_info": {
   "codemirror_mode": {
    "name": "ipython",
    "version": 3
   },
   "file_extension": ".py",
   "mimetype": "text/x-python",
   "name": "python",
   "nbconvert_exporter": "python",
   "pygments_lexer": "ipython3",
   "version": "3.9.13"
  }
 },
 "nbformat": 4,
 "nbformat_minor": 5
}
