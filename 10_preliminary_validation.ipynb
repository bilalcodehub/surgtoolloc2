{
 "cells": [
  {
   "cell_type": "code",
   "execution_count": 1,
   "id": "50b930da-f177-45e0-8195-2c9bb7737e6c",
   "metadata": {},
   "outputs": [],
   "source": [
    "from fastai.vision.all import *\n",
    "from random import randint\n",
    "from ml_utils import *\n",
    "import os"
   ]
  },
  {
   "cell_type": "code",
   "execution_count": 2,
   "id": "b69eea05-b876-44dc-99c8-3f66c0622cff",
   "metadata": {},
   "outputs": [],
   "source": [
    "pd.set_option('display.max_rows', None)"
   ]
  },
  {
   "cell_type": "code",
   "execution_count": 3,
   "id": "6b32fdf0-1447-4e99-bfe1-8592caf89580",
   "metadata": {},
   "outputs": [
    {
     "data": {
      "text/html": [
       "<div>\n",
       "<style scoped>\n",
       "    .dataframe tbody tr th:only-of-type {\n",
       "        vertical-align: middle;\n",
       "    }\n",
       "\n",
       "    .dataframe tbody tr th {\n",
       "        vertical-align: top;\n",
       "    }\n",
       "\n",
       "    .dataframe thead th {\n",
       "        text-align: right;\n",
       "    }\n",
       "</style>\n",
       "<table border=\"1\" class=\"dataframe\">\n",
       "  <thead>\n",
       "    <tr style=\"text-align: right;\">\n",
       "      <th></th>\n",
       "      <th>clip_name</th>\n",
       "      <th>tools_present</th>\n",
       "    </tr>\n",
       "  </thead>\n",
       "  <tbody>\n",
       "    <tr>\n",
       "      <th>0</th>\n",
       "      <td>clip_000000</td>\n",
       "      <td>needle_driver,nan,needle_driver,cadiere_forceps</td>\n",
       "    </tr>\n",
       "    <tr>\n",
       "      <th>1</th>\n",
       "      <td>clip_000001</td>\n",
       "      <td>needle_driver,nan,needle_driver,cadiere_forceps</td>\n",
       "    </tr>\n",
       "    <tr>\n",
       "      <th>2</th>\n",
       "      <td>clip_000002</td>\n",
       "      <td>needle_driver,nan,needle_driver,cadiere_forceps</td>\n",
       "    </tr>\n",
       "    <tr>\n",
       "      <th>3</th>\n",
       "      <td>clip_000003</td>\n",
       "      <td>needle_driver,nan,needle_driver,cadiere_forceps</td>\n",
       "    </tr>\n",
       "    <tr>\n",
       "      <th>4</th>\n",
       "      <td>clip_000004</td>\n",
       "      <td>needle_driver,nan,needle_driver,cadiere_forceps</td>\n",
       "    </tr>\n",
       "  </tbody>\n",
       "</table>\n",
       "</div>"
      ],
      "text/plain": [
       "     clip_name                                    tools_present\n",
       "0  clip_000000  needle_driver,nan,needle_driver,cadiere_forceps\n",
       "1  clip_000001  needle_driver,nan,needle_driver,cadiere_forceps\n",
       "2  clip_000002  needle_driver,nan,needle_driver,cadiere_forceps\n",
       "3  clip_000003  needle_driver,nan,needle_driver,cadiere_forceps\n",
       "4  clip_000004  needle_driver,nan,needle_driver,cadiere_forceps"
      ]
     },
     "execution_count": 3,
     "metadata": {},
     "output_type": "execute_result"
    }
   ],
   "source": [
    "clips_df = pd.read_csv('data/labels.csv')\n",
    "\n",
    "# dropping dangling columns\n",
    "clips_df = clips_df.loc[:, ~clips_df.columns.str.contains('^Unnamed')]\n",
    "\n",
    "def clean_labels(c): return str([(i).strip().replace(\" \", \"_\").replace(\"-\", \"_\").replace(\"/\", \"_\") for i in re.sub(r\"[\\[\\]]\",'',c).split(',')]).replace(\"'\",\"\").strip(\"'\").strip(\"[\").strip(\"]\").replace(\" \",\"\")\n",
    "clips_df['tools_present'] = clips_df['tools_present'].apply(clean_labels)\n",
    "clips_df.head()"
   ]
  },
  {
   "cell_type": "code",
   "execution_count": 4,
   "id": "323fc1f6-53ae-404e-8cd3-7db1141b91b1",
   "metadata": {},
   "outputs": [
    {
     "data": {
      "text/plain": [
       "153"
      ]
     },
     "execution_count": 4,
     "metadata": {},
     "output_type": "execute_result"
    }
   ],
   "source": [
    "df=clips_df.groupby('tools_present').nth(0)\n",
    "len(df)"
   ]
  },
  {
   "cell_type": "code",
   "execution_count": 5,
   "id": "31b74814-2eb8-4d20-a590-090c4841ff70",
   "metadata": {},
   "outputs": [],
   "source": [
    "src=Path('data/train_images_crop')\n",
    "dst=Path('data/testing/images')"
   ]
  },
  {
   "cell_type": "code",
   "execution_count": 6,
   "id": "86f6dfb0-6680-4ffc-b74a-291665a8483e",
   "metadata": {},
   "outputs": [],
   "source": [
    "for i in get_image_files(dst): os.remove(i) "
   ]
  },
  {
   "cell_type": "code",
   "execution_count": 7,
   "id": "a821fb8b-6dc7-4442-bc4d-33104c71ba87",
   "metadata": {},
   "outputs": [],
   "source": [
    "for clip in df.clip_name:\n",
    "    fs = get_image_files(src/clip)\n",
    "    if len(fs)>0:\n",
    "        fno=randint(0,len(fs)-1)\n",
    "        im=PILImage.create(fs[fno])\n",
    "        fn=str(dst)+'/'+clip+'_'+fs[fno].name\n",
    "        im.save(fn)\n",
    "    "
   ]
  },
  {
   "cell_type": "code",
   "execution_count": 8,
   "id": "e495c981-9239-4ffe-af07-e15be8f9f2f2",
   "metadata": {},
   "outputs": [],
   "source": [
    "ensem_path=Path(\"test/algorithm/cls\")"
   ]
  },
  {
   "cell_type": "code",
   "execution_count": 9,
   "id": "2bb96362-8279-4ebb-871f-492b897a6801",
   "metadata": {},
   "outputs": [],
   "source": [
    "ensem_learner=[load_learner(m, cpu=False) for m in ensem_path.ls() if m.suffix=='.pkl']"
   ]
  },
  {
   "cell_type": "code",
   "execution_count": 10,
   "id": "d65fa096-f18c-4b9f-9085-bfebb6eb5f3d",
   "metadata": {},
   "outputs": [
    {
     "data": {
      "text/plain": [
       "5"
      ]
     },
     "execution_count": 10,
     "metadata": {},
     "output_type": "execute_result"
    }
   ],
   "source": [
    "fs=get_image_files(dst);len(fs)"
   ]
  },
  {
   "cell_type": "code",
   "execution_count": 11,
   "id": "6c3bf645-8c08-4a76-882c-6b49290e88ce",
   "metadata": {},
   "outputs": [
    {
     "data": {
      "text/html": [
       "\n",
       "<style>\n",
       "    /* Turns off some styling */\n",
       "    progress {\n",
       "        /* gets rid of default border in Firefox and Opera. */\n",
       "        border: none;\n",
       "        /* Needs to be in here for Safari polyfill so background images work as expected. */\n",
       "        background-size: auto;\n",
       "    }\n",
       "    .progress-bar-interrupted, .progress-bar-interrupted::-webkit-progress-bar {\n",
       "        background: #F44336;\n",
       "    }\n",
       "</style>\n"
      ],
      "text/plain": [
       "<IPython.core.display.HTML object>"
      ]
     },
     "metadata": {},
     "output_type": "display_data"
    },
    {
     "data": {
      "text/html": [
       "\n",
       "    <div>\n",
       "      <progress value='0' class='' max='12' style='width:300px; height:20px; vertical-align: middle;'></progress>\n",
       "      \n",
       "    </div>\n",
       "    \n"
      ],
      "text/plain": [
       "<IPython.core.display.HTML object>"
      ]
     },
     "metadata": {},
     "output_type": "display_data"
    },
    {
     "data": {
      "text/html": [
       "\n",
       "<style>\n",
       "    /* Turns off some styling */\n",
       "    progress {\n",
       "        /* gets rid of default border in Firefox and Opera. */\n",
       "        border: none;\n",
       "        /* Needs to be in here for Safari polyfill so background images work as expected. */\n",
       "        background-size: auto;\n",
       "    }\n",
       "    .progress-bar-interrupted, .progress-bar-interrupted::-webkit-progress-bar {\n",
       "        background: #F44336;\n",
       "    }\n",
       "</style>\n"
      ],
      "text/plain": [
       "<IPython.core.display.HTML object>"
      ]
     },
     "metadata": {},
     "output_type": "display_data"
    },
    {
     "data": {
      "text/html": [],
      "text/plain": [
       "<IPython.core.display.HTML object>"
      ]
     },
     "metadata": {},
     "output_type": "display_data"
    },
    {
     "data": {
      "text/html": [
       "\n",
       "<style>\n",
       "    /* Turns off some styling */\n",
       "    progress {\n",
       "        /* gets rid of default border in Firefox and Opera. */\n",
       "        border: none;\n",
       "        /* Needs to be in here for Safari polyfill so background images work as expected. */\n",
       "        background-size: auto;\n",
       "    }\n",
       "    .progress-bar-interrupted, .progress-bar-interrupted::-webkit-progress-bar {\n",
       "        background: #F44336;\n",
       "    }\n",
       "</style>\n"
      ],
      "text/plain": [
       "<IPython.core.display.HTML object>"
      ]
     },
     "metadata": {},
     "output_type": "display_data"
    },
    {
     "data": {
      "text/html": [
       "\n",
       "    <div>\n",
       "      <progress value='0' class='' max='12' style='width:300px; height:20px; vertical-align: middle;'></progress>\n",
       "      \n",
       "    </div>\n",
       "    \n"
      ],
      "text/plain": [
       "<IPython.core.display.HTML object>"
      ]
     },
     "metadata": {},
     "output_type": "display_data"
    },
    {
     "data": {
      "text/html": [
       "\n",
       "<style>\n",
       "    /* Turns off some styling */\n",
       "    progress {\n",
       "        /* gets rid of default border in Firefox and Opera. */\n",
       "        border: none;\n",
       "        /* Needs to be in here for Safari polyfill so background images work as expected. */\n",
       "        background-size: auto;\n",
       "    }\n",
       "    .progress-bar-interrupted, .progress-bar-interrupted::-webkit-progress-bar {\n",
       "        background: #F44336;\n",
       "    }\n",
       "</style>\n"
      ],
      "text/plain": [
       "<IPython.core.display.HTML object>"
      ]
     },
     "metadata": {},
     "output_type": "display_data"
    },
    {
     "data": {
      "text/html": [],
      "text/plain": [
       "<IPython.core.display.HTML object>"
      ]
     },
     "metadata": {},
     "output_type": "display_data"
    },
    {
     "data": {
      "text/html": [
       "\n",
       "<style>\n",
       "    /* Turns off some styling */\n",
       "    progress {\n",
       "        /* gets rid of default border in Firefox and Opera. */\n",
       "        border: none;\n",
       "        /* Needs to be in here for Safari polyfill so background images work as expected. */\n",
       "        background-size: auto;\n",
       "    }\n",
       "    .progress-bar-interrupted, .progress-bar-interrupted::-webkit-progress-bar {\n",
       "        background: #F44336;\n",
       "    }\n",
       "</style>\n"
      ],
      "text/plain": [
       "<IPython.core.display.HTML object>"
      ]
     },
     "metadata": {},
     "output_type": "display_data"
    },
    {
     "data": {
      "text/html": [
       "\n",
       "    <div>\n",
       "      <progress value='0' class='' max='12' style='width:300px; height:20px; vertical-align: middle;'></progress>\n",
       "      \n",
       "    </div>\n",
       "    \n"
      ],
      "text/plain": [
       "<IPython.core.display.HTML object>"
      ]
     },
     "metadata": {},
     "output_type": "display_data"
    },
    {
     "data": {
      "text/html": [
       "\n",
       "<style>\n",
       "    /* Turns off some styling */\n",
       "    progress {\n",
       "        /* gets rid of default border in Firefox and Opera. */\n",
       "        border: none;\n",
       "        /* Needs to be in here for Safari polyfill so background images work as expected. */\n",
       "        background-size: auto;\n",
       "    }\n",
       "    .progress-bar-interrupted, .progress-bar-interrupted::-webkit-progress-bar {\n",
       "        background: #F44336;\n",
       "    }\n",
       "</style>\n"
      ],
      "text/plain": [
       "<IPython.core.display.HTML object>"
      ]
     },
     "metadata": {},
     "output_type": "display_data"
    },
    {
     "data": {
      "text/html": [],
      "text/plain": [
       "<IPython.core.display.HTML object>"
      ]
     },
     "metadata": {},
     "output_type": "display_data"
    }
   ],
   "source": [
    "tta_res=[]\n",
    "prs_items=[]\n",
    "for learn in ensem_learner:\n",
    "    tta_res.append(learn.tta(dl=learn.dls.test_dl(fs)))\n",
    "    if len(prs_items)<1:\n",
    "        prs_items=learn.dl.items\n",
    "\n",
    "tta_prs=first(zip(*tta_res))\n",
    "tta_prs=torch.stack(tta_prs)\n",
    "\n",
    "lbls=[]\n",
    "for i in range(len(c)):\n",
    "    arm_preds = tta_prs[:,:,cfg(i):cfg(i+1)].mean(0);\n",
    "    arm_idxs = arm_preds.argmax(dim=1)\n",
    "    arm_vocab = np.array(vocab[i])\n",
    "    lbls.append(arm_vocab[arm_idxs])\n"
   ]
  },
  {
   "cell_type": "code",
   "execution_count": 12,
   "id": "980198e7-8c1e-417e-986d-f8424d8e57a4",
   "metadata": {},
   "outputs": [],
   "source": [
    "data=[]\n",
    "for l1,l2,l3,l4,f in zip(lbls[0],lbls[1],lbls[2],lbls[3],prs_items):\n",
    "    data.append((f,l1+','+l2+','+l3+','+l4))"
   ]
  },
  {
   "cell_type": "code",
   "execution_count": 16,
   "id": "ba448e81-daa8-4c87-abb9-95a716212bd5",
   "metadata": {},
   "outputs": [],
   "source": [
    "clips_df.set_index('clip_name',inplace=True,drop=True)"
   ]
  },
  {
   "cell_type": "code",
   "execution_count": 17,
   "id": "1557ece1-34ab-41d9-83b2-9b875a11b174",
   "metadata": {},
   "outputs": [],
   "source": [
    "def get_GT_labels(f):\n",
    "    c=str(Path(f).name).rpartition('_')[0]\n",
    "    return clips_df.loc[c,'tools_present']"
   ]
  },
  {
   "cell_type": "code",
   "execution_count": 21,
   "id": "8b6ff04d-c59c-4fa2-bc79-b37c3d5f43d1",
   "metadata": {},
   "outputs": [
    {
     "data": {
      "text/html": [
       "<div>\n",
       "<style scoped>\n",
       "    .dataframe tbody tr th:only-of-type {\n",
       "        vertical-align: middle;\n",
       "    }\n",
       "\n",
       "    .dataframe tbody tr th {\n",
       "        vertical-align: top;\n",
       "    }\n",
       "\n",
       "    .dataframe thead th {\n",
       "        text-align: right;\n",
       "    }\n",
       "</style>\n",
       "<table border=\"1\" class=\"dataframe\">\n",
       "  <thead>\n",
       "    <tr style=\"text-align: right;\">\n",
       "      <th></th>\n",
       "      <th>image_id</th>\n",
       "      <th>PR_labels</th>\n",
       "      <th>GT_labels</th>\n",
       "      <th>accurate_tf</th>\n",
       "    </tr>\n",
       "  </thead>\n",
       "  <tbody>\n",
       "    <tr>\n",
       "      <th>0</th>\n",
       "      <td>data/testing/images/clip_022263_01515.jpg</td>\n",
       "      <td>cadiere_forceps,bipolar_forceps,nan,permanent_cautery_hook_spatula</td>\n",
       "      <td>cadiere_forceps,bipolar_forceps,nan,permanent_cautery_hook_spatula</td>\n",
       "      <td>True</td>\n",
       "    </tr>\n",
       "    <tr>\n",
       "      <th>1</th>\n",
       "      <td>data/testing/images/clip_005441_01020.jpg</td>\n",
       "      <td>prograsp_forceps,bipolar_forceps,nan,clip_applier</td>\n",
       "      <td>prograsp_forceps,bipolar_forceps,nan,clip_applier</td>\n",
       "      <td>True</td>\n",
       "    </tr>\n",
       "    <tr>\n",
       "      <th>2</th>\n",
       "      <td>data/testing/images/clip_016541_01635.jpg</td>\n",
       "      <td>grasping_retractor,cadiere_forceps,nan,needle_driver</td>\n",
       "      <td>grasping_retractor,cadiere_forceps,nan,needle_driver</td>\n",
       "      <td>True</td>\n",
       "    </tr>\n",
       "    <tr>\n",
       "      <th>3</th>\n",
       "      <td>data/testing/images/clip_016649_00570.jpg</td>\n",
       "      <td>grasping_retractor,permanent_cautery_hook_spatula,nan,bipolar_dissector</td>\n",
       "      <td>grasping_retractor,permanent_cautery_hook_spatula,nan,bipolar_dissector</td>\n",
       "      <td>True</td>\n",
       "    </tr>\n",
       "    <tr>\n",
       "      <th>4</th>\n",
       "      <td>data/testing/images/clip_010892_01170.jpg</td>\n",
       "      <td>prograsp_forceps,nan,needle_driver,grasping_retractor</td>\n",
       "      <td>prograsp_forceps,nan,needle_driver,grasping_retractor</td>\n",
       "      <td>True</td>\n",
       "    </tr>\n",
       "  </tbody>\n",
       "</table>\n",
       "</div>"
      ],
      "text/plain": [
       "                                    image_id  \\\n",
       "0  data/testing/images/clip_022263_01515.jpg   \n",
       "1  data/testing/images/clip_005441_01020.jpg   \n",
       "2  data/testing/images/clip_016541_01635.jpg   \n",
       "3  data/testing/images/clip_016649_00570.jpg   \n",
       "4  data/testing/images/clip_010892_01170.jpg   \n",
       "\n",
       "                                                                 PR_labels  \\\n",
       "0       cadiere_forceps,bipolar_forceps,nan,permanent_cautery_hook_spatula   \n",
       "1                        prograsp_forceps,bipolar_forceps,nan,clip_applier   \n",
       "2                     grasping_retractor,cadiere_forceps,nan,needle_driver   \n",
       "3  grasping_retractor,permanent_cautery_hook_spatula,nan,bipolar_dissector   \n",
       "4                    prograsp_forceps,nan,needle_driver,grasping_retractor   \n",
       "\n",
       "                                                                 GT_labels  \\\n",
       "0       cadiere_forceps,bipolar_forceps,nan,permanent_cautery_hook_spatula   \n",
       "1                        prograsp_forceps,bipolar_forceps,nan,clip_applier   \n",
       "2                     grasping_retractor,cadiere_forceps,nan,needle_driver   \n",
       "3  grasping_retractor,permanent_cautery_hook_spatula,nan,bipolar_dissector   \n",
       "4                    prograsp_forceps,nan,needle_driver,grasping_retractor   \n",
       "\n",
       "   accurate_tf  \n",
       "0         True  \n",
       "1         True  \n",
       "2         True  \n",
       "3         True  \n",
       "4         True  "
      ]
     },
     "execution_count": 21,
     "metadata": {},
     "output_type": "execute_result"
    }
   ],
   "source": [
    "df = pd.DataFrame(data,columns=['image_id','PR_labels'])\n",
    "df['GT_labels']=df['image_id'].map(get_GT_labels) \n",
    "df['accurate_tf'] = (df['PR_labels']==df['GT_labels'])\n",
    "df"
   ]
  },
  {
   "cell_type": "code",
   "execution_count": null,
   "id": "de1bfebc-1b4f-4811-b8ed-85ac18303d77",
   "metadata": {},
   "outputs": [],
   "source": []
  }
 ],
 "metadata": {
  "kernelspec": {
   "display_name": "Python 3 (ipykernel)",
   "language": "python",
   "name": "python3"
  },
  "language_info": {
   "codemirror_mode": {
    "name": "ipython",
    "version": 3
   },
   "file_extension": ".py",
   "mimetype": "text/x-python",
   "name": "python",
   "nbconvert_exporter": "python",
   "pygments_lexer": "ipython3",
   "version": "3.9.13"
  }
 },
 "nbformat": 4,
 "nbformat_minor": 5
}
