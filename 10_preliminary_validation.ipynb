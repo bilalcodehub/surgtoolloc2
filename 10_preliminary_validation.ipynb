{
 "cells": [
  {
   "cell_type": "code",
   "execution_count": 1,
   "id": "50b930da-f177-45e0-8195-2c9bb7737e6c",
   "metadata": {},
   "outputs": [],
   "source": [
    "from fastai.vision.all import *\n",
    "from random import randint\n",
    "from ml_utils import *\n",
    "import os"
   ]
  },
  {
   "cell_type": "code",
   "execution_count": 2,
   "id": "b69eea05-b876-44dc-99c8-3f66c0622cff",
   "metadata": {},
   "outputs": [],
   "source": [
    "pd.set_option('display.max_rows', None)"
   ]
  },
  {
   "cell_type": "code",
   "execution_count": 3,
   "id": "6b32fdf0-1447-4e99-bfe1-8592caf89580",
   "metadata": {},
   "outputs": [
    {
     "data": {
      "text/html": [
       "<div>\n",
       "<style scoped>\n",
       "    .dataframe tbody tr th:only-of-type {\n",
       "        vertical-align: middle;\n",
       "    }\n",
       "\n",
       "    .dataframe tbody tr th {\n",
       "        vertical-align: top;\n",
       "    }\n",
       "\n",
       "    .dataframe thead th {\n",
       "        text-align: right;\n",
       "    }\n",
       "</style>\n",
       "<table border=\"1\" class=\"dataframe\">\n",
       "  <thead>\n",
       "    <tr style=\"text-align: right;\">\n",
       "      <th></th>\n",
       "      <th>clip_name</th>\n",
       "      <th>tools_present</th>\n",
       "    </tr>\n",
       "  </thead>\n",
       "  <tbody>\n",
       "    <tr>\n",
       "      <th>0</th>\n",
       "      <td>clip_000000</td>\n",
       "      <td>needle_driver,nan,needle_driver,cadiere_forceps</td>\n",
       "    </tr>\n",
       "    <tr>\n",
       "      <th>1</th>\n",
       "      <td>clip_000001</td>\n",
       "      <td>needle_driver,nan,needle_driver,cadiere_forceps</td>\n",
       "    </tr>\n",
       "    <tr>\n",
       "      <th>2</th>\n",
       "      <td>clip_000002</td>\n",
       "      <td>needle_driver,nan,needle_driver,cadiere_forceps</td>\n",
       "    </tr>\n",
       "    <tr>\n",
       "      <th>3</th>\n",
       "      <td>clip_000003</td>\n",
       "      <td>needle_driver,nan,needle_driver,cadiere_forceps</td>\n",
       "    </tr>\n",
       "    <tr>\n",
       "      <th>4</th>\n",
       "      <td>clip_000004</td>\n",
       "      <td>needle_driver,nan,needle_driver,cadiere_forceps</td>\n",
       "    </tr>\n",
       "  </tbody>\n",
       "</table>\n",
       "</div>"
      ],
      "text/plain": [
       "     clip_name                                    tools_present\n",
       "0  clip_000000  needle_driver,nan,needle_driver,cadiere_forceps\n",
       "1  clip_000001  needle_driver,nan,needle_driver,cadiere_forceps\n",
       "2  clip_000002  needle_driver,nan,needle_driver,cadiere_forceps\n",
       "3  clip_000003  needle_driver,nan,needle_driver,cadiere_forceps\n",
       "4  clip_000004  needle_driver,nan,needle_driver,cadiere_forceps"
      ]
     },
     "execution_count": 3,
     "metadata": {},
     "output_type": "execute_result"
    }
   ],
   "source": [
    "clips_df = pd.read_csv('data/labels.csv')\n",
    "\n",
    "# dropping dangling columns\n",
    "clips_df = clips_df.loc[:, ~clips_df.columns.str.contains('^Unnamed')]\n",
    "\n",
    "def clean_labels(c): return str([(i).strip().replace(\" \", \"_\").replace(\"-\", \"_\").replace(\"/\", \"_\") for i in re.sub(r\"[\\[\\]]\",'',c).split(',')]).replace(\"'\",\"\").strip(\"'\").strip(\"[\").strip(\"]\").replace(\" \",\"\")\n",
    "clips_df['tools_present'] = clips_df['tools_present'].apply(clean_labels)\n",
    "clips_df.head()"
   ]
  },
  {
   "cell_type": "code",
   "execution_count": 4,
   "id": "323fc1f6-53ae-404e-8cd3-7db1141b91b1",
   "metadata": {},
   "outputs": [
    {
     "data": {
      "text/plain": [
       "153"
      ]
     },
     "execution_count": 4,
     "metadata": {},
     "output_type": "execute_result"
    }
   ],
   "source": [
    "df=clips_df.groupby('tools_present').nth(0)\n",
    "len(df)"
   ]
  },
  {
   "cell_type": "code",
   "execution_count": null,
   "id": "31b74814-2eb8-4d20-a590-090c4841ff70",
   "metadata": {},
   "outputs": [],
   "source": [
    "src=Path('data/train_images_crop')\n",
    "dst=Path('data/testing/images')"
   ]
  },
  {
   "cell_type": "code",
   "execution_count": null,
   "id": "86f6dfb0-6680-4ffc-b74a-291665a8483e",
   "metadata": {},
   "outputs": [],
   "source": [
    "for i in get_image_files(dst): os.remove(i) "
   ]
  },
  {
   "cell_type": "code",
   "execution_count": null,
   "id": "a821fb8b-6dc7-4442-bc4d-33104c71ba87",
   "metadata": {},
   "outputs": [],
   "source": [
    "for clip in df.clip_name:\n",
    "    fs = get_image_files(src/clip)\n",
    "    if len(fs)>0:\n",
    "        fno=randint(0,len(fs)-1)\n",
    "        im=PILImage.create(fs[fno])\n",
    "        fn=str(dst)+'/'+clip+'_'+fs[fno].name\n",
    "        im.save(fn)\n",
    "    "
   ]
  },
  {
   "cell_type": "code",
   "execution_count": null,
   "id": "e495c981-9239-4ffe-af07-e15be8f9f2f2",
   "metadata": {},
   "outputs": [],
   "source": [
    "ensem_path=Path(\"test/algorithm/cls\")"
   ]
  },
  {
   "cell_type": "code",
   "execution_count": null,
   "id": "2bb96362-8279-4ebb-871f-492b897a6801",
   "metadata": {},
   "outputs": [],
   "source": [
    "ensem_learner=[load_learner(m, cpu=True) for m in ensem_path.ls() if m.suffix=='.pkl']"
   ]
  },
  {
   "cell_type": "code",
   "execution_count": null,
   "id": "d65fa096-f18c-4b9f-9085-bfebb6eb5f3d",
   "metadata": {},
   "outputs": [],
   "source": [
    "fs=get_image_files(dst);len(fs)"
   ]
  },
  {
   "cell_type": "code",
   "execution_count": null,
   "id": "6c3bf645-8c08-4a76-882c-6b49290e88ce",
   "metadata": {},
   "outputs": [],
   "source": [
    "tta_res=[]\n",
    "prs_items=[]\n",
    "for learn in ensem_learner:\n",
    "    tta_res.append(learn.tta(dl=learn.dls.test_dl(fs)))\n",
    "    if len(prs_items)<1:\n",
    "        prs_items=learn.dl.items\n",
    "\n",
    "tta_prs=first(zip(*tta_res))\n",
    "tta_prs=torch.stack(tta_prs)\n",
    "\n",
    "lbls=[]\n",
    "for i in range(len(c)):\n",
    "    arm_preds = tta_prs[:,:,cfg(i):cfg(i+1)].mean(0);\n",
    "    arm_idxs = arm_preds.argmax(dim=1)\n",
    "    arm_vocab = np.array(vocab[i])\n",
    "    lbls.append(arm_vocab[arm_idxs])\n"
   ]
  },
  {
   "cell_type": "code",
   "execution_count": null,
   "id": "794b1048-a622-4688-9363-96786e8d3e6e",
   "metadata": {},
   "outputs": [],
   "source": [
    "data=[]\n",
    "for lbl,f in zip(lbls,prs_items):\n",
    "    l1,l2,l3,l4=lbls\n",
    "    data.append((f,l1+','+l2+','+l3+','+l4))\n",
    "df = pd.DataFrame(data,columns=['image_id','PR_labels'])\n",
    "df"
   ]
  },
  {
   "cell_type": "code",
   "execution_count": null,
   "id": "980198e7-8c1e-417e-986d-f8424d8e57a4",
   "metadata": {},
   "outputs": [],
   "source": [
    "data=[]\n",
    "for l1,l2,l3,l4,f in zip(lbls[0],lbls[1],lbls[2],lbls[3],prs_items):\n",
    "    print((f,l1+','+l2+','+l3+','+l4))\n",
    "    data.append((f,l1+','+l2+','+l3+','+l4))\n",
    "    data.append((f,l1+','+l2+','+l3+','+l4))"
   ]
  },
  {
   "cell_type": "code",
   "execution_count": null,
   "id": "ba448e81-daa8-4c87-abb9-95a716212bd5",
   "metadata": {},
   "outputs": [],
   "source": [
    "clips_df.set_index('clip_name',inplace=True,drop=True)"
   ]
  },
  {
   "cell_type": "code",
   "execution_count": null,
   "id": "1557ece1-34ab-41d9-83b2-9b875a11b174",
   "metadata": {},
   "outputs": [],
   "source": [
    "def get_GT_labels(f):\n",
    "    c=str(Path(f).name).rpartition('_')[0]\n",
    "    return clips_df.loc[c,'tools_present']"
   ]
  },
  {
   "cell_type": "code",
   "execution_count": null,
   "id": "09e3fa2f-b83a-4ed1-a6ab-89b7a2992849",
   "metadata": {},
   "outputs": [],
   "source": [
    "df = pd.DataFrame(data,columns=['image_id','PR_labels'])\n",
    "# df['GT_labels']=df['image_id'].map(get_GT_labels) \n",
    "# df['accurate_tf'] = (df['PR_labels']==df['GT_labels'])\n",
    "df"
   ]
  },
  {
   "cell_type": "code",
   "execution_count": null,
   "id": "8b6ff04d-c59c-4fa2-bc79-b37c3d5f43d1",
   "metadata": {},
   "outputs": [],
   "source": [
    "df = pd.DataFrame(data,columns=['image_id','PR_labels'])\n",
    "df['GT_labels']=df['image_id'].map(get_GT_labels) \n",
    "df['accurate_tf'] = (df['PR_labels']==df['GT_labels'])\n",
    "df"
   ]
  },
  {
   "cell_type": "code",
   "execution_count": null,
   "id": "83aea1c1-e31f-4f58-bdac-c280d2b9103f",
   "metadata": {},
   "outputs": [],
   "source": []
  }
 ],
 "metadata": {
  "kernelspec": {
   "display_name": "Python 3 (ipykernel)",
   "language": "python",
   "name": "python3"
  },
  "language_info": {
   "codemirror_mode": {
    "name": "ipython",
    "version": 3
   },
   "file_extension": ".py",
   "mimetype": "text/x-python",
   "name": "python",
   "nbconvert_exporter": "python",
   "pygments_lexer": "ipython3",
   "version": "3.9.13"
  }
 },
 "nbformat": 4,
 "nbformat_minor": 5
}
