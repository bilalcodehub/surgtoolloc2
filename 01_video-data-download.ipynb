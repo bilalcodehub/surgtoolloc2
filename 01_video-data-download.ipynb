{
 "cells": [
  {
   "cell_type": "markdown",
   "id": "7531e2ff-02f8-4bb9-8d0d-629de241cb8c",
   "metadata": {},
   "source": [
    "# Install and load all libraries"
   ]
  },
  {
   "cell_type": "code",
   "execution_count": 3,
   "id": "1ccc956c-34dd-439a-99d9-eaf25106260e",
   "metadata": {},
   "outputs": [],
   "source": [
    "from ipywidgets import Video, Image\n",
    "from IPython.display import display\n",
    "from IPython.display import HTML\n",
    "from fastai.vision.all import *\n",
    "from fastcore.parallel import *\n",
    "from tqdm.auto import tqdm\n",
    "import zipfile\n",
    "import shutil\n",
    "import timm\n",
    "import cv2\n",
    "import os"
   ]
  },
  {
   "cell_type": "markdown",
   "id": "918c9c87-0583-4b57-9108-1f894068dc11",
   "metadata": {},
   "source": [
    "# Download and unzip the data\n",
    "\n",
    "Make sure your current directory is `surgtoolloc`"
   ]
  },
  {
   "cell_type": "code",
   "execution_count": null,
   "id": "227323d5-c8e2-415a-a208-c944d74312ef",
   "metadata": {},
   "outputs": [],
   "source": [
    "path=Path(\"./data\")\n",
    "path.mkdir(exist_ok=True)\n",
    "# os.chdir(path)"
   ]
  },
  {
   "cell_type": "code",
   "execution_count": null,
   "id": "3c62f0a0-32f0-473a-9f47-2eb49f1685a5",
   "metadata": {},
   "outputs": [],
   "source": [
    "# !wget https://console.cloud.google.com/storage/browser/isi-surgtoolloc-2022?pli=1"
   ]
  },
  {
   "cell_type": "code",
   "execution_count": 2,
   "id": "fa60b6fe-0f52-403f-9d49-2e7ea74b76ee",
   "metadata": {},
   "outputs": [
    {
     "data": {
      "text/plain": [
       "['08_multitarget-small-models-crop.ipynb',\n",
       " 'LICENSE',\n",
       " '.git',\n",
       " 'TODO List.odt',\n",
       " '05_multitarget-model-full-dataset-sparse.ipynb',\n",
       " '01_basic-data-loading-all-frames-few-videos.ipynb',\n",
       " '06_multitarget-model-full-dataset-sparse-custom-splitter.ipynb',\n",
       " '04_multitarget-model_distr.ipynb',\n",
       " '03_multitarget-model.ipynb',\n",
       " 'm2-multitarget-all-videos-sparse-model-preds.csv',\n",
       " 'data',\n",
       " '02_basic-data-loading-few-frames-all-videos.ipynb',\n",
       " 'Untitled.ipynb',\n",
       " '__pycache__',\n",
       " '07_multitarget-small-models-squish.ipynb',\n",
       " '01_data-prep.ipynb',\n",
       " 'abc.csv',\n",
       " 'README.md',\n",
       " 'images_df.csv',\n",
       " 'm2-multitarget-all-videos-sparse-model-preds-stratified.csv',\n",
       " '.gitignore',\n",
       " 'login.py',\n",
       " 'm1-multitarget.pkl',\n",
       " '.ipynb_checkpoints',\n",
       " '03_baseline-model.ipynb',\n",
       " 'models',\n",
       " 'q.csv']"
      ]
     },
     "execution_count": 2,
     "metadata": {},
     "output_type": "execute_result"
    }
   ],
   "source": [
    "os.listdir()"
   ]
  },
  {
   "cell_type": "code",
   "execution_count": null,
   "id": "722bc536-719c-49d7-903d-0c30558ec363",
   "metadata": {},
   "outputs": [],
   "source": [
    "zf_path = \"surgtoolloc2022_dataset.zip\"\n",
    "\n",
    "with zipfile.ZipFile(zf_path, 'r') as zip_ref:\n",
    "     zip_ref.extractall()\n",
    "\n",
    "shutil.move('_release/training_data/video_clips', 'video_clips')\n",
    "shutil.move('_release/readme.txt', '.')\n",
    "shutil.move('_release/training_data/labels.csv', '.')"
   ]
  },
  {
   "cell_type": "code",
   "execution_count": 6,
   "id": "b88a96eb-6194-462e-be50-97534e7ef245",
   "metadata": {},
   "outputs": [
    {
     "data": {
      "text/plain": [
       "24695"
      ]
     },
     "execution_count": 6,
     "metadata": {},
     "output_type": "execute_result"
    }
   ],
   "source": [
    "video_files = get_files('data/video_clips')\n",
    "len(video_files)"
   ]
  },
  {
   "cell_type": "code",
   "execution_count": 7,
   "id": "9c3e99d8-8ff6-4bb4-946c-1e2dbd8dbd25",
   "metadata": {},
   "outputs": [
    {
     "data": {
      "application/vnd.jupyter.widget-view+json": {
       "model_id": "c23552501b9f46c2bbe37890eaa95b76",
       "version_major": 2,
       "version_minor": 0
      },
      "text/plain": [
       "Video(value=b'\\x00\\x00\\x00 ftypisom\\x00\\x00\\x02\\x00isomiso2avc1mp41\\x00\\x00\\x00\\x08free\\x004\\x8f\\xc8mdat\\x00\\x…"
      ]
     },
     "metadata": {},
     "output_type": "display_data"
    }
   ],
   "source": [
    "video = Video.from_file(video_files[100])\n",
    "video.layout.width='512px'\n",
    "video"
   ]
  },
  {
   "cell_type": "code",
   "execution_count": 8,
   "id": "c3962d4a-4dae-4c3d-b3f5-6ea85725bb93",
   "metadata": {},
   "outputs": [
    {
     "data": {
      "text/plain": [
       "2963400"
      ]
     },
     "execution_count": 8,
     "metadata": {},
     "output_type": "execute_result"
    }
   ],
   "source": [
    "len([i for i in range(1800) if i%15==0])*len(video_files)"
   ]
  },
  {
   "cell_type": "code",
   "execution_count": 31,
   "id": "d428a48b-d41d-4ba7-944c-7307cc8246f2",
   "metadata": {},
   "outputs": [],
   "source": [
    "def extract_images(vf):\n",
    "    \"\"\" \n",
    "    writing frames into its own directory inside the train_images folder\n",
    "    \"\"\"\n",
    "    dst = Path().absolute()/'data/train_images2'/vf.stem\n",
    "    dst.mkdir(exist_ok=True) \n",
    "    vid = cv2.VideoCapture(str(Path().absolute()/vf)) #the video being called\n",
    "    \n",
    "    \"\"\"\n",
    "    choose specific frames\n",
    "    \"\"\"\n",
    "    fns = [i for i in range(1801) if i%15==0]\n",
    "\n",
    "    for fn in fns:\n",
    "        vid.set(1,fn)                               # fn is the frame we want\n",
    "        ret, f = vid.read()                         # read the frame\n",
    "        if ret:\n",
    "            name = str(dst/f'{fn:05}.jpg')              # create fully qualified frame name\n",
    "            cv2.imwrite(name,f)                         # store the frame\n",
    "\n",
    "    vid.release()\n",
    "        "
   ]
  },
  {
   "cell_type": "code",
   "execution_count": 32,
   "id": "a3b61379-8d49-4b9b-9fde-8ab199d1dc74",
   "metadata": {},
   "outputs": [],
   "source": [
    "(Path().absolute()/'data/train_images2').mkdir(exist_ok=True)"
   ]
  },
  {
   "cell_type": "code",
   "execution_count": 33,
   "id": "9e7b828d-e021-4952-ba44-150915314c08",
   "metadata": {},
   "outputs": [
    {
     "name": "stdout",
     "output_type": "stream",
     "text": [
      "CPU times: user 39 s, sys: 9.26 s, total: 48.3 s\n",
      "Wall time: 19h 40min 38s\n"
     ]
    },
    {
     "data": {
      "text/plain": [
       "(#24695) [None,None,None,None,None,None,None,None,None,None...]"
      ]
     },
     "execution_count": 33,
     "metadata": {},
     "output_type": "execute_result"
    }
   ],
   "source": [
    "%time parallel(extract_images, video_files, n_workers=100)"
   ]
  },
  {
   "cell_type": "code",
   "execution_count": null,
   "id": "2c493a1c-1564-4d84-a957-1ec798fdf289",
   "metadata": {},
   "outputs": [],
   "source": [
    "fs = get_image_files('train_images2')"
   ]
  },
  {
   "cell_type": "code",
   "execution_count": null,
   "id": "7f9e3bdc-204f-4171-8548-856f506c3b0f",
   "metadata": {},
   "outputs": [],
   "source": [
    "# def f(i): return PILImage.create(i).size\n",
    "# dims = parallel(f, files[:100000], n_workers=50)\n",
    "# pd.Series(dims).value_counts()"
   ]
  },
  {
   "cell_type": "markdown",
   "id": "a73d062e-c1a6-45bc-9e16-60f6b645a9b5",
   "metadata": {},
   "source": [
    "# Creating a tiny version of the data"
   ]
  },
  {
   "cell_type": "code",
   "execution_count": 7,
   "id": "d337cdaf-dd07-4f3b-aa2a-71f743e523ff",
   "metadata": {},
   "outputs": [],
   "source": [
    "path = Path(\"./data/train_images_tiny\")\n",
    "path.mkdir(exist_ok=True)"
   ]
  },
  {
   "cell_type": "code",
   "execution_count": 8,
   "id": "889da110-482e-4b04-8d76-dd63675f614d",
   "metadata": {},
   "outputs": [],
   "source": [
    "src = Path(\"./data/train_images_small\")\n",
    "dst = Path(\"./data/train_images_tiny\")"
   ]
  },
  {
   "cell_type": "code",
   "execution_count": 23,
   "id": "80b55d4b-89af-4952-a0ac-df1f597289a4",
   "metadata": {},
   "outputs": [],
   "source": [
    "# Copy two images per video clip for fast experimentation\n",
    "for d in src.ls().sorted():\n",
    "    (dst/d.name).mkdir(exist_ok=True)\n",
    "    for f in d.ls().sorted()[:2]:\n",
    "        shutil.copy(f,dst/d.name)"
   ]
  },
  {
   "cell_type": "code",
   "execution_count": null,
   "id": "f15729e8-2146-4708-a1c6-27d68254ebc7",
   "metadata": {},
   "outputs": [],
   "source": []
  }
 ],
 "metadata": {
  "kernelspec": {
   "display_name": "Python 3 (ipykernel)",
   "language": "python",
   "name": "python3"
  },
  "language_info": {
   "codemirror_mode": {
    "name": "ipython",
    "version": 3
   },
   "file_extension": ".py",
   "mimetype": "text/x-python",
   "name": "python",
   "nbconvert_exporter": "python",
   "pygments_lexer": "ipython3",
   "version": "3.9.13"
  }
 },
 "nbformat": 4,
 "nbformat_minor": 5
}
