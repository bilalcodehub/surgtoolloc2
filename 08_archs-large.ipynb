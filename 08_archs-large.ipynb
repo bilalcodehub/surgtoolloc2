{
 "cells": [
  {
   "cell_type": "code",
   "execution_count": 1,
   "id": "b9052d3e-b97d-448d-8d20-69b2772ad5e4",
   "metadata": {},
   "outputs": [],
   "source": [
    "import os\n",
    "os.environ['CUDA_VISIBLE_DEVICES'] = \"0\""
   ]
  },
  {
   "cell_type": "markdown",
   "id": "7531e2ff-02f8-4bb9-8d0d-629de241cb8c",
   "metadata": {},
   "source": [
    "# Install and load all libraries"
   ]
  },
  {
   "cell_type": "code",
   "execution_count": 2,
   "id": "1ccc956c-34dd-439a-99d9-eaf25106260e",
   "metadata": {},
   "outputs": [],
   "source": [
    "from ml_utils import *\n",
    "from fastai.vision.all import *\n",
    "import gc"
   ]
  },
  {
   "cell_type": "markdown",
   "id": "de496b1b-c47d-4cc5-9d99-af4c615009a4",
   "metadata": {},
   "source": [
    "# Creating differe dataloaders"
   ]
  },
  {
   "cell_type": "code",
   "execution_count": 4,
   "id": "1f3e0930-1e9d-49d0-982c-7dc6146dda6a",
   "metadata": {},
   "outputs": [],
   "source": [
    "def train(exp_name,arch,size,item_tfms,epochs=12):\n",
    "    dblock = get_dblock(item_tfms=item_tfms, batch_tfms=[*aug_transforms(size=size, min_scale=1),Normalize.from_stats(*imagenet_stats)])\n",
    "    dls = dblock.dataloaders(images_df, seed=42, n_workers=32)\n",
    "    learn = vision_learner(dls, arch, loss_func=combo_loss, metrics=metrics_cfg, n_out=cfg(4)).to_fp16()\n",
    "    learn.fine_tune(epochs, 0.01)\n",
    "    learn.path=Path('models/small')\n",
    "    learn.export(f'{arch}-model.pkl')\n",
    "    return learn.tta(dl=dls.valid)"
   ]
  },
  {
   "cell_type": "code",
   "execution_count": 5,
   "id": "4bc46a73-8c5c-41df-bd67-cfff48142e15",
   "metadata": {},
   "outputs": [],
   "source": [
    "res = (180,320)"
   ]
  },
  {
   "cell_type": "code",
   "execution_count": 6,
   "id": "c81e92f3-5f35-4480-be91-546e0a3ef73f",
   "metadata": {},
   "outputs": [],
   "source": [
    "archs = {\n",
    "    'convnext_large_in22k': {\n",
    "        (Resize(res, ResizeMethod.Squish), res),\n",
    "    },\n",
    "    # 'vit_large_patch16_224': {\n",
    "    #     (Resize(res, ResizeMethod.Squish), 224),\n",
    "    # },\n",
    "    # 'swinv2_large_window12_192_22k':{\n",
    "    #     (Resize(res, ResizeMethod.Squish), 192),\n",
    "    # },\n",
    "    # 'swin_large_patch4_window7_224': {\n",
    "    #     (Resize(res, ResizeMethod.Squish), 224)\n",
    "    # }\n",
    "}"
   ]
  },
  {
   "cell_type": "code",
   "execution_count": 7,
   "id": "c0ac4638-5079-4fad-9579-b12077870aab",
   "metadata": {},
   "outputs": [
    {
     "name": "stdout",
     "output_type": "stream",
     "text": [
      "---- convnext_large_in22k  --- \n",
      "(180, 320)\n",
      "Resize -- {'size': (320, 180), 'method': 'squish', 'pad_mode': 'reflection', 'resamples': (<Resampling.BILINEAR: 2>, <Resampling.NEAREST: 0>), 'p': 1.0}\n"
     ]
    },
    {
     "data": {
      "text/html": [
       "\n",
       "<style>\n",
       "    /* Turns off some styling */\n",
       "    progress {\n",
       "        /* gets rid of default border in Firefox and Opera. */\n",
       "        border: none;\n",
       "        /* Needs to be in here for Safari polyfill so background images work as expected. */\n",
       "        background-size: auto;\n",
       "    }\n",
       "    .progress-bar-interrupted, .progress-bar-interrupted::-webkit-progress-bar {\n",
       "        background: #F44336;\n",
       "    }\n",
       "</style>\n"
      ],
      "text/plain": [
       "<IPython.core.display.HTML object>"
      ]
     },
     "metadata": {},
     "output_type": "display_data"
    },
    {
     "data": {
      "text/html": [
       "<table border=\"1\" class=\"dataframe\">\n",
       "  <thead>\n",
       "    <tr style=\"text-align: left;\">\n",
       "      <th>epoch</th>\n",
       "      <th>train_loss</th>\n",
       "      <th>valid_loss</th>\n",
       "      <th>usm1_loss</th>\n",
       "      <th>usm2_loss</th>\n",
       "      <th>usm3_loss</th>\n",
       "      <th>usm4_loss</th>\n",
       "      <th>usm1_err</th>\n",
       "      <th>usm2_err</th>\n",
       "      <th>usm3_err</th>\n",
       "      <th>usm4_err</th>\n",
       "      <th>combo_err</th>\n",
       "      <th>time</th>\n",
       "    </tr>\n",
       "  </thead>\n",
       "  <tbody>\n",
       "    <tr>\n",
       "      <td>0</td>\n",
       "      <td>0.307715</td>\n",
       "      <td>0.192122</td>\n",
       "      <td>0.049645</td>\n",
       "      <td>0.025519</td>\n",
       "      <td>0.047642</td>\n",
       "      <td>0.069316</td>\n",
       "      <td>0.015401</td>\n",
       "      <td>0.006746</td>\n",
       "      <td>0.014305</td>\n",
       "      <td>0.020196</td>\n",
       "      <td>0.056647</td>\n",
       "      <td>3:58:16</td>\n",
       "    </tr>\n",
       "  </tbody>\n",
       "</table>"
      ],
      "text/plain": [
       "<IPython.core.display.HTML object>"
      ]
     },
     "metadata": {},
     "output_type": "display_data"
    },
    {
     "data": {
      "text/html": [
       "\n",
       "<style>\n",
       "    /* Turns off some styling */\n",
       "    progress {\n",
       "        /* gets rid of default border in Firefox and Opera. */\n",
       "        border: none;\n",
       "        /* Needs to be in here for Safari polyfill so background images work as expected. */\n",
       "        background-size: auto;\n",
       "    }\n",
       "    .progress-bar-interrupted, .progress-bar-interrupted::-webkit-progress-bar {\n",
       "        background: #F44336;\n",
       "    }\n",
       "</style>\n"
      ],
      "text/plain": [
       "<IPython.core.display.HTML object>"
      ]
     },
     "metadata": {},
     "output_type": "display_data"
    },
    {
     "data": {
      "text/html": [
       "<table border=\"1\" class=\"dataframe\">\n",
       "  <thead>\n",
       "    <tr style=\"text-align: left;\">\n",
       "      <th>epoch</th>\n",
       "      <th>train_loss</th>\n",
       "      <th>valid_loss</th>\n",
       "      <th>usm1_loss</th>\n",
       "      <th>usm2_loss</th>\n",
       "      <th>usm3_loss</th>\n",
       "      <th>usm4_loss</th>\n",
       "      <th>usm1_err</th>\n",
       "      <th>usm2_err</th>\n",
       "      <th>usm3_err</th>\n",
       "      <th>usm4_err</th>\n",
       "      <th>combo_err</th>\n",
       "      <th>time</th>\n",
       "    </tr>\n",
       "  </thead>\n",
       "  <tbody>\n",
       "    <tr>\n",
       "      <td>0</td>\n",
       "      <td>0.040368</td>\n",
       "      <td>0.141305</td>\n",
       "      <td>0.025228</td>\n",
       "      <td>0.018998</td>\n",
       "      <td>0.042918</td>\n",
       "      <td>0.054161</td>\n",
       "      <td>0.005446</td>\n",
       "      <td>0.003385</td>\n",
       "      <td>0.008395</td>\n",
       "      <td>0.010223</td>\n",
       "      <td>0.027448</td>\n",
       "      <td>5:24:32</td>\n",
       "    </tr>\n",
       "    <tr>\n",
       "      <td>1</td>\n",
       "      <td>0.067012</td>\n",
       "      <td>0.176349</td>\n",
       "      <td>0.030096</td>\n",
       "      <td>0.023240</td>\n",
       "      <td>0.054210</td>\n",
       "      <td>0.068803</td>\n",
       "      <td>0.005771</td>\n",
       "      <td>0.004194</td>\n",
       "      <td>0.009176</td>\n",
       "      <td>0.011786</td>\n",
       "      <td>0.030927</td>\n",
       "      <td>5:24:09</td>\n",
       "    </tr>\n",
       "    <tr>\n",
       "      <td>2</td>\n",
       "      <td>0.029946</td>\n",
       "      <td>0.182152</td>\n",
       "      <td>0.032962</td>\n",
       "      <td>0.021880</td>\n",
       "      <td>0.055060</td>\n",
       "      <td>0.072250</td>\n",
       "      <td>0.005032</td>\n",
       "      <td>0.003143</td>\n",
       "      <td>0.008413</td>\n",
       "      <td>0.009125</td>\n",
       "      <td>0.025714</td>\n",
       "      <td>5:24:05</td>\n",
       "    </tr>\n",
       "    <tr>\n",
       "      <td>3</td>\n",
       "      <td>0.029904</td>\n",
       "      <td>0.233869</td>\n",
       "      <td>0.042091</td>\n",
       "      <td>0.020442</td>\n",
       "      <td>0.061456</td>\n",
       "      <td>0.109880</td>\n",
       "      <td>0.005659</td>\n",
       "      <td>0.003050</td>\n",
       "      <td>0.007441</td>\n",
       "      <td>0.010339</td>\n",
       "      <td>0.026488</td>\n",
       "      <td>5:23:56</td>\n",
       "    </tr>\n",
       "    <tr>\n",
       "      <td>4</td>\n",
       "      <td>0.026968</td>\n",
       "      <td>0.214642</td>\n",
       "      <td>0.035120</td>\n",
       "      <td>0.023470</td>\n",
       "      <td>0.070491</td>\n",
       "      <td>0.085563</td>\n",
       "      <td>0.004918</td>\n",
       "      <td>0.003045</td>\n",
       "      <td>0.008665</td>\n",
       "      <td>0.008921</td>\n",
       "      <td>0.025548</td>\n",
       "      <td>5:23:42</td>\n",
       "    </tr>\n",
       "    <tr>\n",
       "      <td>5</td>\n",
       "      <td>0.019042</td>\n",
       "      <td>0.234052</td>\n",
       "      <td>0.046065</td>\n",
       "      <td>0.024765</td>\n",
       "      <td>0.080627</td>\n",
       "      <td>0.082595</td>\n",
       "      <td>0.005084</td>\n",
       "      <td>0.002788</td>\n",
       "      <td>0.008117</td>\n",
       "      <td>0.008557</td>\n",
       "      <td>0.024546</td>\n",
       "      <td>5:23:40</td>\n",
       "    </tr>\n",
       "    <tr>\n",
       "      <td>6</td>\n",
       "      <td>0.019304</td>\n",
       "      <td>0.219377</td>\n",
       "      <td>0.036412</td>\n",
       "      <td>0.022771</td>\n",
       "      <td>0.073268</td>\n",
       "      <td>0.086927</td>\n",
       "      <td>0.004724</td>\n",
       "      <td>0.002627</td>\n",
       "      <td>0.007659</td>\n",
       "      <td>0.008515</td>\n",
       "      <td>0.023526</td>\n",
       "      <td>5:23:29</td>\n",
       "    </tr>\n",
       "    <tr>\n",
       "      <td>7</td>\n",
       "      <td>0.012978</td>\n",
       "      <td>0.222516</td>\n",
       "      <td>0.033438</td>\n",
       "      <td>0.024597</td>\n",
       "      <td>0.074539</td>\n",
       "      <td>0.089942</td>\n",
       "      <td>0.004442</td>\n",
       "      <td>0.003170</td>\n",
       "      <td>0.007736</td>\n",
       "      <td>0.008616</td>\n",
       "      <td>0.023965</td>\n",
       "      <td>5:23:09</td>\n",
       "    </tr>\n",
       "    <tr>\n",
       "      <td>8</td>\n",
       "      <td>0.007243</td>\n",
       "      <td>0.220109</td>\n",
       "      <td>0.038314</td>\n",
       "      <td>0.022526</td>\n",
       "      <td>0.071589</td>\n",
       "      <td>0.087681</td>\n",
       "      <td>0.004062</td>\n",
       "      <td>0.002498</td>\n",
       "      <td>0.007274</td>\n",
       "      <td>0.008100</td>\n",
       "      <td>0.021934</td>\n",
       "      <td>5:23:05</td>\n",
       "    </tr>\n",
       "    <tr>\n",
       "      <td>9</td>\n",
       "      <td>0.004496</td>\n",
       "      <td>0.237740</td>\n",
       "      <td>0.039837</td>\n",
       "      <td>0.026980</td>\n",
       "      <td>0.081338</td>\n",
       "      <td>0.089585</td>\n",
       "      <td>0.003869</td>\n",
       "      <td>0.002522</td>\n",
       "      <td>0.007384</td>\n",
       "      <td>0.007895</td>\n",
       "      <td>0.021671</td>\n",
       "      <td>5:22:45</td>\n",
       "    </tr>\n",
       "    <tr>\n",
       "      <td>10</td>\n",
       "      <td>0.003189</td>\n",
       "      <td>0.223258</td>\n",
       "      <td>0.036100</td>\n",
       "      <td>0.022778</td>\n",
       "      <td>0.076938</td>\n",
       "      <td>0.087443</td>\n",
       "      <td>0.003827</td>\n",
       "      <td>0.002371</td>\n",
       "      <td>0.007275</td>\n",
       "      <td>0.007931</td>\n",
       "      <td>0.021404</td>\n",
       "      <td>5:22:43</td>\n",
       "    </tr>\n",
       "    <tr>\n",
       "      <td>11</td>\n",
       "      <td>0.002710</td>\n",
       "      <td>0.229753</td>\n",
       "      <td>0.036356</td>\n",
       "      <td>0.023876</td>\n",
       "      <td>0.079516</td>\n",
       "      <td>0.090004</td>\n",
       "      <td>0.003727</td>\n",
       "      <td>0.002480</td>\n",
       "      <td>0.007170</td>\n",
       "      <td>0.007934</td>\n",
       "      <td>0.021310</td>\n",
       "      <td>5:22:41</td>\n",
       "    </tr>\n",
       "  </tbody>\n",
       "</table>"
      ],
      "text/plain": [
       "<IPython.core.display.HTML object>"
      ]
     },
     "metadata": {},
     "output_type": "display_data"
    },
    {
     "data": {
      "text/html": [
       "\n",
       "<style>\n",
       "    /* Turns off some styling */\n",
       "    progress {\n",
       "        /* gets rid of default border in Firefox and Opera. */\n",
       "        border: none;\n",
       "        /* Needs to be in here for Safari polyfill so background images work as expected. */\n",
       "        background-size: auto;\n",
       "    }\n",
       "    .progress-bar-interrupted, .progress-bar-interrupted::-webkit-progress-bar {\n",
       "        background: #F44336;\n",
       "    }\n",
       "</style>\n"
      ],
      "text/plain": [
       "<IPython.core.display.HTML object>"
      ]
     },
     "metadata": {},
     "output_type": "display_data"
    },
    {
     "data": {
      "text/html": [
       "\n",
       "    <div>\n",
       "      <progress value='0' class='' max='12' style='width:300px; height:20px; vertical-align: middle;'></progress>\n",
       "      \n",
       "    </div>\n",
       "    \n"
      ],
      "text/plain": [
       "<IPython.core.display.HTML object>"
      ]
     },
     "metadata": {},
     "output_type": "display_data"
    },
    {
     "data": {
      "text/html": [
       "\n",
       "<style>\n",
       "    /* Turns off some styling */\n",
       "    progress {\n",
       "        /* gets rid of default border in Firefox and Opera. */\n",
       "        border: none;\n",
       "        /* Needs to be in here for Safari polyfill so background images work as expected. */\n",
       "        background-size: auto;\n",
       "    }\n",
       "    .progress-bar-interrupted, .progress-bar-interrupted::-webkit-progress-bar {\n",
       "        background: #F44336;\n",
       "    }\n",
       "</style>\n"
      ],
      "text/plain": [
       "<IPython.core.display.HTML object>"
      ]
     },
     "metadata": {},
     "output_type": "display_data"
    },
    {
     "data": {
      "text/html": [],
      "text/plain": [
       "<IPython.core.display.HTML object>"
      ]
     },
     "metadata": {},
     "output_type": "display_data"
    }
   ],
   "source": [
    "tta_res = []\n",
    "\n",
    "for arch, details in archs.items():\n",
    "    for i, s in details:\n",
    "        print('----',arch, ' --- ')\n",
    "        print(s)\n",
    "        print(i.name)\n",
    "        tta_res.append(train('squish', arch, size=s, item_tfms=i))\n",
    "        gc.collect()\n",
    "        torch.cuda.empty_cache()\n"
   ]
  },
  {
   "cell_type": "code",
   "execution_count": 7,
   "id": "125cb2e6-1110-47da-80a6-4989ff5ffdb0",
   "metadata": {},
   "outputs": [],
   "source": [
    "save_pickle('07_archs-large-ensemble-tta_res.pkl', tta_res)"
   ]
  },
  {
   "cell_type": "code",
   "execution_count": 8,
   "id": "8ea0f8d4-d484-478a-8167-cdecceb01b31",
   "metadata": {},
   "outputs": [],
   "source": [
    "def decode_ensemble_result(output):\n",
    "    output = first(zip(*output)) # unzipping preds and targes\n",
    "    output+= output[1:3]        # increase weights of certain models with higher accuracy\n",
    "    output = torch.stack(output)# stacking predctions from all models\n",
    "    labels=[]\n",
    "    df = pd.DataFrame(dls.valid.items)\n",
    "    df.drop(['y1_label','y2_label','y3_label','y4_label','valid'], axis=1, inplace=True)\n",
    "    for i in range(len(dls.c)):\n",
    "        arm_preds = output[:,:,cfg(i):cfg(i+1)].mean(0);\n",
    "        arm_idxs = arm_preds.argmax(dim=1)\n",
    "        arm_vocab = np.array(dls.vocab[i])\n",
    "        df[f'y{i+1}_label'] = arm_vocab[arm_idxs]\n",
    "        \n",
    "    df['labels_pred'] = '['+ df['y1_label']+', '+df['y2_label']+', '+df['y3_label']+', '+df['y4_label']+']'\n",
    "    df['accurate_tf'] = (df['labels']==df['labels_pred'])\n",
    "    df.drop(['y1_label','y2_label','y3_label','y4_label'], axis=1, inplace=True)\n",
    "    return df"
   ]
  },
  {
   "cell_type": "code",
   "execution_count": 10,
   "id": "77d2c205-f885-4799-8a17-8d315dc68b74",
   "metadata": {},
   "outputs": [
    {
     "data": {
      "text/plain": [
       "True     98.237439\n",
       "False     1.762561\n",
       "Name: accurate_tf, dtype: float64"
      ]
     },
     "execution_count": 10,
     "metadata": {},
     "output_type": "execute_result"
    }
   ],
   "source": [
    "output_df = decode_ensemble_result(tta_res)\n",
    "output_df.to_csv('07_archs-larger-ensemble-results.csv', index=False)\n",
    "output_df['accurate_tf'].value_counts()/len(output_df)*100"
   ]
  },
  {
   "cell_type": "code",
   "execution_count": null,
   "id": "fa8b3323-e53e-4b8d-907e-789f72727397",
   "metadata": {},
   "outputs": [],
   "source": [
    "tta_prs = first(zip(*tta_res))"
   ]
  },
  {
   "cell_type": "code",
   "execution_count": null,
   "id": "ba90f7f1-ff5c-459e-8667-822790bea12c",
   "metadata": {},
   "outputs": [],
   "source": [
    "tta_prs+= tta_prs[1:3]"
   ]
  },
  {
   "cell_type": "code",
   "execution_count": null,
   "id": "03d2eaae-1a65-419e-9398-5cbd9ef7727c",
   "metadata": {},
   "outputs": [],
   "source": [
    "avg_pr = torch.stack(tta_prs).mean(0)"
   ]
  },
  {
   "cell_type": "code",
   "execution_count": null,
   "id": "d9603f8e-ed52-42ff-9c04-79133c5173c0",
   "metadata": {},
   "outputs": [],
   "source": [
    "tta_prs1 = tta_prs[:][:,:cfg(1)]"
   ]
  },
  {
   "cell_type": "code",
   "execution_count": null,
   "id": "84ee8e0b-77f9-4350-81e7-4ba58531d874",
   "metadata": {},
   "outputs": [],
   "source": [
    "tta_prs[0][:,cfg(1):cfg(2)].shape"
   ]
  },
  {
   "cell_type": "code",
   "execution_count": null,
   "id": "1c57ea28-c169-443e-94d0-ce418c00dfeb",
   "metadata": {},
   "outputs": [],
   "source": [
    "dblock.dataloaders??"
   ]
  },
  {
   "cell_type": "code",
   "execution_count": null,
   "id": "c7a6d42c-4f99-44d6-87e3-d63d54b4f7e1",
   "metadata": {},
   "outputs": [],
   "source": []
  }
 ],
 "metadata": {
  "kernelspec": {
   "display_name": "Python 3 (ipykernel)",
   "language": "python",
   "name": "python3"
  },
  "language_info": {
   "codemirror_mode": {
    "name": "ipython",
    "version": 3
   },
   "file_extension": ".py",
   "mimetype": "text/x-python",
   "name": "python",
   "nbconvert_exporter": "python",
   "pygments_lexer": "ipython3",
   "version": "3.9.13"
  }
 },
 "nbformat": 4,
 "nbformat_minor": 5
}
